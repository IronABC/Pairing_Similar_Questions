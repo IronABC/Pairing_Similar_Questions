{
  "nbformat": 4,
  "nbformat_minor": 0,
  "metadata": {
    "colab": {
      "name": "Quora Question Pairing Project.ipynb",
      "provenance": [],
      "collapsed_sections": []
    },
    "kernelspec": {
      "name": "python3",
      "display_name": "Python 3"
    },
    "accelerator": "GPU"
  },
  "cells": [
    {
      "cell_type": "code",
      "metadata": {
        "id": "jVWSmMiAk3NS",
        "colab": {
          "base_uri": "https://localhost:8080/"
        },
        "outputId": "e69e36dc-7db3-4cf2-82eb-e26097293864"
      },
      "source": [
        "from google.colab import drive\n",
        "drive.mount(\"/content/drive\")"
      ],
      "execution_count": 1,
      "outputs": [
        {
          "output_type": "stream",
          "text": [
            "Mounted at /content/drive\n"
          ],
          "name": "stdout"
        }
      ]
    },
    {
      "cell_type": "code",
      "metadata": {
        "id": "CjqrjloulaDk"
      },
      "source": [
        "import pandas as pd\n",
        "import numpy as np\n",
        "import matplotlib.pyplot as plt\n",
        "import seaborn as sns\n",
        "data_frame = pd.read_csv('/content/drive/My Drive/data_set/train.csv')"
      ],
      "execution_count": 2,
      "outputs": []
    },
    {
      "cell_type": "code",
      "metadata": {
        "id": "rItAD-P-F0Ge",
        "colab": {
          "base_uri": "https://localhost:8080/",
          "height": 195
        },
        "outputId": "31a625c6-ea29-4c47-afd6-3fd770ecaf1c"
      },
      "source": [
        "data_frame.head()"
      ],
      "execution_count": null,
      "outputs": [
        {
          "output_type": "execute_result",
          "data": {
            "text/html": [
              "<div>\n",
              "<style scoped>\n",
              "    .dataframe tbody tr th:only-of-type {\n",
              "        vertical-align: middle;\n",
              "    }\n",
              "\n",
              "    .dataframe tbody tr th {\n",
              "        vertical-align: top;\n",
              "    }\n",
              "\n",
              "    .dataframe thead th {\n",
              "        text-align: right;\n",
              "    }\n",
              "</style>\n",
              "<table border=\"1\" class=\"dataframe\">\n",
              "  <thead>\n",
              "    <tr style=\"text-align: right;\">\n",
              "      <th></th>\n",
              "      <th>id</th>\n",
              "      <th>qid1</th>\n",
              "      <th>qid2</th>\n",
              "      <th>question1</th>\n",
              "      <th>question2</th>\n",
              "      <th>is_duplicate</th>\n",
              "    </tr>\n",
              "  </thead>\n",
              "  <tbody>\n",
              "    <tr>\n",
              "      <th>0</th>\n",
              "      <td>0</td>\n",
              "      <td>1</td>\n",
              "      <td>2</td>\n",
              "      <td>What is the step by step guide to invest in sh...</td>\n",
              "      <td>What is the step by step guide to invest in sh...</td>\n",
              "      <td>0</td>\n",
              "    </tr>\n",
              "    <tr>\n",
              "      <th>1</th>\n",
              "      <td>1</td>\n",
              "      <td>3</td>\n",
              "      <td>4</td>\n",
              "      <td>What is the story of Kohinoor (Koh-i-Noor) Dia...</td>\n",
              "      <td>What would happen if the Indian government sto...</td>\n",
              "      <td>0</td>\n",
              "    </tr>\n",
              "    <tr>\n",
              "      <th>2</th>\n",
              "      <td>2</td>\n",
              "      <td>5</td>\n",
              "      <td>6</td>\n",
              "      <td>How can I increase the speed of my internet co...</td>\n",
              "      <td>How can Internet speed be increased by hacking...</td>\n",
              "      <td>0</td>\n",
              "    </tr>\n",
              "    <tr>\n",
              "      <th>3</th>\n",
              "      <td>3</td>\n",
              "      <td>7</td>\n",
              "      <td>8</td>\n",
              "      <td>Why am I mentally very lonely? How can I solve...</td>\n",
              "      <td>Find the remainder when [math]23^{24}[/math] i...</td>\n",
              "      <td>0</td>\n",
              "    </tr>\n",
              "    <tr>\n",
              "      <th>4</th>\n",
              "      <td>4</td>\n",
              "      <td>9</td>\n",
              "      <td>10</td>\n",
              "      <td>Which one dissolve in water quikly sugar, salt...</td>\n",
              "      <td>Which fish would survive in salt water?</td>\n",
              "      <td>0</td>\n",
              "    </tr>\n",
              "  </tbody>\n",
              "</table>\n",
              "</div>"
            ],
            "text/plain": [
              "   id  qid1  ...                                          question2 is_duplicate\n",
              "0   0     1  ...  What is the step by step guide to invest in sh...            0\n",
              "1   1     3  ...  What would happen if the Indian government sto...            0\n",
              "2   2     5  ...  How can Internet speed be increased by hacking...            0\n",
              "3   3     7  ...  Find the remainder when [math]23^{24}[/math] i...            0\n",
              "4   4     9  ...            Which fish would survive in salt water?            0\n",
              "\n",
              "[5 rows x 6 columns]"
            ]
          },
          "metadata": {
            "tags": []
          },
          "execution_count": 3
        }
      ]
    },
    {
      "cell_type": "code",
      "metadata": {
        "id": "vRrrYyPKGFBx",
        "colab": {
          "base_uri": "https://localhost:8080/"
        },
        "outputId": "2af290fc-03c3-425d-81f4-001c5c85a179"
      },
      "source": [
        "data_frame.shape"
      ],
      "execution_count": 3,
      "outputs": [
        {
          "output_type": "execute_result",
          "data": {
            "text/plain": [
              "(404290, 6)"
            ]
          },
          "metadata": {
            "tags": []
          },
          "execution_count": 3
        }
      ]
    },
    {
      "cell_type": "code",
      "metadata": {
        "id": "FGL2HqHTpAfp",
        "colab": {
          "base_uri": "https://localhost:8080/"
        },
        "outputId": "b5ac9172-29d3-4c65-f6fb-ced197eb5aeb"
      },
      "source": [
        "data_frame[data_frame.isnull().any(axis=1)].count()"
      ],
      "execution_count": 4,
      "outputs": [
        {
          "output_type": "execute_result",
          "data": {
            "text/plain": [
              "id              3\n",
              "qid1            3\n",
              "qid2            3\n",
              "question1       2\n",
              "question2       1\n",
              "is_duplicate    3\n",
              "dtype: int64"
            ]
          },
          "metadata": {
            "tags": []
          },
          "execution_count": 4
        }
      ]
    },
    {
      "cell_type": "code",
      "metadata": {
        "id": "7NkFxRhjxiiv",
        "colab": {
          "base_uri": "https://localhost:8080/"
        },
        "outputId": "502b1431-28ca-417f-e8e8-16b48458ccb8"
      },
      "source": [
        "data_frame.dropna(axis=0, how='any', inplace=True)\n",
        "data_frame.shape"
      ],
      "execution_count": 5,
      "outputs": [
        {
          "output_type": "execute_result",
          "data": {
            "text/plain": [
              "(404287, 6)"
            ]
          },
          "metadata": {
            "tags": []
          },
          "execution_count": 5
        }
      ]
    },
    {
      "cell_type": "code",
      "metadata": {
        "id": "WrSif6o6zH_p",
        "colab": {
          "base_uri": "https://localhost:8080/"
        },
        "outputId": "d4779f76-836a-4eae-b0ec-1b99990c639d"
      },
      "source": [
        "data_frame[data_frame.isnull().any(axis=1)].count()"
      ],
      "execution_count": 6,
      "outputs": [
        {
          "output_type": "execute_result",
          "data": {
            "text/plain": [
              "id              0\n",
              "qid1            0\n",
              "qid2            0\n",
              "question1       0\n",
              "question2       0\n",
              "is_duplicate    0\n",
              "dtype: int64"
            ]
          },
          "metadata": {
            "tags": []
          },
          "execution_count": 6
        }
      ]
    },
    {
      "cell_type": "code",
      "metadata": {
        "id": "Nj9am1FQ2lfV",
        "colab": {
          "base_uri": "https://localhost:8080/",
          "height": 393
        },
        "outputId": "b250813e-c5b0-4d74-a999-814226b722db"
      },
      "source": [
        "is_dup = data_frame['is_duplicate'].value_counts()\n",
        "plt.figure(figsize=(5,5))\n",
        "sns.barplot(is_dup.index, is_dup.values)\n",
        "plt.xlabel(\"Is Duplicate\", fontsize=15, color='w')\n",
        "plt.ylabel('Counts', fontsize=15, color='w')\n",
        "plt.show()"
      ],
      "execution_count": 7,
      "outputs": [
        {
          "output_type": "stream",
          "text": [
            "/usr/local/lib/python3.6/dist-packages/seaborn/_decorators.py:43: FutureWarning: Pass the following variables as keyword args: x, y. From version 0.12, the only valid positional argument will be `data`, and passing other arguments without an explicit keyword will result in an error or misinterpretation.\n",
            "  FutureWarning\n"
          ],
          "name": "stderr"
        },
        {
          "output_type": "display_data",
          "data": {
            "image/png": "[encoded data removed]",
            "text/plain": [
              "<Figure size 360x360 with 1 Axes>"
            ]
          },
          "metadata": {
            "tags": [],
            "needs_background": "light"
          }
        }
      ]
    },
    {
      "cell_type": "code",
      "metadata": {
        "id": "upexD2CxHGo3",
        "colab": {
          "base_uri": "https://localhost:8080/"
        },
        "outputId": "902523c7-280c-4c70-dd64-67e4562de696"
      },
      "source": [
        "train_qs = pd.Series(data_frame['question1'].tolist()+data_frame['question2'].tolist(), ).astype(str)\n",
        "train_qs.shape[0]/data_frame.shape[0]"
      ],
      "execution_count": 8,
      "outputs": [
        {
          "output_type": "execute_result",
          "data": {
            "text/plain": [
              "2.0"
            ]
          },
          "metadata": {
            "tags": []
          },
          "execution_count": 8
        }
      ]
    },
    {
      "cell_type": "code",
      "metadata": {
        "id": "NNMq1uJZpM2y",
        "colab": {
          "base_uri": "https://localhost:8080/",
          "height": 35
        },
        "outputId": "661f8201-4d44-425b-ead2-1622e54c7e1a"
      },
      "source": [
        "train_qs[0]"
      ],
      "execution_count": 9,
      "outputs": [
        {
          "output_type": "execute_result",
          "data": {
            "application/vnd.google.colaboratory.intrinsic+json": {
              "type": "string"
            },
            "text/plain": [
              "'What is the step by step guide to invest in share market in india?'"
            ]
          },
          "metadata": {
            "tags": []
          },
          "execution_count": 9
        }
      ]
    },
    {
      "cell_type": "code",
      "metadata": {
        "id": "D68ozqjvpAx2",
        "colab": {
          "base_uri": "https://localhost:8080/",
          "height": 410
        },
        "outputId": "368a820b-b6aa-4546-9af0-c96ca1c12935"
      },
      "source": [
        "all_ques = train_qs.apply(lambda x: len(str(x).split()))\n",
        "cnt = all_ques.value_counts()\n",
        "plt.figure(figsize=(20, 5))\n",
        "sns.barplot(cnt.index, cnt.values)\n",
        "plt.ylabel('No of questions', fontsize=15, color='w')\n",
        "plt.xlabel('No of words in question', fontsize=15, color='w')"
      ],
      "execution_count": 10,
      "outputs": [
        {
          "output_type": "stream",
          "text": [
            "/usr/local/lib/python3.6/dist-packages/seaborn/_decorators.py:43: FutureWarning: Pass the following variables as keyword args: x, y. From version 0.12, the only valid positional argument will be `data`, and passing other arguments without an explicit keyword will result in an error or misinterpretation.\n",
            "  FutureWarning\n"
          ],
          "name": "stderr"
        },
        {
          "output_type": "execute_result",
          "data": {
            "text/plain": [
              "Text(0.5, 0, 'No of words in question')"
            ]
          },
          "metadata": {
            "tags": []
          },
          "execution_count": 10
        },
        {
          "output_type": "display_data",
          "data": {
            "image/png": "[encoded data removed]",
            "text/plain": [
              "<Figure size 1440x360 with 1 Axes>"
            ]
          },
          "metadata": {
            "tags": [],
            "needs_background": "light"
          }
        }
      ]
    },
    {
      "cell_type": "code",
      "metadata": {
        "id": "aBs2m2dEt1H6",
        "colab": {
          "base_uri": "https://localhost:8080/",
          "height": 410
        },
        "outputId": "65c3a02c-f51a-402b-a8d1-7fdbf167ed80"
      },
      "source": [
        "char_len = train_qs.apply(lambda x: len(str(x)))\n",
        "cnt = char_len.value_counts()\n",
        "plt.figure(figsize=(9, 5))\n",
        "sns.barplot(cnt.index, cnt.values)\n",
        "plt.ylabel('No of questions', fontsize=15, color='w')\n",
        "plt.xlabel('No of characters in question', fontsize=15, color='w')"
      ],
      "execution_count": 11,
      "outputs": [
        {
          "output_type": "stream",
          "text": [
            "/usr/local/lib/python3.6/dist-packages/seaborn/_decorators.py:43: FutureWarning: Pass the following variables as keyword args: x, y. From version 0.12, the only valid positional argument will be `data`, and passing other arguments without an explicit keyword will result in an error or misinterpretation.\n",
            "  FutureWarning\n"
          ],
          "name": "stderr"
        },
        {
          "output_type": "execute_result",
          "data": {
            "text/plain": [
              "Text(0.5, 0, 'No of characters in question')"
            ]
          },
          "metadata": {
            "tags": []
          },
          "execution_count": 11
        },
        {
          "output_type": "display_data",
          "data": {
            "image/png": "[encoded data removed]",
            "text/plain": [
              "<Figure size 648x360 with 1 Axes>"
            ]
          },
          "metadata": {
            "tags": [],
            "needs_background": "light"
          }
        }
      ]
    },
    {
      "cell_type": "code",
      "metadata": {
        "id": "n8D2U4OOJ70A",
        "colab": {
          "base_uri": "https://localhost:8080/"
        },
        "outputId": "55181e33-3e90-4233-ac42-7718740d5ec9"
      },
      "source": [
        "word = \" \".join(train_qs).lower().split()\n",
        "print(\"length of word = {} \\nFirst word = {}\".format(len(word), word[0]))"
      ],
      "execution_count": 12,
      "outputs": [
        {
          "output_type": "stream",
          "text": [
            "length of word = 8944556 \n",
            "First word = what\n"
          ],
          "name": "stdout"
        }
      ]
    },
    {
      "cell_type": "code",
      "metadata": {
        "id": "8seSHWyaNCYa",
        "colab": {
          "base_uri": "https://localhost:8080/"
        },
        "outputId": "0f8ff532-5cf6-4b1e-ec39-035ebffcfce1"
      },
      "source": [
        "#counting the frequenct of each word and storing it in a container named counts \n",
        "from collections import Counter\n",
        "counts = Counter(word)\n",
        "counts['what']"
      ],
      "execution_count": 13,
      "outputs": [
        {
          "output_type": "execute_result",
          "data": {
            "text/plain": [
              "310962"
            ]
          },
          "metadata": {
            "tags": []
          },
          "execution_count": 13
        }
      ]
    },
    {
      "cell_type": "code",
      "metadata": {
        "id": "iK05VE6iO_jD"
      },
      "source": [
        "#now setting up weight for each word\n",
        "def get_weight(count, epsilon=10000, min_count=2):\n",
        "  return 0 if count<min_count else 1/(count+epsilon)\n",
        "weights = {word:get_weight(count) for word, count in counts.items()}"
      ],
      "execution_count": 14,
      "outputs": []
    },
    {
      "cell_type": "code",
      "metadata": {
        "id": "BdYJKMVtZkc-",
        "colab": {
          "base_uri": "https://localhost:8080/"
        },
        "outputId": "651e3395-d86b-49be-cb84-02bd371033ba"
      },
      "source": [
        "import nltk\n",
        "nltk.download('stopwords')\n",
        "stop_words = set(nltk.corpus.stopwords.words('english'))"
      ],
      "execution_count": 15,
      "outputs": [
        {
          "output_type": "stream",
          "text": [
            "[nltk_data] Downloading package stopwords to /root/nltk_data...\n",
            "[nltk_data]   Unzipping corpora/stopwords.zip.\n"
          ],
          "name": "stdout"
        }
      ]
    },
    {
      "cell_type": "code",
      "metadata": {
        "id": "k56mM_IJbjkB"
      },
      "source": [
        "x = pd.DataFrame()"
      ],
      "execution_count": 16,
      "outputs": []
    },
    {
      "cell_type": "code",
      "metadata": {
        "id": "HlLTEcFTBUFl"
      },
      "source": [
        ""
      ],
      "execution_count": 16,
      "outputs": []
    },
    {
      "cell_type": "code",
      "metadata": {
        "id": "HS5sxUY0diyX",
        "colab": {
          "base_uri": "https://localhost:8080/"
        },
        "outputId": "b16894f1-0db2-4f0d-f3d5-10465d981b9e"
      },
      "source": [
        "q1_list = str(data_frame['question1']).lower().split()\n",
        "q1 = set(q1_list)\n",
        "q1_words = q1.difference(stop_words)\n",
        "\n",
        "q2_list = str(data_frame['question2']).lower().split()\n",
        "q2 = set(q2_list)\n",
        "q2_words = q2.difference(stop_words)\n",
        "\n",
        "q1_stop = q1.intersection(stop_words) \n",
        "q2_stop = q2.intersection(stop_words)\n",
        "\n",
        "q1_bigram = set([i for i in zip(q1_list, q1_list[1:])])\n",
        "q2_bigram = set([i for i in zip(q2_list, q2_list[1:])])\n",
        "\n",
        "common_bigram = q1_bigram.intersection(q2_bigram)\n",
        "common_words = q1.intersection(q2)\n",
        "\n",
        "q1_weights = [weights.get(wrd, 0) for wrd in q1_words]\n",
        "q2_weights = [weights.get(wrd, 0) for wrd in q2_words]\n",
        "common_weight = [weights.get(wrd, 0) for wrd in common_words]\n",
        "total_weights = q1_weights + q2_weights\n",
        "\n",
        "Rcosine_denominator = (np.sqrt(np.dot(q1_weights,q1_weights))*np.sqrt(np.dot(q2_weights,q2_weights)))\n",
        "Rcosine_denominator"
      ],
      "execution_count": 17,
      "outputs": [
        {
          "output_type": "execute_result",
          "data": {
            "text/plain": [
              "2.706750662013945e-07"
            ]
          },
          "metadata": {
            "tags": []
          },
          "execution_count": 17
        }
      ]
    },
    {
      "cell_type": "code",
      "metadata": {
        "id": "mdk2YQP4ySWn"
      },
      "source": [
        "word_hamming = sum(1 for i in zip(q1_list, q2_list) if i[0]==i[1] )/max(len(q1_list), len(q2_list))"
      ],
      "execution_count": 18,
      "outputs": []
    },
    {
      "cell_type": "code",
      "metadata": {
        "id": "rXUipffphTXV"
      },
      "source": [
        "def word_shares(row):\n",
        "  q1_list = str(row[3]).lower().split()\n",
        "  q1 = set(q1_list)\n",
        "  q1words = q1.difference(stop_words)\n",
        "  if len(q1words) == 0:\n",
        "      return '0:0:0:0:0:0:0:0'\n",
        "  \n",
        "  q2_list = str(row[4]).lower().split()\n",
        "  q2 = set(q2_list)\n",
        "  q2words = q2.difference(stop_words)\n",
        "  if len(q2words) == 0:\n",
        "      return '0:0:0:0:0:0:0:0'\n",
        "  words_hamming = sum(1 for i in zip(q1_list, q2_list) if i[0]==i[1])/max(len(q1_list), len(q2_list))\n",
        "  q1stops = q1.intersection(stop_words)\n",
        "  q2stops = q2.intersection(stop_words)\n",
        "  q1_2gram = set([i for i in zip(q1_list, q1_list[1:])])\n",
        "  q2_2gram = set([i for i in zip(q2_list, q2_list[1:])])\n",
        "  shared_2gram = q1_2gram.intersection(q2_2gram)\n",
        "  shared_words = q1words.intersection(q2words)\n",
        "  shared_weights = [weights.get(w, 0) for w in shared_words]\n",
        "  q1_weights = [weights.get(w, 0) for w in q1words]\n",
        "  q2_weights = [weights.get(w, 0) for w in q2words]\n",
        "  total_weights = q1_weights + q1_weights\n",
        "  \n",
        "  R1 = np.sum(shared_weights) / np.sum(total_weights) #tfidf share\n",
        "  R2 = len(shared_words) / (len(q1words) + len(q2words) - len(shared_words)) #count share\n",
        "  R31 = len(q1stops) / len(q1words) #stops in q1\n",
        "  R32 = len(q2stops) / len(q2words) #stops in q2\n",
        "  Rcosine_denominator = (np.sqrt(np.dot(q1_weights,q1_weights))*np.sqrt(np.dot(q2_weights,q2_weights)))\n",
        "  Rcosine = np.dot(shared_weights, shared_weights)/Rcosine_denominator\n",
        "  if len(q1_2gram) + len(q2_2gram) == 0:\n",
        "      R2gram = 0\n",
        "  else:\n",
        "      R2gram = len(shared_2gram) / (len(q1_2gram) + len(q2_2gram))\n",
        "  return '{}:{}:{}:{}:{}:{}:{}:{}'.format(R1, R2, len(shared_words), R31, R32, R2gram, Rcosine, words_hamming)"
      ],
      "execution_count": 36,
      "outputs": []
    },
    {
      "cell_type": "code",
      "metadata": {
        "id": "EbWGGlEvjxSS",
        "colab": {
          "base_uri": "https://localhost:8080/"
        },
        "outputId": "44f7cc36-81f2-4acd-9abd-42967b870484"
      },
      "source": [
        "data_frame.head()\n",
        "data_frame['word_shares'] = data_frame.apply(word_shares, axis=1, raw=True)"
      ],
      "execution_count": 37,
      "outputs": [
        {
          "output_type": "stream",
          "text": [
            "/usr/local/lib/python3.6/dist-packages/ipykernel_launcher.py:25: RuntimeWarning: invalid value encountered in double_scalars\n",
            "/usr/local/lib/python3.6/dist-packages/ipykernel_launcher.py:30: RuntimeWarning: invalid value encountered in true_divide\n"
          ],
          "name": "stderr"
        }
      ]
    },
    {
      "cell_type": "code",
      "metadata": {
        "colab": {
          "base_uri": "https://localhost:8080/",
          "height": 195
        },
        "id": "krym1luK1dQk",
        "outputId": "fbd1eee0-e04e-4516-debb-31bb0a7a1d40"
      },
      "source": [
        "data_frame.head()"
      ],
      "execution_count": 38,
      "outputs": [
        {
          "output_type": "execute_result",
          "data": {
            "text/html": [
              "<div>\n",
              "<style scoped>\n",
              "    .dataframe tbody tr th:only-of-type {\n",
              "        vertical-align: middle;\n",
              "    }\n",
              "\n",
              "    .dataframe tbody tr th {\n",
              "        vertical-align: top;\n",
              "    }\n",
              "\n",
              "    .dataframe thead th {\n",
              "        text-align: right;\n",
              "    }\n",
              "</style>\n",
              "<table border=\"1\" class=\"dataframe\">\n",
              "  <thead>\n",
              "    <tr style=\"text-align: right;\">\n",
              "      <th></th>\n",
              "      <th>id</th>\n",
              "      <th>qid1</th>\n",
              "      <th>qid2</th>\n",
              "      <th>question1</th>\n",
              "      <th>question2</th>\n",
              "      <th>is_duplicate</th>\n",
              "      <th>word_shares</th>\n",
              "    </tr>\n",
              "  </thead>\n",
              "  <tbody>\n",
              "    <tr>\n",
              "      <th>0</th>\n",
              "      <td>0</td>\n",
              "      <td>1</td>\n",
              "      <td>2</td>\n",
              "      <td>What is the step by step guide to invest in sh...</td>\n",
              "      <td>What is the step by step guide to invest in sh...</td>\n",
              "      <td>0</td>\n",
              "      <td>0.37255953567519445:0.5714285714285714:4:1.0:1...</td>\n",
              "    </tr>\n",
              "    <tr>\n",
              "      <th>1</th>\n",
              "      <td>1</td>\n",
              "      <td>3</td>\n",
              "      <td>4</td>\n",
              "      <td>What is the story of Kohinoor (Koh-i-Noor) Dia...</td>\n",
              "      <td>What would happen if the Indian government sto...</td>\n",
              "      <td>0</td>\n",
              "      <td>0.2565225100964912:0.18181818181818182:2:1.0:0...</td>\n",
              "    </tr>\n",
              "    <tr>\n",
              "      <th>2</th>\n",
              "      <td>2</td>\n",
              "      <td>5</td>\n",
              "      <td>6</td>\n",
              "      <td>How can I increase the speed of my internet co...</td>\n",
              "      <td>How can Internet speed be increased by hacking...</td>\n",
              "      <td>0</td>\n",
              "      <td>0.17150662515468013:0.2222222222222222:2:1.333...</td>\n",
              "    </tr>\n",
              "    <tr>\n",
              "      <th>3</th>\n",
              "      <td>3</td>\n",
              "      <td>7</td>\n",
              "      <td>8</td>\n",
              "      <td>Why am I mentally very lonely? How can I solve...</td>\n",
              "      <td>Find the remainder when [math]23^{24}[/math] i...</td>\n",
              "      <td>0</td>\n",
              "      <td>0.0:0.0:0:1.5:0.8:0.0:0.0:0.0</td>\n",
              "    </tr>\n",
              "    <tr>\n",
              "      <th>4</th>\n",
              "      <td>4</td>\n",
              "      <td>9</td>\n",
              "      <td>10</td>\n",
              "      <td>Which one dissolve in water quikly sugar, salt...</td>\n",
              "      <td>Which fish would survive in salt water?</td>\n",
              "      <td>0</td>\n",
              "      <td>0.0:0.0:0:0.3:0.4:0.0:0.0:0.07692307692307693</td>\n",
              "    </tr>\n",
              "  </tbody>\n",
              "</table>\n",
              "</div>"
            ],
            "text/plain": [
              "   id  qid1  ...  is_duplicate                                        word_shares\n",
              "0   0     1  ...             0  0.37255953567519445:0.5714285714285714:4:1.0:1...\n",
              "1   1     3  ...             0  0.2565225100964912:0.18181818181818182:2:1.0:0...\n",
              "2   2     5  ...             0  0.17150662515468013:0.2222222222222222:2:1.333...\n",
              "3   3     7  ...             0                      0.0:0.0:0:1.5:0.8:0.0:0.0:0.0\n",
              "4   4     9  ...             0      0.0:0.0:0:0.3:0.4:0.0:0.0:0.07692307692307693\n",
              "\n",
              "[5 rows x 7 columns]"
            ]
          },
          "metadata": {
            "tags": []
          },
          "execution_count": 38
        }
      ]
    },
    {
      "cell_type": "code",
      "metadata": {
        "id": "6zNqTNt8j1sL",
        "colab": {
          "base_uri": "https://localhost:8080/"
        },
        "outputId": "d16b9bea-2cd0-4d97-c551-0d4448058943"
      },
      "source": [
        "print(data_frame['word_shares'][0])\n",
        "print(data_frame['word_shares'][1])\n",
        "print(data_frame['word_shares'][2])\n",
        "print(data_frame['word_shares'][3])\n",
        "print(data_frame['word_shares'][4])"
      ],
      "execution_count": 39,
      "outputs": [
        {
          "output_type": "stream",
          "text": [
            "0.37255953567519445:0.5714285714285714:4:1.0:1.2:0.4166666666666667:0.7951924319230587:0.7857142857142857\n",
            "0.2565225100964912:0.18181818181818182:2:1.0:0.3333333333333333:0.05263157894736842:0.410927039622762:0.07692307692307693\n",
            "0.17150662515468013:0.2222222222222222:2:1.3333333333333333:1.0:0.045454545454545456:0.34088336609925335:0.14285714285714285\n",
            "0.0:0.0:0:1.5:0.8:0.0:0.0:0.0\n",
            "0.0:0.0:0:0.3:0.4:0.0:0.0:0.07692307692307693\n"
          ],
          "name": "stdout"
        }
      ]
    },
    {
      "cell_type": "code",
      "metadata": {
        "id": "DDnOb0pFZcMm"
      },
      "source": [
        "x = pd.DataFrame()\n",
        "x['word_match']       = data_frame['word_shares'].apply(lambda x: float(x.split(':')[0]))\n",
        "x['word_match_2root'] = np.sqrt(x['word_match'])\n",
        "x['tfidf_word_match'] = data_frame['word_shares'].apply(lambda x: float(x.split(':')[1]))\n",
        "x['shared_count']     = data_frame['word_shares'].apply(lambda x: float(x.split(':')[2]))\n",
        "x['stops1_ratio']     = data_frame['word_shares'].apply(lambda x: float(x.split(':')[3]))\n",
        "x['stops2_ratio']     = data_frame['word_shares'].apply(lambda x: float(x.split(':')[4]))\n",
        "x['shared_2gram']     = data_frame['word_shares'].apply(lambda x: float(x.split(':')[5]))\n",
        "x['cosine']           = data_frame['word_shares'].apply(lambda x: float(x.split(':')[6]))\n",
        "x['words_hamming']    = data_frame['word_shares'].apply(lambda x: float(x.split(':')[7]))\n",
        "x['diff_stops_r']     = x['stops1_ratio'] - x['stops2_ratio']\n",
        "x['len_q1'] = data_frame['question1'].apply(lambda x: len(str(x)))\n",
        "x['len_q2'] = data_frame['question2'].apply(lambda x: len(str(x)))\n",
        "x['diff_len'] = x['len_q1'] - x['len_q2']\n",
        "\n",
        "x['caps_count_q1'] = data_frame['question1'].apply(lambda x:sum(1 for i in str(x) if i.isupper()))\n",
        "x['caps_count_q2'] = data_frame['question2'].apply(lambda x:sum(1 for i in str(x) if i.isupper()))\n",
        "x['diff_caps'] = x['caps_count_q1'] - x['caps_count_q2']\n",
        "x['len_char_q1'] = data_frame['question1'].apply(lambda x: len(str(x).replace(' ', '')))\n",
        "x['len_char_q2'] = data_frame['question2'].apply(lambda x: len(str(x).replace(' ', '')))\n",
        "x['diff_len_char'] = x['len_char_q1'] - x['len_char_q2']\n",
        "x['len_word_q1'] = data_frame['question1'].apply(lambda x: len(str(x).split()))\n",
        "x['len_word_q2'] = data_frame['question2'].apply(lambda x: len(str(x).split()))\n",
        "x['diff_len_word'] = x['len_word_q1'] - x['len_word_q2']\n",
        "x['avg_world_len1'] = x['len_char_q1'] / x['len_word_q1']\n",
        "x['avg_world_len2'] = x['len_char_q2'] / x['len_word_q2']\n",
        "x['diff_avg_word'] = x['avg_world_len1'] - x['avg_world_len2']\n",
        "x['exactly_same'] = (data_frame['question1'] == data_frame['question2']).astype(int)\n",
        "x['duplicated'] = data_frame.duplicated(['question1','question2']).astype(int)"
      ],
      "execution_count": 40,
      "outputs": []
    },
    {
      "cell_type": "code",
      "metadata": {
        "id": "lwHsC2fvN6co"
      },
      "source": [
        "x['exactly_same'] = (data_frame['question1'] == data_frame['question2']).astype(int)\n",
        "x['duplicated'] = data_frame.duplicated(['question1','question2']).astype(int)"
      ],
      "execution_count": 41,
      "outputs": []
    },
    {
      "cell_type": "code",
      "metadata": {
        "id": "Nv-TKilGQfFg"
      },
      "source": [
        "def add_word_count(x, df, word):\n",
        "    x['q1_' + word] = df['question1'].apply(lambda x: (word in str(x).lower())*1)\n",
        "    x['q2_' + word] = df['question2'].apply(lambda x: (word in str(x).lower())*1)\n",
        "    x[word + '_both'] = x['q1_' + word] * x['q2_' + word]\n",
        "\n",
        "\n",
        "add_word_count(x, data_frame,'how')\n",
        "add_word_count(x, data_frame,'what')\n",
        "add_word_count(x, data_frame,'which')\n",
        "add_word_count(x, data_frame,'who')\n",
        "add_word_count(x, data_frame,'where')\n",
        "add_word_count(x, data_frame,'when')\n",
        "add_word_count(x, data_frame,'why')"
      ],
      "execution_count": 42,
      "outputs": []
    },
    {
      "cell_type": "code",
      "metadata": {
        "id": "46R8QfTGQuGh",
        "colab": {
          "base_uri": "https://localhost:8080/"
        },
        "outputId": "65c38dcc-125e-4f20-b0c1-fc1fd7277a35"
      },
      "source": [
        "x.columns"
      ],
      "execution_count": 43,
      "outputs": [
        {
          "output_type": "execute_result",
          "data": {
            "text/plain": [
              "Index(['word_match', 'word_match_2root', 'tfidf_word_match', 'shared_count',\n",
              "       'stops1_ratio', 'stops2_ratio', 'shared_2gram', 'cosine',\n",
              "       'words_hamming', 'diff_stops_r', 'len_q1', 'len_q2', 'diff_len',\n",
              "       'caps_count_q1', 'caps_count_q2', 'diff_caps', 'len_char_q1',\n",
              "       'len_char_q2', 'diff_len_char', 'len_word_q1', 'len_word_q2',\n",
              "       'diff_len_word', 'avg_world_len1', 'avg_world_len2', 'diff_avg_word',\n",
              "       'exactly_same', 'duplicated', 'q1_how', 'q2_how', 'how_both', 'q1_what',\n",
              "       'q2_what', 'what_both', 'q1_which', 'q2_which', 'which_both', 'q1_who',\n",
              "       'q2_who', 'who_both', 'q1_where', 'q2_where', 'where_both', 'q1_when',\n",
              "       'q2_when', 'when_both', 'q1_why', 'q2_why', 'why_both'],\n",
              "      dtype='object')"
            ]
          },
          "metadata": {
            "tags": []
          },
          "execution_count": 43
        }
      ]
    },
    {
      "cell_type": "code",
      "metadata": {
        "id": "uIYhBgMLQ5Fo",
        "colab": {
          "base_uri": "https://localhost:8080/",
          "height": 304
        },
        "outputId": "e16de650-6fac-4fe0-e4b6-a80ef27fe358"
      },
      "source": [
        "x.describe()"
      ],
      "execution_count": 44,
      "outputs": [
        {
          "output_type": "execute_result",
          "data": {
            "text/html": [
              "<div>\n",
              "<style scoped>\n",
              "    .dataframe tbody tr th:only-of-type {\n",
              "        vertical-align: middle;\n",
              "    }\n",
              "\n",
              "    .dataframe tbody tr th {\n",
              "        vertical-align: top;\n",
              "    }\n",
              "\n",
              "    .dataframe thead th {\n",
              "        text-align: right;\n",
              "    }\n",
              "</style>\n",
              "<table border=\"1\" class=\"dataframe\">\n",
              "  <thead>\n",
              "    <tr style=\"text-align: right;\">\n",
              "      <th></th>\n",
              "      <th>word_match</th>\n",
              "      <th>word_match_2root</th>\n",
              "      <th>tfidf_word_match</th>\n",
              "      <th>shared_count</th>\n",
              "      <th>stops1_ratio</th>\n",
              "      <th>stops2_ratio</th>\n",
              "      <th>shared_2gram</th>\n",
              "      <th>cosine</th>\n",
              "      <th>words_hamming</th>\n",
              "      <th>diff_stops_r</th>\n",
              "      <th>len_q1</th>\n",
              "      <th>len_q2</th>\n",
              "      <th>diff_len</th>\n",
              "      <th>caps_count_q1</th>\n",
              "      <th>caps_count_q2</th>\n",
              "      <th>diff_caps</th>\n",
              "      <th>len_char_q1</th>\n",
              "      <th>len_char_q2</th>\n",
              "      <th>diff_len_char</th>\n",
              "      <th>len_word_q1</th>\n",
              "      <th>len_word_q2</th>\n",
              "      <th>diff_len_word</th>\n",
              "      <th>avg_world_len1</th>\n",
              "      <th>avg_world_len2</th>\n",
              "      <th>diff_avg_word</th>\n",
              "      <th>exactly_same</th>\n",
              "      <th>duplicated</th>\n",
              "      <th>q1_how</th>\n",
              "      <th>q2_how</th>\n",
              "      <th>how_both</th>\n",
              "      <th>q1_what</th>\n",
              "      <th>q2_what</th>\n",
              "      <th>what_both</th>\n",
              "      <th>q1_which</th>\n",
              "      <th>q2_which</th>\n",
              "      <th>which_both</th>\n",
              "      <th>q1_who</th>\n",
              "      <th>q2_who</th>\n",
              "      <th>who_both</th>\n",
              "      <th>q1_where</th>\n",
              "      <th>q2_where</th>\n",
              "      <th>where_both</th>\n",
              "      <th>q1_when</th>\n",
              "      <th>q2_when</th>\n",
              "      <th>when_both</th>\n",
              "      <th>q1_why</th>\n",
              "      <th>q2_why</th>\n",
              "      <th>why_both</th>\n",
              "    </tr>\n",
              "  </thead>\n",
              "  <tbody>\n",
              "    <tr>\n",
              "      <th>count</th>\n",
              "      <td>403850.000000</td>\n",
              "      <td>403850.000000</td>\n",
              "      <td>404287.000000</td>\n",
              "      <td>404287.000000</td>\n",
              "      <td>404287.000000</td>\n",
              "      <td>404287.000000</td>\n",
              "      <td>404287.000000</td>\n",
              "      <td>403503.000000</td>\n",
              "      <td>404287.000000</td>\n",
              "      <td>404287.000000</td>\n",
              "      <td>404287.000000</td>\n",
              "      <td>404287.000000</td>\n",
              "      <td>404287.000000</td>\n",
              "      <td>404287.000000</td>\n",
              "      <td>404287.000000</td>\n",
              "      <td>404287.000000</td>\n",
              "      <td>404287.000000</td>\n",
              "      <td>404287.000000</td>\n",
              "      <td>404287.000000</td>\n",
              "      <td>404287.000000</td>\n",
              "      <td>404287.000000</td>\n",
              "      <td>404287.000000</td>\n",
              "      <td>404287.000000</td>\n",
              "      <td>404287.000000</td>\n",
              "      <td>404287.000000</td>\n",
              "      <td>404287.0</td>\n",
              "      <td>404287.0</td>\n",
              "      <td>404287.000000</td>\n",
              "      <td>404287.000000</td>\n",
              "      <td>404287.000000</td>\n",
              "      <td>404287.000000</td>\n",
              "      <td>404287.000000</td>\n",
              "      <td>404287.000000</td>\n",
              "      <td>404287.000000</td>\n",
              "      <td>404287.000000</td>\n",
              "      <td>404287.000000</td>\n",
              "      <td>404287.000000</td>\n",
              "      <td>404287.000000</td>\n",
              "      <td>404287.000000</td>\n",
              "      <td>404287.000000</td>\n",
              "      <td>404287.000000</td>\n",
              "      <td>404287.000000</td>\n",
              "      <td>404287.000000</td>\n",
              "      <td>404287.000000</td>\n",
              "      <td>404287.000000</td>\n",
              "      <td>404287.000000</td>\n",
              "      <td>404287.000000</td>\n",
              "      <td>404287.000000</td>\n",
              "    </tr>\n",
              "    <tr>\n",
              "      <th>mean</th>\n",
              "      <td>0.211045</td>\n",
              "      <td>0.405511</td>\n",
              "      <td>0.305237</td>\n",
              "      <td>2.119596</td>\n",
              "      <td>1.007549</td>\n",
              "      <td>1.017716</td>\n",
              "      <td>0.122985</td>\n",
              "      <td>0.409500</td>\n",
              "      <td>0.221450</td>\n",
              "      <td>-0.010167</td>\n",
              "      <td>59.536997</td>\n",
              "      <td>60.108507</td>\n",
              "      <td>-0.571510</td>\n",
              "      <td>2.713646</td>\n",
              "      <td>2.764009</td>\n",
              "      <td>-0.050363</td>\n",
              "      <td>49.592359</td>\n",
              "      <td>49.923361</td>\n",
              "      <td>-0.331002</td>\n",
              "      <td>10.942256</td>\n",
              "      <td>11.182017</td>\n",
              "      <td>-0.239760</td>\n",
              "      <td>4.582692</td>\n",
              "      <td>4.521823</td>\n",
              "      <td>0.060870</td>\n",
              "      <td>0.0</td>\n",
              "      <td>0.0</td>\n",
              "      <td>0.270887</td>\n",
              "      <td>0.274360</td>\n",
              "      <td>0.171415</td>\n",
              "      <td>0.396763</td>\n",
              "      <td>0.391160</td>\n",
              "      <td>0.271112</td>\n",
              "      <td>0.053732</td>\n",
              "      <td>0.053494</td>\n",
              "      <td>0.021794</td>\n",
              "      <td>0.033390</td>\n",
              "      <td>0.034409</td>\n",
              "      <td>0.016360</td>\n",
              "      <td>0.022318</td>\n",
              "      <td>0.022239</td>\n",
              "      <td>0.009332</td>\n",
              "      <td>0.032289</td>\n",
              "      <td>0.031737</td>\n",
              "      <td>0.010742</td>\n",
              "      <td>0.101297</td>\n",
              "      <td>0.101136</td>\n",
              "      <td>0.051780</td>\n",
              "    </tr>\n",
              "    <tr>\n",
              "      <th>std</th>\n",
              "      <td>0.150129</td>\n",
              "      <td>0.215883</td>\n",
              "      <td>0.254596</td>\n",
              "      <td>1.723616</td>\n",
              "      <td>0.487865</td>\n",
              "      <td>0.489760</td>\n",
              "      <td>0.129799</td>\n",
              "      <td>0.294229</td>\n",
              "      <td>0.271029</td>\n",
              "      <td>0.511660</td>\n",
              "      <td>29.940553</td>\n",
              "      <td>33.863588</td>\n",
              "      <td>32.566186</td>\n",
              "      <td>2.396500</td>\n",
              "      <td>2.450618</td>\n",
              "      <td>2.473446</td>\n",
              "      <td>24.785740</td>\n",
              "      <td>27.803732</td>\n",
              "      <td>26.750844</td>\n",
              "      <td>5.428812</td>\n",
              "      <td>6.305210</td>\n",
              "      <td>6.078812</td>\n",
              "      <td>0.834293</td>\n",
              "      <td>0.814860</td>\n",
              "      <td>0.803563</td>\n",
              "      <td>0.0</td>\n",
              "      <td>0.0</td>\n",
              "      <td>0.444418</td>\n",
              "      <td>0.446192</td>\n",
              "      <td>0.376872</td>\n",
              "      <td>0.489227</td>\n",
              "      <td>0.488011</td>\n",
              "      <td>0.444534</td>\n",
              "      <td>0.225488</td>\n",
              "      <td>0.225017</td>\n",
              "      <td>0.146010</td>\n",
              "      <td>0.179652</td>\n",
              "      <td>0.182277</td>\n",
              "      <td>0.126855</td>\n",
              "      <td>0.147717</td>\n",
              "      <td>0.147461</td>\n",
              "      <td>0.096153</td>\n",
              "      <td>0.176767</td>\n",
              "      <td>0.175300</td>\n",
              "      <td>0.103087</td>\n",
              "      <td>0.301722</td>\n",
              "      <td>0.301509</td>\n",
              "      <td>0.221583</td>\n",
              "    </tr>\n",
              "    <tr>\n",
              "      <th>min</th>\n",
              "      <td>0.000000</td>\n",
              "      <td>0.000000</td>\n",
              "      <td>0.000000</td>\n",
              "      <td>0.000000</td>\n",
              "      <td>0.000000</td>\n",
              "      <td>0.000000</td>\n",
              "      <td>0.000000</td>\n",
              "      <td>0.000000</td>\n",
              "      <td>0.000000</td>\n",
              "      <td>-6.250000</td>\n",
              "      <td>1.000000</td>\n",
              "      <td>1.000000</td>\n",
              "      <td>-1080.000000</td>\n",
              "      <td>0.000000</td>\n",
              "      <td>0.000000</td>\n",
              "      <td>-111.000000</td>\n",
              "      <td>1.000000</td>\n",
              "      <td>1.000000</td>\n",
              "      <td>-857.000000</td>\n",
              "      <td>1.000000</td>\n",
              "      <td>1.000000</td>\n",
              "      <td>-223.000000</td>\n",
              "      <td>1.000000</td>\n",
              "      <td>1.000000</td>\n",
              "      <td>-22.500000</td>\n",
              "      <td>0.0</td>\n",
              "      <td>0.0</td>\n",
              "      <td>0.000000</td>\n",
              "      <td>0.000000</td>\n",
              "      <td>0.000000</td>\n",
              "      <td>0.000000</td>\n",
              "      <td>0.000000</td>\n",
              "      <td>0.000000</td>\n",
              "      <td>0.000000</td>\n",
              "      <td>0.000000</td>\n",
              "      <td>0.000000</td>\n",
              "      <td>0.000000</td>\n",
              "      <td>0.000000</td>\n",
              "      <td>0.000000</td>\n",
              "      <td>0.000000</td>\n",
              "      <td>0.000000</td>\n",
              "      <td>0.000000</td>\n",
              "      <td>0.000000</td>\n",
              "      <td>0.000000</td>\n",
              "      <td>0.000000</td>\n",
              "      <td>0.000000</td>\n",
              "      <td>0.000000</td>\n",
              "      <td>0.000000</td>\n",
              "    </tr>\n",
              "    <tr>\n",
              "      <th>25%</th>\n",
              "      <td>0.092266</td>\n",
              "      <td>0.303754</td>\n",
              "      <td>0.111111</td>\n",
              "      <td>1.000000</td>\n",
              "      <td>0.666667</td>\n",
              "      <td>0.666667</td>\n",
              "      <td>0.000000</td>\n",
              "      <td>0.175420</td>\n",
              "      <td>0.000000</td>\n",
              "      <td>-0.261538</td>\n",
              "      <td>39.000000</td>\n",
              "      <td>39.000000</td>\n",
              "      <td>-11.000000</td>\n",
              "      <td>1.000000</td>\n",
              "      <td>1.000000</td>\n",
              "      <td>-1.000000</td>\n",
              "      <td>33.000000</td>\n",
              "      <td>32.000000</td>\n",
              "      <td>-9.000000</td>\n",
              "      <td>7.000000</td>\n",
              "      <td>7.000000</td>\n",
              "      <td>-2.000000</td>\n",
              "      <td>4.000000</td>\n",
              "      <td>4.000000</td>\n",
              "      <td>-0.375000</td>\n",
              "      <td>0.0</td>\n",
              "      <td>0.0</td>\n",
              "      <td>0.000000</td>\n",
              "      <td>0.000000</td>\n",
              "      <td>0.000000</td>\n",
              "      <td>0.000000</td>\n",
              "      <td>0.000000</td>\n",
              "      <td>0.000000</td>\n",
              "      <td>0.000000</td>\n",
              "      <td>0.000000</td>\n",
              "      <td>0.000000</td>\n",
              "      <td>0.000000</td>\n",
              "      <td>0.000000</td>\n",
              "      <td>0.000000</td>\n",
              "      <td>0.000000</td>\n",
              "      <td>0.000000</td>\n",
              "      <td>0.000000</td>\n",
              "      <td>0.000000</td>\n",
              "      <td>0.000000</td>\n",
              "      <td>0.000000</td>\n",
              "      <td>0.000000</td>\n",
              "      <td>0.000000</td>\n",
              "      <td>0.000000</td>\n",
              "    </tr>\n",
              "    <tr>\n",
              "      <th>50%</th>\n",
              "      <td>0.201044</td>\n",
              "      <td>0.448380</td>\n",
              "      <td>0.250000</td>\n",
              "      <td>2.000000</td>\n",
              "      <td>1.000000</td>\n",
              "      <td>1.000000</td>\n",
              "      <td>0.083333</td>\n",
              "      <td>0.392266</td>\n",
              "      <td>0.107143</td>\n",
              "      <td>0.000000</td>\n",
              "      <td>52.000000</td>\n",
              "      <td>51.000000</td>\n",
              "      <td>0.000000</td>\n",
              "      <td>2.000000</td>\n",
              "      <td>2.000000</td>\n",
              "      <td>0.000000</td>\n",
              "      <td>43.000000</td>\n",
              "      <td>42.000000</td>\n",
              "      <td>0.000000</td>\n",
              "      <td>10.000000</td>\n",
              "      <td>10.000000</td>\n",
              "      <td>0.000000</td>\n",
              "      <td>4.500000</td>\n",
              "      <td>4.428571</td>\n",
              "      <td>0.035714</td>\n",
              "      <td>0.0</td>\n",
              "      <td>0.0</td>\n",
              "      <td>0.000000</td>\n",
              "      <td>0.000000</td>\n",
              "      <td>0.000000</td>\n",
              "      <td>0.000000</td>\n",
              "      <td>0.000000</td>\n",
              "      <td>0.000000</td>\n",
              "      <td>0.000000</td>\n",
              "      <td>0.000000</td>\n",
              "      <td>0.000000</td>\n",
              "      <td>0.000000</td>\n",
              "      <td>0.000000</td>\n",
              "      <td>0.000000</td>\n",
              "      <td>0.000000</td>\n",
              "      <td>0.000000</td>\n",
              "      <td>0.000000</td>\n",
              "      <td>0.000000</td>\n",
              "      <td>0.000000</td>\n",
              "      <td>0.000000</td>\n",
              "      <td>0.000000</td>\n",
              "      <td>0.000000</td>\n",
              "      <td>0.000000</td>\n",
              "    </tr>\n",
              "    <tr>\n",
              "      <th>75%</th>\n",
              "      <td>0.323254</td>\n",
              "      <td>0.568555</td>\n",
              "      <td>0.444444</td>\n",
              "      <td>3.000000</td>\n",
              "      <td>1.250000</td>\n",
              "      <td>1.250000</td>\n",
              "      <td>0.200000</td>\n",
              "      <td>0.627567</td>\n",
              "      <td>0.363636</td>\n",
              "      <td>0.250000</td>\n",
              "      <td>72.000000</td>\n",
              "      <td>72.000000</td>\n",
              "      <td>12.000000</td>\n",
              "      <td>3.000000</td>\n",
              "      <td>4.000000</td>\n",
              "      <td>1.000000</td>\n",
              "      <td>60.000000</td>\n",
              "      <td>60.000000</td>\n",
              "      <td>10.000000</td>\n",
              "      <td>13.000000</td>\n",
              "      <td>13.000000</td>\n",
              "      <td>2.000000</td>\n",
              "      <td>5.000000</td>\n",
              "      <td>5.000000</td>\n",
              "      <td>0.485714</td>\n",
              "      <td>0.0</td>\n",
              "      <td>0.0</td>\n",
              "      <td>1.000000</td>\n",
              "      <td>1.000000</td>\n",
              "      <td>0.000000</td>\n",
              "      <td>1.000000</td>\n",
              "      <td>1.000000</td>\n",
              "      <td>1.000000</td>\n",
              "      <td>0.000000</td>\n",
              "      <td>0.000000</td>\n",
              "      <td>0.000000</td>\n",
              "      <td>0.000000</td>\n",
              "      <td>0.000000</td>\n",
              "      <td>0.000000</td>\n",
              "      <td>0.000000</td>\n",
              "      <td>0.000000</td>\n",
              "      <td>0.000000</td>\n",
              "      <td>0.000000</td>\n",
              "      <td>0.000000</td>\n",
              "      <td>0.000000</td>\n",
              "      <td>0.000000</td>\n",
              "      <td>0.000000</td>\n",
              "      <td>0.000000</td>\n",
              "    </tr>\n",
              "    <tr>\n",
              "      <th>max</th>\n",
              "      <td>0.500000</td>\n",
              "      <td>0.707107</td>\n",
              "      <td>1.000000</td>\n",
              "      <td>23.000000</td>\n",
              "      <td>8.000000</td>\n",
              "      <td>8.000000</td>\n",
              "      <td>0.500000</td>\n",
              "      <td>1.000000</td>\n",
              "      <td>1.000000</td>\n",
              "      <td>6.750000</td>\n",
              "      <td>623.000000</td>\n",
              "      <td>1169.000000</td>\n",
              "      <td>487.000000</td>\n",
              "      <td>111.000000</td>\n",
              "      <td>112.000000</td>\n",
              "      <td>110.000000</td>\n",
              "      <td>499.000000</td>\n",
              "      <td>942.000000</td>\n",
              "      <td>389.000000</td>\n",
              "      <td>125.000000</td>\n",
              "      <td>237.000000</td>\n",
              "      <td>98.000000</td>\n",
              "      <td>36.000000</td>\n",
              "      <td>32.333333</td>\n",
              "      <td>25.142857</td>\n",
              "      <td>0.0</td>\n",
              "      <td>0.0</td>\n",
              "      <td>1.000000</td>\n",
              "      <td>1.000000</td>\n",
              "      <td>1.000000</td>\n",
              "      <td>1.000000</td>\n",
              "      <td>1.000000</td>\n",
              "      <td>1.000000</td>\n",
              "      <td>1.000000</td>\n",
              "      <td>1.000000</td>\n",
              "      <td>1.000000</td>\n",
              "      <td>1.000000</td>\n",
              "      <td>1.000000</td>\n",
              "      <td>1.000000</td>\n",
              "      <td>1.000000</td>\n",
              "      <td>1.000000</td>\n",
              "      <td>1.000000</td>\n",
              "      <td>1.000000</td>\n",
              "      <td>1.000000</td>\n",
              "      <td>1.000000</td>\n",
              "      <td>1.000000</td>\n",
              "      <td>1.000000</td>\n",
              "      <td>1.000000</td>\n",
              "    </tr>\n",
              "  </tbody>\n",
              "</table>\n",
              "</div>"
            ],
            "text/plain": [
              "          word_match  word_match_2root  ...         q2_why       why_both\n",
              "count  403850.000000     403850.000000  ...  404287.000000  404287.000000\n",
              "mean        0.211045          0.405511  ...       0.101136       0.051780\n",
              "std         0.150129          0.215883  ...       0.301509       0.221583\n",
              "min         0.000000          0.000000  ...       0.000000       0.000000\n",
              "25%         0.092266          0.303754  ...       0.000000       0.000000\n",
              "50%         0.201044          0.448380  ...       0.000000       0.000000\n",
              "75%         0.323254          0.568555  ...       0.000000       0.000000\n",
              "max         0.500000          0.707107  ...       1.000000       1.000000\n",
              "\n",
              "[8 rows x 48 columns]"
            ]
          },
          "metadata": {
            "tags": []
          },
          "execution_count": 44
        }
      ]
    },
    {
      "cell_type": "code",
      "metadata": {
        "colab": {
          "base_uri": "https://localhost:8080/",
          "height": 215
        },
        "id": "ObnPh-Cu5_nQ",
        "outputId": "9e7e9690-f540-411d-880e-232993d6a853"
      },
      "source": [
        "x.head()"
      ],
      "execution_count": 79,
      "outputs": [
        {
          "output_type": "execute_result",
          "data": {
            "text/html": [
              "<div>\n",
              "<style scoped>\n",
              "    .dataframe tbody tr th:only-of-type {\n",
              "        vertical-align: middle;\n",
              "    }\n",
              "\n",
              "    .dataframe tbody tr th {\n",
              "        vertical-align: top;\n",
              "    }\n",
              "\n",
              "    .dataframe thead th {\n",
              "        text-align: right;\n",
              "    }\n",
              "</style>\n",
              "<table border=\"1\" class=\"dataframe\">\n",
              "  <thead>\n",
              "    <tr style=\"text-align: right;\">\n",
              "      <th></th>\n",
              "      <th>word_match</th>\n",
              "      <th>word_match_2root</th>\n",
              "      <th>tfidf_word_match</th>\n",
              "      <th>shared_count</th>\n",
              "      <th>stops1_ratio</th>\n",
              "      <th>stops2_ratio</th>\n",
              "      <th>shared_2gram</th>\n",
              "      <th>cosine</th>\n",
              "      <th>words_hamming</th>\n",
              "      <th>diff_stops_r</th>\n",
              "      <th>len_q1</th>\n",
              "      <th>len_q2</th>\n",
              "      <th>diff_len</th>\n",
              "      <th>caps_count_q1</th>\n",
              "      <th>caps_count_q2</th>\n",
              "      <th>diff_caps</th>\n",
              "      <th>len_char_q1</th>\n",
              "      <th>len_char_q2</th>\n",
              "      <th>diff_len_char</th>\n",
              "      <th>len_word_q1</th>\n",
              "      <th>len_word_q2</th>\n",
              "      <th>diff_len_word</th>\n",
              "      <th>avg_world_len1</th>\n",
              "      <th>avg_world_len2</th>\n",
              "      <th>diff_avg_word</th>\n",
              "      <th>exactly_same</th>\n",
              "      <th>duplicated</th>\n",
              "      <th>q1_how</th>\n",
              "      <th>q2_how</th>\n",
              "      <th>how_both</th>\n",
              "      <th>q1_what</th>\n",
              "      <th>q2_what</th>\n",
              "      <th>what_both</th>\n",
              "      <th>q1_which</th>\n",
              "      <th>q2_which</th>\n",
              "      <th>which_both</th>\n",
              "      <th>q1_who</th>\n",
              "      <th>q2_who</th>\n",
              "      <th>who_both</th>\n",
              "      <th>q1_where</th>\n",
              "      <th>q2_where</th>\n",
              "      <th>where_both</th>\n",
              "      <th>q1_when</th>\n",
              "      <th>q2_when</th>\n",
              "      <th>when_both</th>\n",
              "      <th>q1_why</th>\n",
              "      <th>q2_why</th>\n",
              "      <th>why_both</th>\n",
              "    </tr>\n",
              "  </thead>\n",
              "  <tbody>\n",
              "    <tr>\n",
              "      <th>0</th>\n",
              "      <td>0.372560</td>\n",
              "      <td>0.610377</td>\n",
              "      <td>0.571429</td>\n",
              "      <td>4.0</td>\n",
              "      <td>1.000000</td>\n",
              "      <td>1.200000</td>\n",
              "      <td>0.416667</td>\n",
              "      <td>0.795192</td>\n",
              "      <td>0.785714</td>\n",
              "      <td>-0.200000</td>\n",
              "      <td>66</td>\n",
              "      <td>57</td>\n",
              "      <td>9</td>\n",
              "      <td>1</td>\n",
              "      <td>1</td>\n",
              "      <td>0</td>\n",
              "      <td>53</td>\n",
              "      <td>46</td>\n",
              "      <td>7</td>\n",
              "      <td>14</td>\n",
              "      <td>12</td>\n",
              "      <td>2</td>\n",
              "      <td>3.785714</td>\n",
              "      <td>3.833333</td>\n",
              "      <td>-0.047619</td>\n",
              "      <td>0</td>\n",
              "      <td>0</td>\n",
              "      <td>0</td>\n",
              "      <td>0</td>\n",
              "      <td>0</td>\n",
              "      <td>1</td>\n",
              "      <td>1</td>\n",
              "      <td>1</td>\n",
              "      <td>0</td>\n",
              "      <td>0</td>\n",
              "      <td>0</td>\n",
              "      <td>0</td>\n",
              "      <td>0</td>\n",
              "      <td>0</td>\n",
              "      <td>0</td>\n",
              "      <td>0</td>\n",
              "      <td>0</td>\n",
              "      <td>0</td>\n",
              "      <td>0</td>\n",
              "      <td>0</td>\n",
              "      <td>0</td>\n",
              "      <td>0</td>\n",
              "      <td>0</td>\n",
              "    </tr>\n",
              "    <tr>\n",
              "      <th>1</th>\n",
              "      <td>0.256523</td>\n",
              "      <td>0.506481</td>\n",
              "      <td>0.181818</td>\n",
              "      <td>2.0</td>\n",
              "      <td>1.000000</td>\n",
              "      <td>0.333333</td>\n",
              "      <td>0.052632</td>\n",
              "      <td>0.410927</td>\n",
              "      <td>0.076923</td>\n",
              "      <td>0.666667</td>\n",
              "      <td>51</td>\n",
              "      <td>88</td>\n",
              "      <td>-37</td>\n",
              "      <td>5</td>\n",
              "      <td>5</td>\n",
              "      <td>0</td>\n",
              "      <td>44</td>\n",
              "      <td>76</td>\n",
              "      <td>-32</td>\n",
              "      <td>8</td>\n",
              "      <td>13</td>\n",
              "      <td>-5</td>\n",
              "      <td>5.500000</td>\n",
              "      <td>5.846154</td>\n",
              "      <td>-0.346154</td>\n",
              "      <td>0</td>\n",
              "      <td>0</td>\n",
              "      <td>0</td>\n",
              "      <td>0</td>\n",
              "      <td>0</td>\n",
              "      <td>1</td>\n",
              "      <td>1</td>\n",
              "      <td>1</td>\n",
              "      <td>0</td>\n",
              "      <td>0</td>\n",
              "      <td>0</td>\n",
              "      <td>0</td>\n",
              "      <td>0</td>\n",
              "      <td>0</td>\n",
              "      <td>0</td>\n",
              "      <td>0</td>\n",
              "      <td>0</td>\n",
              "      <td>0</td>\n",
              "      <td>0</td>\n",
              "      <td>0</td>\n",
              "      <td>0</td>\n",
              "      <td>0</td>\n",
              "      <td>0</td>\n",
              "    </tr>\n",
              "    <tr>\n",
              "      <th>2</th>\n",
              "      <td>0.171507</td>\n",
              "      <td>0.414134</td>\n",
              "      <td>0.222222</td>\n",
              "      <td>2.0</td>\n",
              "      <td>1.333333</td>\n",
              "      <td>1.000000</td>\n",
              "      <td>0.045455</td>\n",
              "      <td>0.340883</td>\n",
              "      <td>0.142857</td>\n",
              "      <td>0.333333</td>\n",
              "      <td>73</td>\n",
              "      <td>59</td>\n",
              "      <td>14</td>\n",
              "      <td>5</td>\n",
              "      <td>5</td>\n",
              "      <td>0</td>\n",
              "      <td>60</td>\n",
              "      <td>50</td>\n",
              "      <td>10</td>\n",
              "      <td>14</td>\n",
              "      <td>10</td>\n",
              "      <td>4</td>\n",
              "      <td>4.285714</td>\n",
              "      <td>5.000000</td>\n",
              "      <td>-0.714286</td>\n",
              "      <td>0</td>\n",
              "      <td>0</td>\n",
              "      <td>1</td>\n",
              "      <td>1</td>\n",
              "      <td>1</td>\n",
              "      <td>0</td>\n",
              "      <td>0</td>\n",
              "      <td>0</td>\n",
              "      <td>0</td>\n",
              "      <td>0</td>\n",
              "      <td>0</td>\n",
              "      <td>0</td>\n",
              "      <td>0</td>\n",
              "      <td>0</td>\n",
              "      <td>0</td>\n",
              "      <td>0</td>\n",
              "      <td>0</td>\n",
              "      <td>0</td>\n",
              "      <td>0</td>\n",
              "      <td>0</td>\n",
              "      <td>0</td>\n",
              "      <td>0</td>\n",
              "      <td>0</td>\n",
              "    </tr>\n",
              "    <tr>\n",
              "      <th>3</th>\n",
              "      <td>0.000000</td>\n",
              "      <td>0.000000</td>\n",
              "      <td>0.000000</td>\n",
              "      <td>0.0</td>\n",
              "      <td>1.500000</td>\n",
              "      <td>0.800000</td>\n",
              "      <td>0.000000</td>\n",
              "      <td>0.000000</td>\n",
              "      <td>0.000000</td>\n",
              "      <td>0.700000</td>\n",
              "      <td>50</td>\n",
              "      <td>65</td>\n",
              "      <td>-15</td>\n",
              "      <td>4</td>\n",
              "      <td>1</td>\n",
              "      <td>3</td>\n",
              "      <td>40</td>\n",
              "      <td>57</td>\n",
              "      <td>-17</td>\n",
              "      <td>11</td>\n",
              "      <td>9</td>\n",
              "      <td>2</td>\n",
              "      <td>3.636364</td>\n",
              "      <td>6.333333</td>\n",
              "      <td>-2.696970</td>\n",
              "      <td>0</td>\n",
              "      <td>0</td>\n",
              "      <td>1</td>\n",
              "      <td>0</td>\n",
              "      <td>0</td>\n",
              "      <td>0</td>\n",
              "      <td>0</td>\n",
              "      <td>0</td>\n",
              "      <td>0</td>\n",
              "      <td>0</td>\n",
              "      <td>0</td>\n",
              "      <td>0</td>\n",
              "      <td>0</td>\n",
              "      <td>0</td>\n",
              "      <td>0</td>\n",
              "      <td>0</td>\n",
              "      <td>0</td>\n",
              "      <td>0</td>\n",
              "      <td>1</td>\n",
              "      <td>0</td>\n",
              "      <td>1</td>\n",
              "      <td>0</td>\n",
              "      <td>0</td>\n",
              "    </tr>\n",
              "    <tr>\n",
              "      <th>4</th>\n",
              "      <td>0.000000</td>\n",
              "      <td>0.000000</td>\n",
              "      <td>0.000000</td>\n",
              "      <td>0.0</td>\n",
              "      <td>0.300000</td>\n",
              "      <td>0.400000</td>\n",
              "      <td>0.000000</td>\n",
              "      <td>0.000000</td>\n",
              "      <td>0.076923</td>\n",
              "      <td>-0.100000</td>\n",
              "      <td>76</td>\n",
              "      <td>39</td>\n",
              "      <td>37</td>\n",
              "      <td>1</td>\n",
              "      <td>1</td>\n",
              "      <td>0</td>\n",
              "      <td>64</td>\n",
              "      <td>33</td>\n",
              "      <td>31</td>\n",
              "      <td>13</td>\n",
              "      <td>7</td>\n",
              "      <td>6</td>\n",
              "      <td>4.923077</td>\n",
              "      <td>4.714286</td>\n",
              "      <td>0.208791</td>\n",
              "      <td>0</td>\n",
              "      <td>0</td>\n",
              "      <td>0</td>\n",
              "      <td>0</td>\n",
              "      <td>0</td>\n",
              "      <td>0</td>\n",
              "      <td>0</td>\n",
              "      <td>0</td>\n",
              "      <td>1</td>\n",
              "      <td>1</td>\n",
              "      <td>1</td>\n",
              "      <td>0</td>\n",
              "      <td>0</td>\n",
              "      <td>0</td>\n",
              "      <td>0</td>\n",
              "      <td>0</td>\n",
              "      <td>0</td>\n",
              "      <td>0</td>\n",
              "      <td>0</td>\n",
              "      <td>0</td>\n",
              "      <td>0</td>\n",
              "      <td>0</td>\n",
              "      <td>0</td>\n",
              "    </tr>\n",
              "  </tbody>\n",
              "</table>\n",
              "</div>"
            ],
            "text/plain": [
              "   word_match  word_match_2root  tfidf_word_match  ...  q1_why  q2_why  why_both\n",
              "0    0.372560          0.610377          0.571429  ...       0       0         0\n",
              "1    0.256523          0.506481          0.181818  ...       0       0         0\n",
              "2    0.171507          0.414134          0.222222  ...       0       0         0\n",
              "3    0.000000          0.000000          0.000000  ...       1       0         0\n",
              "4    0.000000          0.000000          0.000000  ...       0       0         0\n",
              "\n",
              "[5 rows x 48 columns]"
            ]
          },
          "metadata": {
            "tags": []
          },
          "execution_count": 79
        }
      ]
    },
    {
      "cell_type": "code",
      "metadata": {
        "id": "KhfRU4X9RBte",
        "colab": {
          "base_uri": "https://localhost:8080/"
        },
        "outputId": "ba8ce724-3e02-4731-f3be-704920fadfe9"
      },
      "source": [
        "print(list(x.columns.values))"
      ],
      "execution_count": 78,
      "outputs": [
        {
          "output_type": "stream",
          "text": [
            "['word_match', 'word_match_2root', 'tfidf_word_match', 'shared_count', 'stops1_ratio', 'stops2_ratio', 'shared_2gram', 'cosine', 'words_hamming', 'diff_stops_r', 'len_q1', 'len_q2', 'diff_len', 'caps_count_q1', 'caps_count_q2', 'diff_caps', 'len_char_q1', 'len_char_q2', 'diff_len_char', 'len_word_q1', 'len_word_q2', 'diff_len_word', 'avg_world_len1', 'avg_world_len2', 'diff_avg_word', 'exactly_same', 'duplicated', 'q1_how', 'q2_how', 'how_both', 'q1_what', 'q2_what', 'what_both', 'q1_which', 'q2_which', 'which_both', 'q1_who', 'q2_who', 'who_both', 'q1_where', 'q2_where', 'where_both', 'q1_when', 'q2_when', 'when_both', 'q1_why', 'q2_why', 'why_both']\n"
          ],
          "name": "stdout"
        }
      ]
    },
    {
      "cell_type": "code",
      "metadata": {
        "id": "SA8qLzWxRHJt",
        "colab": {
          "base_uri": "https://localhost:8080/"
        },
        "outputId": "64b7748d-99fe-41e6-ca5c-4f192e00e63e"
      },
      "source": [
        "from sklearn.model_selection import train_test_split\n",
        "X_train, X_test, y_train, y_test = train_test_split(x, data_frame.is_duplicate, test_size=0.3, random_state=42)\n",
        "print(x.shape)\n",
        "print(X_train.shape)\n",
        "print(y_train.shape)\n",
        "print(X_test.shape)\n",
        "print(y_test.shape)"
      ],
      "execution_count": 61,
      "outputs": [
        {
          "output_type": "stream",
          "text": [
            "(404287, 48)\n",
            "(283000, 48)\n",
            "(283000,)\n",
            "(121287, 48)\n",
            "(121287,)\n"
          ],
          "name": "stdout"
        }
      ]
    },
    {
      "cell_type": "code",
      "metadata": {
        "id": "rHw2kwsFUeic"
      },
      "source": [
        "RS = 123457\n",
        "ROUNDS = 190\n",
        "\n",
        "def train_lgb(X, y, params):\n",
        "    print(\"Will train LightGB for {} rounds, RandomSeed: {}\".format(ROUNDS, RS))\n",
        "    x, X_val, y_train, y_val = train_test_split(X, y, test_size=0.2, random_state=RS)\n",
        "    xg_train = lgb.Dataset(x, label=y_train)\n",
        "    xg_val = lgb.Dataset(X_val, label=y_val)\n",
        "    watchlist  = [xg_val]\n",
        "    clf = lgb.train(params, xg_train, ROUNDS, watchlist)\n",
        "    return clf"
      ],
      "execution_count": 62,
      "outputs": []
    },
    {
      "cell_type": "code",
      "metadata": {
        "id": "VaMrN1DiVnv7"
      },
      "source": [
        "param = {}\n",
        "param['learning_rate'] = 0.1\n",
        "param['boosting_type'] = 'dart'\n",
        "param['objective'] = 'binary'\n",
        "param['metric'] = 'binary_logloss'\n",
        "param['sub_feature'] = 0.5\n",
        "param['num_leaves'] = 512\n",
        "param['min_data'] = 50\n",
        "param['min_hessian'] = 1"
      ],
      "execution_count": 70,
      "outputs": []
    },
    {
      "cell_type": "code",
      "metadata": {
        "id": "vtwKcYEtVnu_"
      },
      "source": [
        "def predict_lgb(clr, X_test):\n",
        "    return clr.predict(X_test)"
      ],
      "execution_count": 71,
      "outputs": []
    },
    {
      "cell_type": "code",
      "metadata": {
        "id": "0F5oUR0bVK29"
      },
      "source": [
        "import lightgbm as lgb\n",
        "print(\"Training data: X_train: {}, Y_train: {}, X_test: {}\".format(X_train.shape, len(y_train), X_test.shape))\n",
        "clr = train_lgb(X_train, y_train, param)\n",
        "preds = predict_lgb(clr, X_test.fillna(0))"
      ],
      "execution_count": null,
      "outputs": []
    },
    {
      "cell_type": "code",
      "metadata": {
        "id": "qi7gFiW5XWvE",
        "colab": {
          "base_uri": "https://localhost:8080/"
        },
        "outputId": "d85fd82b-05e8-4fb4-8b6a-40a4a2af1957"
      },
      "source": [
        "from sklearn.metrics import log_loss\n",
        "loss = log_loss(y_test, preds)\n",
        "loss"
      ],
      "execution_count": 77,
      "outputs": [
        {
          "output_type": "execute_result",
          "data": {
            "text/plain": [
              "0.3987180885429239"
            ]
          },
          "metadata": {
            "tags": []
          },
          "execution_count": 77
        }
      ]
    },
    {
      "cell_type": "code",
      "metadata": {
        "id": "oarti_O-X9hF"
      },
      "source": [
        ""
      ],
      "execution_count": null,
      "outputs": []
    }
  ]
}