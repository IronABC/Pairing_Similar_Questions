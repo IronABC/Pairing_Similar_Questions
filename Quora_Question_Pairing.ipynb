{
  "nbformat": 4,
  "nbformat_minor": 0,
  "metadata": {
    "colab": {
      "name": "Quora Question Pairing Project.ipynb",
      "provenance": [],
      "collapsed_sections": [],
      "include_colab_link": true
    },
    "kernelspec": {
      "name": "python3",
      "display_name": "Python 3"
    },
    "accelerator": "GPU"
  },
  "cells": [
    {
      "cell_type": "markdown",
      "metadata": {
        "id": "view-in-github",
        "colab_type": "text"
      },
      "source": [
        "<a href=\"https://colab.research.google.com/github/IronABC/Pairing_Similar_Questions/blob/main/Quora_Question_Pairing.ipynb\" target=\"_parent\"><img src=\"https://colab.research.google.com/assets/colab-badge.svg\" alt=\"Open In Colab\"/></a>"
      ]
    },
    {
      "cell_type": "code",
      "metadata": {
        "id": "jVWSmMiAk3NS",
        "colab": {
          "base_uri": "https://localhost:8080/"
        },
        "outputId": "460abbc4-8d98-4bb9-dfcd-c7145cc67dc1"
      },
      "source": [
        "from google.colab import drive\n",
        "drive.mount(\"/content/drive\")"
      ],
      "execution_count": 4,
      "outputs": [
        {
          "output_type": "stream",
          "text": [
            "Mounted at /content/drive\n"
          ],
          "name": "stdout"
        }
      ]
    },
    {
      "cell_type": "code",
      "metadata": {
        "id": "CjqrjloulaDk"
      },
      "source": [
        "import pandas as pd\n",
        "import numpy as np\n",
        "import matplotlib.pyplot as plt\n",
        "import seaborn as sns\n",
        "data_frame = pd.read_csv('/content/drive/My Drive/data_set/train.csv')"
      ],
      "execution_count": 5,
      "outputs": []
    },
    {
      "cell_type": "code",
      "metadata": {
        "id": "rItAD-P-F0Ge",
        "colab": {
          "base_uri": "https://localhost:8080/",
          "height": 343
        },
        "outputId": "7c276d57-7833-4a91-cee3-ebe0f6012a95"
      },
      "source": [
        "data_frame.head(10)"
      ],
      "execution_count": 6,
      "outputs": [
        {
          "output_type": "execute_result",
          "data": {
            "text/html": [
              "<div>\n",
              "<style scoped>\n",
              "    .dataframe tbody tr th:only-of-type {\n",
              "        vertical-align: middle;\n",
              "    }\n",
              "\n",
              "    .dataframe tbody tr th {\n",
              "        vertical-align: top;\n",
              "    }\n",
              "\n",
              "    .dataframe thead th {\n",
              "        text-align: right;\n",
              "    }\n",
              "</style>\n",
              "<table border=\"1\" class=\"dataframe\">\n",
              "  <thead>\n",
              "    <tr style=\"text-align: right;\">\n",
              "      <th></th>\n",
              "      <th>id</th>\n",
              "      <th>qid1</th>\n",
              "      <th>qid2</th>\n",
              "      <th>question1</th>\n",
              "      <th>question2</th>\n",
              "      <th>is_duplicate</th>\n",
              "    </tr>\n",
              "  </thead>\n",
              "  <tbody>\n",
              "    <tr>\n",
              "      <th>0</th>\n",
              "      <td>0</td>\n",
              "      <td>1</td>\n",
              "      <td>2</td>\n",
              "      <td>What is the step by step guide to invest in sh...</td>\n",
              "      <td>What is the step by step guide to invest in sh...</td>\n",
              "      <td>0</td>\n",
              "    </tr>\n",
              "    <tr>\n",
              "      <th>1</th>\n",
              "      <td>1</td>\n",
              "      <td>3</td>\n",
              "      <td>4</td>\n",
              "      <td>What is the story of Kohinoor (Koh-i-Noor) Dia...</td>\n",
              "      <td>What would happen if the Indian government sto...</td>\n",
              "      <td>0</td>\n",
              "    </tr>\n",
              "    <tr>\n",
              "      <th>2</th>\n",
              "      <td>2</td>\n",
              "      <td>5</td>\n",
              "      <td>6</td>\n",
              "      <td>How can I increase the speed of my internet co...</td>\n",
              "      <td>How can Internet speed be increased by hacking...</td>\n",
              "      <td>0</td>\n",
              "    </tr>\n",
              "    <tr>\n",
              "      <th>3</th>\n",
              "      <td>3</td>\n",
              "      <td>7</td>\n",
              "      <td>8</td>\n",
              "      <td>Why am I mentally very lonely? How can I solve...</td>\n",
              "      <td>Find the remainder when [math]23^{24}[/math] i...</td>\n",
              "      <td>0</td>\n",
              "    </tr>\n",
              "    <tr>\n",
              "      <th>4</th>\n",
              "      <td>4</td>\n",
              "      <td>9</td>\n",
              "      <td>10</td>\n",
              "      <td>Which one dissolve in water quikly sugar, salt...</td>\n",
              "      <td>Which fish would survive in salt water?</td>\n",
              "      <td>0</td>\n",
              "    </tr>\n",
              "    <tr>\n",
              "      <th>5</th>\n",
              "      <td>5</td>\n",
              "      <td>11</td>\n",
              "      <td>12</td>\n",
              "      <td>Astrology: I am a Capricorn Sun Cap moon and c...</td>\n",
              "      <td>I'm a triple Capricorn (Sun, Moon and ascendan...</td>\n",
              "      <td>1</td>\n",
              "    </tr>\n",
              "    <tr>\n",
              "      <th>6</th>\n",
              "      <td>6</td>\n",
              "      <td>13</td>\n",
              "      <td>14</td>\n",
              "      <td>Should I buy tiago?</td>\n",
              "      <td>What keeps childern active and far from phone ...</td>\n",
              "      <td>0</td>\n",
              "    </tr>\n",
              "    <tr>\n",
              "      <th>7</th>\n",
              "      <td>7</td>\n",
              "      <td>15</td>\n",
              "      <td>16</td>\n",
              "      <td>How can I be a good geologist?</td>\n",
              "      <td>What should I do to be a great geologist?</td>\n",
              "      <td>1</td>\n",
              "    </tr>\n",
              "    <tr>\n",
              "      <th>8</th>\n",
              "      <td>8</td>\n",
              "      <td>17</td>\n",
              "      <td>18</td>\n",
              "      <td>When do you use シ instead of し?</td>\n",
              "      <td>When do you use \"&amp;\" instead of \"and\"?</td>\n",
              "      <td>0</td>\n",
              "    </tr>\n",
              "    <tr>\n",
              "      <th>9</th>\n",
              "      <td>9</td>\n",
              "      <td>19</td>\n",
              "      <td>20</td>\n",
              "      <td>Motorola (company): Can I hack my Charter Moto...</td>\n",
              "      <td>How do I hack Motorola DCX3400 for free internet?</td>\n",
              "      <td>0</td>\n",
              "    </tr>\n",
              "  </tbody>\n",
              "</table>\n",
              "</div>"
            ],
            "text/plain": [
              "   id  qid1  ...                                          question2 is_duplicate\n",
              "0   0     1  ...  What is the step by step guide to invest in sh...            0\n",
              "1   1     3  ...  What would happen if the Indian government sto...            0\n",
              "2   2     5  ...  How can Internet speed be increased by hacking...            0\n",
              "3   3     7  ...  Find the remainder when [math]23^{24}[/math] i...            0\n",
              "4   4     9  ...            Which fish would survive in salt water?            0\n",
              "5   5    11  ...  I'm a triple Capricorn (Sun, Moon and ascendan...            1\n",
              "6   6    13  ...  What keeps childern active and far from phone ...            0\n",
              "7   7    15  ...          What should I do to be a great geologist?            1\n",
              "8   8    17  ...              When do you use \"&\" instead of \"and\"?            0\n",
              "9   9    19  ...  How do I hack Motorola DCX3400 for free internet?            0\n",
              "\n",
              "[10 rows x 6 columns]"
            ]
          },
          "metadata": {
            "tags": []
          },
          "execution_count": 6
        }
      ]
    },
    {
      "cell_type": "code",
      "metadata": {
        "id": "vRrrYyPKGFBx",
        "colab": {
          "base_uri": "https://localhost:8080/"
        },
        "outputId": "975b4749-1c09-4791-ff02-b51ec1a6ed42"
      },
      "source": [
        "data_frame.shape"
      ],
      "execution_count": 7,
      "outputs": [
        {
          "output_type": "execute_result",
          "data": {
            "text/plain": [
              "(404290, 6)"
            ]
          },
          "metadata": {
            "tags": []
          },
          "execution_count": 7
        }
      ]
    },
    {
      "cell_type": "code",
      "metadata": {
        "id": "FGL2HqHTpAfp",
        "colab": {
          "base_uri": "https://localhost:8080/"
        },
        "outputId": "1c0742a5-86aa-409a-a95c-9a5c5be36723"
      },
      "source": [
        "data_frame[data_frame.isnull().any(axis=1)].count()"
      ],
      "execution_count": 8,
      "outputs": [
        {
          "output_type": "execute_result",
          "data": {
            "text/plain": [
              "id              3\n",
              "qid1            3\n",
              "qid2            3\n",
              "question1       2\n",
              "question2       1\n",
              "is_duplicate    3\n",
              "dtype: int64"
            ]
          },
          "metadata": {
            "tags": []
          },
          "execution_count": 8
        }
      ]
    },
    {
      "cell_type": "code",
      "metadata": {
        "id": "7NkFxRhjxiiv",
        "colab": {
          "base_uri": "https://localhost:8080/"
        },
        "outputId": "e33c588d-f77a-4def-c5c6-2a359d462769"
      },
      "source": [
        "data_frame.dropna(axis=0, how='any', inplace=True)\n",
        "data_frame.shape"
      ],
      "execution_count": 9,
      "outputs": [
        {
          "output_type": "execute_result",
          "data": {
            "text/plain": [
              "(404287, 6)"
            ]
          },
          "metadata": {
            "tags": []
          },
          "execution_count": 9
        }
      ]
    },
    {
      "cell_type": "code",
      "metadata": {
        "id": "WrSif6o6zH_p",
        "colab": {
          "base_uri": "https://localhost:8080/"
        },
        "outputId": "c2f60843-4604-404d-e6f3-8ad0fec31bb4"
      },
      "source": [
        "data_frame[data_frame.isnull().any(axis=1)].count()"
      ],
      "execution_count": 10,
      "outputs": [
        {
          "output_type": "execute_result",
          "data": {
            "text/plain": [
              "id              0\n",
              "qid1            0\n",
              "qid2            0\n",
              "question1       0\n",
              "question2       0\n",
              "is_duplicate    0\n",
              "dtype: int64"
            ]
          },
          "metadata": {
            "tags": []
          },
          "execution_count": 10
        }
      ]
    },
    {
      "cell_type": "code",
      "metadata": {
        "id": "Nj9am1FQ2lfV",
        "colab": {
          "base_uri": "https://localhost:8080/",
          "height": 393
        },
        "outputId": "a1be1add-efe1-4033-b5d2-88035afa3bb9"
      },
      "source": [
        "is_dup = data_frame['is_duplicate'].value_counts()\n",
        "plt.figure(figsize=(5,5))\n",
        "sns.barplot(is_dup.index, is_dup.values)\n",
        "plt.xlabel(\"Is Duplicate\", fontsize=15, color='w')\n",
        "plt.ylabel('Counts', fontsize=15, color='w')\n",
        "plt.show()"
      ],
      "execution_count": 11,
      "outputs": [
        {
          "output_type": "stream",
          "text": [
            "/usr/local/lib/python3.6/dist-packages/seaborn/_decorators.py:43: FutureWarning: Pass the following variables as keyword args: x, y. From version 0.12, the only valid positional argument will be `data`, and passing other arguments without an explicit keyword will result in an error or misinterpretation.\n",
            "  FutureWarning\n"
          ],
          "name": "stderr"
        },
        {
          "output_type": "display_data",
          "data": {
            "image/png": "[encoded data removed]",
            "text/plain": [
              "<Figure size 360x360 with 1 Axes>"
            ]
          },
          "metadata": {
            "tags": [],
            "needs_background": "light"
          }
        }
      ]
    },
    {
      "cell_type": "code",
      "metadata": {
        "id": "upexD2CxHGo3",
        "colab": {
          "base_uri": "https://localhost:8080/"
        },
        "outputId": "097b054d-dd26-431a-b94a-f20dab3f146b"
      },
      "source": [
        "train_qs = pd.Series(data_frame['question1'].tolist()+data_frame['question2'].tolist(), ).astype(str)\n",
        "train_qs.shape[0]/data_frame.shape[0]"
      ],
      "execution_count": 12,
      "outputs": [
        {
          "output_type": "execute_result",
          "data": {
            "text/plain": [
              "2.0"
            ]
          },
          "metadata": {
            "tags": []
          },
          "execution_count": 12
        }
      ]
    },
    {
      "cell_type": "code",
      "metadata": {
        "id": "NNMq1uJZpM2y",
        "colab": {
          "base_uri": "https://localhost:8080/",
          "height": 35
        },
        "outputId": "1e5c9cc8-3e34-4fe0-c0e4-6001e00db9ff"
      },
      "source": [
        "train_qs[0]"
      ],
      "execution_count": 13,
      "outputs": [
        {
          "output_type": "execute_result",
          "data": {
            "application/vnd.google.colaboratory.intrinsic+json": {
              "type": "string"
            },
            "text/plain": [
              "'What is the step by step guide to invest in share market in india?'"
            ]
          },
          "metadata": {
            "tags": []
          },
          "execution_count": 13
        }
      ]
    },
    {
      "cell_type": "code",
      "metadata": {
        "id": "D68ozqjvpAx2",
        "colab": {
          "base_uri": "https://localhost:8080/",
          "height": 410
        },
        "outputId": "ead528b9-6eb0-4905-c46d-952ab996d0ee"
      },
      "source": [
        "all_ques = train_qs.apply(lambda x: len(str(x).split()))\n",
        "cnt = all_ques.value_counts()\n",
        "plt.figure(figsize=(20, 5))\n",
        "sns.barplot(cnt.index, cnt.values)\n",
        "plt.ylabel('No of questions', fontsize=15, color='w')\n",
        "plt.xlabel('No of words in question', fontsize=15, color='w')"
      ],
      "execution_count": 14,
      "outputs": [
        {
          "output_type": "stream",
          "text": [
            "/usr/local/lib/python3.6/dist-packages/seaborn/_decorators.py:43: FutureWarning: Pass the following variables as keyword args: x, y. From version 0.12, the only valid positional argument will be `data`, and passing other arguments without an explicit keyword will result in an error or misinterpretation.\n",
            "  FutureWarning\n"
          ],
          "name": "stderr"
        },
        {
          "output_type": "execute_result",
          "data": {
            "text/plain": [
              "Text(0.5, 0, 'No of words in question')"
            ]
          },
          "metadata": {
            "tags": []
          },
          "execution_count": 14
        },
        {
          "output_type": "display_data",
          "data": {
            "image/png": "[encoded data removed]",
            "text/plain": [
              "<Figure size 1440x360 with 1 Axes>"
            ]
          },
          "metadata": {
            "tags": [],
            "needs_background": "light"
          }
        }
      ]
    },
    {
      "cell_type": "code",
      "metadata": {
        "id": "aBs2m2dEt1H6",
        "colab": {
          "base_uri": "https://localhost:8080/",
          "height": 410
        },
        "outputId": "e5d4789c-1202-4c12-807b-3fc53308d945"
      },
      "source": [
        "char_len = train_qs.apply(lambda x: len(str(x)))\n",
        "cnt = char_len.value_counts()\n",
        "plt.figure(figsize=(9, 5))\n",
        "sns.barplot(cnt.index, cnt.values)\n",
        "plt.ylabel('No of questions', fontsize=15, color='w')\n",
        "plt.xlabel('No of characters in question', fontsize=15, color='w')"
      ],
      "execution_count": 15,
      "outputs": [
        {
          "output_type": "stream",
          "text": [
            "/usr/local/lib/python3.6/dist-packages/seaborn/_decorators.py:43: FutureWarning: Pass the following variables as keyword args: x, y. From version 0.12, the only valid positional argument will be `data`, and passing other arguments without an explicit keyword will result in an error or misinterpretation.\n",
            "  FutureWarning\n"
          ],
          "name": "stderr"
        },
        {
          "output_type": "execute_result",
          "data": {
            "text/plain": [
              "Text(0.5, 0, 'No of characters in question')"
            ]
          },
          "metadata": {
            "tags": []
          },
          "execution_count": 15
        },
        {
          "output_type": "display_data",
          "data": {
            "image/png": "[encoded data removed]",
            "text/plain": [
              "<Figure size 648x360 with 1 Axes>"
            ]
          },
          "metadata": {
            "tags": [],
            "needs_background": "light"
          }
        }
      ]
    },
    {
      "cell_type": "code",
      "metadata": {
        "id": "n8D2U4OOJ70A",
        "colab": {
          "base_uri": "https://localhost:8080/"
        },
        "outputId": "1072eb1e-a58a-48ff-9eba-962c86dd216d"
      },
      "source": [
        "word = \" \".join(train_qs).lower().split()\n",
        "print(\"length of word = {} \\nFirst word = {}\".format(len(word), word[0]))"
      ],
      "execution_count": 16,
      "outputs": [
        {
          "output_type": "stream",
          "text": [
            "length of word = 8944556 \n",
            "First word = what\n"
          ],
          "name": "stdout"
        }
      ]
    },
    {
      "cell_type": "code",
      "metadata": {
        "id": "8seSHWyaNCYa",
        "colab": {
          "base_uri": "https://localhost:8080/"
        },
        "outputId": "46bc1489-79d8-4763-c60f-41bd26319560"
      },
      "source": [
        "#counting the frequenct of each word and storing it in a container named counts \n",
        "from collections import Counter\n",
        "counts = Counter(word)\n",
        "counts['what']"
      ],
      "execution_count": 17,
      "outputs": [
        {
          "output_type": "execute_result",
          "data": {
            "text/plain": [
              "310962"
            ]
          },
          "metadata": {
            "tags": []
          },
          "execution_count": 17
        }
      ]
    },
    {
      "cell_type": "code",
      "metadata": {
        "id": "iK05VE6iO_jD"
      },
      "source": [
        "#now setting up weight for each word\n",
        "def get_weight(count, epsilon=10000, min_count=2):\n",
        "  return 0 if count<min_count else 1/(count+epsilon)\n",
        "weights = {word:get_weight(count) for word, count in counts.items()}"
      ],
      "execution_count": 18,
      "outputs": []
    },
    {
      "cell_type": "code",
      "metadata": {
        "id": "BdYJKMVtZkc-",
        "colab": {
          "base_uri": "https://localhost:8080/"
        },
        "outputId": "2f6481f5-c941-497a-a73e-fe28fc472520"
      },
      "source": [
        "import nltk\n",
        "nltk.download('stopwords')\n",
        "stop_words = set(nltk.corpus.stopwords.words('english'))"
      ],
      "execution_count": 19,
      "outputs": [
        {
          "output_type": "stream",
          "text": [
            "[nltk_data] Downloading package stopwords to /root/nltk_data...\n",
            "[nltk_data]   Unzipping corpora/stopwords.zip.\n"
          ],
          "name": "stdout"
        }
      ]
    },
    {
      "cell_type": "code",
      "metadata": {
        "id": "k56mM_IJbjkB"
      },
      "source": [
        "x = pd.DataFrame()"
      ],
      "execution_count": 71,
      "outputs": []
    },
    {
      "cell_type": "code",
      "metadata": {
        "id": "HS5sxUY0diyX",
        "colab": {
          "base_uri": "https://localhost:8080/"
        },
        "outputId": "fc7631c1-36f2-42c8-f261-233beec9f896"
      },
      "source": [
        "q1_list = str(data_frame['question1']).lower().split()\n",
        "q1 = set(q1_list)\n",
        "q1_words = q1.difference(stop_words)\n",
        "\n",
        "q2_list = str(data_frame['question2']).lower().split()\n",
        "q2 = set(q2_list)\n",
        "q2_words = q2.difference(stop_words)\n",
        "\n",
        "q1_stop = q1.intersection(stop_words) \n",
        "q2_stop = q2.intersection(stop_words)\n",
        "\n",
        "q1_bigram = set([i for i in zip(q1_list, q1_list[1:])])\n",
        "q2_bigram = set([i for i in zip(q2_list, q2_list[1:])])\n",
        "\n",
        "common_bigram = q1_bigram.intersection(q2_bigram)\n",
        "common_words = q1.intersection(q2)\n",
        "\n",
        "q1_weights = [weights.get(wrd, 0) for wrd in q1_words]\n",
        "q2_weights = [weights.get(wrd, 0) for wrd in q2_words]\n",
        "common_weight = [weights.get(wrd, 0) for wrd in common_words]\n",
        "total_weights = q1_weights + q2_weights\n",
        "\n",
        "Rcosine_denominator = (np.sqrt(np.dot(q1_weights,q1_weights))*np.sqrt(np.dot(q2_weights,q2_weights)))\n",
        "Rcosine_denominator"
      ],
      "execution_count": 72,
      "outputs": [
        {
          "output_type": "execute_result",
          "data": {
            "text/plain": [
              "2.706750662013944e-07"
            ]
          },
          "metadata": {
            "tags": []
          },
          "execution_count": 72
        }
      ]
    },
    {
      "cell_type": "code",
      "metadata": {
        "id": "mdk2YQP4ySWn"
      },
      "source": [
        "word_hamming = sum(1 for i in zip(q1_list, q2_list) if i[0]==i[1] )/max(len(q1_list), len(q2_list))"
      ],
      "execution_count": 73,
      "outputs": []
    },
    {
      "cell_type": "code",
      "metadata": {
        "id": "rXUipffphTXV"
      },
      "source": [
        "def word_shares(row):\n",
        "  q1_list = str(row[3]).lower().split()\n",
        "  q1 = set(q1_list)\n",
        "  q1words = q1.difference(stop_words)\n",
        "  if len(q1words) == 0:\n",
        "      return '0:0:0:0:0:0:0:0'\n",
        "  \n",
        "  q2_list = str(row[4]).lower().split()\n",
        "  q2 = set(q2_list)\n",
        "  q2words = q2.difference(stop_words)\n",
        "  if len(q2words) == 0:\n",
        "      return '0:0:0:0:0:0:0:0'\n",
        "  words_hamming = sum(1 for i in zip(q1_list, q2_list) if i[0]==i[1])/max(len(q1_list), len(q2_list))\n",
        "  q1stops = q1.intersection(stop_words)\n",
        "  q2stops = q2.intersection(stop_words)\n",
        "  q1_2gram = set([i for i in zip(q1_list, q1_list[1:])])\n",
        "  q2_2gram = set([i for i in zip(q2_list, q2_list[1:])])\n",
        "  shared_2gram = q1_2gram.intersection(q2_2gram)\n",
        "  shared_words = q1words.intersection(q2words)\n",
        "  shared_weights = [weights.get(w, 0) for w in shared_words]\n",
        "  q1_weights = [weights.get(w, 0) for w in q1words]\n",
        "  q2_weights = [weights.get(w, 0) for w in q2words]\n",
        "  total_weights = q1_weights + q1_weights\n",
        "  \n",
        "  R1 = np.sum(shared_weights) / np.sum(total_weights) #tfidf share\n",
        "  R2 = len(shared_words) / (len(q1words) + len(q2words) - len(shared_words)) #count share\n",
        "  R31 = len(q1stops) / len(q1words) #stops in q1\n",
        "  R32 = len(q2stops) / len(q2words) #stops in q2\n",
        "  Rcosine_denominator = (np.sqrt(np.dot(q1_weights,q1_weights))*np.sqrt(np.dot(q2_weights,q2_weights)))\n",
        "  Rcosine = np.dot(shared_weights, shared_weights)/Rcosine_denominator\n",
        "  if len(q1_2gram) + len(q2_2gram) == 0:\n",
        "      R2gram = 0\n",
        "  else:\n",
        "      R2gram = len(shared_2gram) / (len(q1_2gram) + len(q2_2gram))\n",
        "  return '{}:{}:{}:{}:{}:{}:{}:{}'.format(R1, R2, len(shared_words), R31, R32, R2gram, Rcosine, words_hamming)"
      ],
      "execution_count": 74,
      "outputs": []
    },
    {
      "cell_type": "code",
      "metadata": {
        "id": "EbWGGlEvjxSS",
        "colab": {
          "base_uri": "https://localhost:8080/"
        },
        "outputId": "ff1b1785-14e2-4a4c-b8bb-50b28e03119e"
      },
      "source": [
        "data_frame.head()\n",
        "data_frame['word_shares'] = data_frame.apply(word_shares, axis=1, raw=True)"
      ],
      "execution_count": 75,
      "outputs": [
        {
          "output_type": "stream",
          "text": [
            "/usr/local/lib/python3.6/dist-packages/ipykernel_launcher.py:25: RuntimeWarning: invalid value encountered in double_scalars\n",
            "/usr/local/lib/python3.6/dist-packages/ipykernel_launcher.py:30: RuntimeWarning: invalid value encountered in true_divide\n"
          ],
          "name": "stderr"
        }
      ]
    },
    {
      "cell_type": "code",
      "metadata": {
        "colab": {
          "base_uri": "https://localhost:8080/",
          "height": 195
        },
        "id": "krym1luK1dQk",
        "outputId": "8fbe1434-8426-49d6-841d-07098bd98da7"
      },
      "source": [
        "data_frame.head()"
      ],
      "execution_count": 76,
      "outputs": [
        {
          "output_type": "execute_result",
          "data": {
            "text/html": [
              "<div>\n",
              "<style scoped>\n",
              "    .dataframe tbody tr th:only-of-type {\n",
              "        vertical-align: middle;\n",
              "    }\n",
              "\n",
              "    .dataframe tbody tr th {\n",
              "        vertical-align: top;\n",
              "    }\n",
              "\n",
              "    .dataframe thead th {\n",
              "        text-align: right;\n",
              "    }\n",
              "</style>\n",
              "<table border=\"1\" class=\"dataframe\">\n",
              "  <thead>\n",
              "    <tr style=\"text-align: right;\">\n",
              "      <th></th>\n",
              "      <th>id</th>\n",
              "      <th>qid1</th>\n",
              "      <th>qid2</th>\n",
              "      <th>question1</th>\n",
              "      <th>question2</th>\n",
              "      <th>is_duplicate</th>\n",
              "      <th>word_shares</th>\n",
              "    </tr>\n",
              "  </thead>\n",
              "  <tbody>\n",
              "    <tr>\n",
              "      <th>0</th>\n",
              "      <td>0</td>\n",
              "      <td>1</td>\n",
              "      <td>2</td>\n",
              "      <td>What is the step by step guide to invest in sh...</td>\n",
              "      <td>What is the step by step guide to invest in sh...</td>\n",
              "      <td>0</td>\n",
              "      <td>0.3725595356751943:0.5714285714285714:4:1.0:1....</td>\n",
              "    </tr>\n",
              "    <tr>\n",
              "      <th>1</th>\n",
              "      <td>1</td>\n",
              "      <td>3</td>\n",
              "      <td>4</td>\n",
              "      <td>What is the story of Kohinoor (Koh-i-Noor) Dia...</td>\n",
              "      <td>What would happen if the Indian government sto...</td>\n",
              "      <td>0</td>\n",
              "      <td>0.2565225100964912:0.18181818181818182:2:1.0:0...</td>\n",
              "    </tr>\n",
              "    <tr>\n",
              "      <th>2</th>\n",
              "      <td>2</td>\n",
              "      <td>5</td>\n",
              "      <td>6</td>\n",
              "      <td>How can I increase the speed of my internet co...</td>\n",
              "      <td>How can Internet speed be increased by hacking...</td>\n",
              "      <td>0</td>\n",
              "      <td>0.17150662515468013:0.2222222222222222:2:1.333...</td>\n",
              "    </tr>\n",
              "    <tr>\n",
              "      <th>3</th>\n",
              "      <td>3</td>\n",
              "      <td>7</td>\n",
              "      <td>8</td>\n",
              "      <td>Why am I mentally very lonely? How can I solve...</td>\n",
              "      <td>Find the remainder when [math]23^{24}[/math] i...</td>\n",
              "      <td>0</td>\n",
              "      <td>0.0:0.0:0:1.5:0.8:0.0:0.0:0.0</td>\n",
              "    </tr>\n",
              "    <tr>\n",
              "      <th>4</th>\n",
              "      <td>4</td>\n",
              "      <td>9</td>\n",
              "      <td>10</td>\n",
              "      <td>Which one dissolve in water quikly sugar, salt...</td>\n",
              "      <td>Which fish would survive in salt water?</td>\n",
              "      <td>0</td>\n",
              "      <td>0.0:0.0:0:0.3:0.4:0.0:0.0:0.07692307692307693</td>\n",
              "    </tr>\n",
              "  </tbody>\n",
              "</table>\n",
              "</div>"
            ],
            "text/plain": [
              "   id  qid1  ...  is_duplicate                                        word_shares\n",
              "0   0     1  ...             0  0.3725595356751943:0.5714285714285714:4:1.0:1....\n",
              "1   1     3  ...             0  0.2565225100964912:0.18181818181818182:2:1.0:0...\n",
              "2   2     5  ...             0  0.17150662515468013:0.2222222222222222:2:1.333...\n",
              "3   3     7  ...             0                      0.0:0.0:0:1.5:0.8:0.0:0.0:0.0\n",
              "4   4     9  ...             0      0.0:0.0:0:0.3:0.4:0.0:0.0:0.07692307692307693\n",
              "\n",
              "[5 rows x 7 columns]"
            ]
          },
          "metadata": {
            "tags": []
          },
          "execution_count": 76
        }
      ]
    },
    {
      "cell_type": "code",
      "metadata": {
        "id": "6zNqTNt8j1sL",
        "colab": {
          "base_uri": "https://localhost:8080/"
        },
        "outputId": "07998caf-afe6-4856-b93b-1f5c0b65229a"
      },
      "source": [
        "print(data_frame['word_shares'][0])\n",
        "print(data_frame['word_shares'][1])\n",
        "print(data_frame['word_shares'][2])\n",
        "print(data_frame['word_shares'][3])\n",
        "print(data_frame['word_shares'][4])"
      ],
      "execution_count": 77,
      "outputs": [
        {
          "output_type": "stream",
          "text": [
            "0.3725595356751943:0.5714285714285714:4:1.0:1.2:0.4166666666666667:0.7951924319230587:0.7857142857142857\n",
            "0.2565225100964912:0.18181818181818182:2:1.0:0.3333333333333333:0.05263157894736842:0.410927039622762:0.07692307692307693\n",
            "0.17150662515468013:0.2222222222222222:2:1.3333333333333333:1.0:0.045454545454545456:0.3408833660992533:0.14285714285714285\n",
            "0.0:0.0:0:1.5:0.8:0.0:0.0:0.0\n",
            "0.0:0.0:0:0.3:0.4:0.0:0.0:0.07692307692307693\n"
          ],
          "name": "stdout"
        }
      ]
    },
    {
      "cell_type": "code",
      "metadata": {
        "id": "DDnOb0pFZcMm"
      },
      "source": [
        "x = pd.DataFrame()\n",
        "x['word_match']       = data_frame['word_shares'].apply(lambda x: float(x.split(':')[0]))\n",
        "x['word_match_2root'] = np.sqrt(x['word_match'])\n",
        "x['tfidf_word_match'] = data_frame['word_shares'].apply(lambda x: float(x.split(':')[1]))\n",
        "x['shared_count']     = data_frame['word_shares'].apply(lambda x: float(x.split(':')[2]))\n",
        "x['stops1_ratio']     = data_frame['word_shares'].apply(lambda x: float(x.split(':')[3]))\n",
        "x['stops2_ratio']     = data_frame['word_shares'].apply(lambda x: float(x.split(':')[4]))\n",
        "x['shared_2gram']     = data_frame['word_shares'].apply(lambda x: float(x.split(':')[5]))\n",
        "x['cosine']           = data_frame['word_shares'].apply(lambda x: float(x.split(':')[6]))\n",
        "x['words_hamming']    = data_frame['word_shares'].apply(lambda x: float(x.split(':')[7]))\n",
        "x['diff_stops_r']     = x['stops1_ratio'] - x['stops2_ratio']\n",
        "x['len_q1'] = data_frame['question1'].apply(lambda x: len(str(x)))\n",
        "x['len_q2'] = data_frame['question2'].apply(lambda x: len(str(x)))\n",
        "x['diff_len'] = x['len_q1'] - x['len_q2']\n",
        "\n",
        "x['caps_count_q1'] = data_frame['question1'].apply(lambda x:sum(1 for i in str(x) if i.isupper()))\n",
        "x['caps_count_q2'] = data_frame['question2'].apply(lambda x:sum(1 for i in str(x) if i.isupper()))\n",
        "x['diff_caps'] = x['caps_count_q1'] - x['caps_count_q2']\n",
        "x['len_char_q1'] = data_frame['question1'].apply(lambda x: len(str(x).replace(' ', '')))\n",
        "x['len_char_q2'] = data_frame['question2'].apply(lambda x: len(str(x).replace(' ', '')))\n",
        "x['diff_len_char'] = x['len_char_q1'] - x['len_char_q2']\n",
        "x['len_word_q1'] = data_frame['question1'].apply(lambda x: len(str(x).split()))\n",
        "x['len_word_q2'] = data_frame['question2'].apply(lambda x: len(str(x).split()))\n",
        "x['diff_len_word'] = x['len_word_q1'] - x['len_word_q2']\n",
        "x['avg_world_len1'] = x['len_char_q1'] / x['len_word_q1']\n",
        "x['avg_world_len2'] = x['len_char_q2'] / x['len_word_q2']\n",
        "x['diff_avg_word'] = x['avg_world_len1'] - x['avg_world_len2']\n",
        "x['exactly_same'] = (data_frame['question1'] == data_frame['question2']).astype(int)\n",
        "x['duplicated'] = data_frame.duplicated(['question1','question2']).astype(int)"
      ],
      "execution_count": 78,
      "outputs": []
    },
    {
      "cell_type": "code",
      "metadata": {
        "id": "lwHsC2fvN6co"
      },
      "source": [
        "x['exactly_same'] = (data_frame['question1'] == data_frame['question2']).astype(int)\n",
        "x['duplicated'] = data_frame.duplicated(['question1','question2']).astype(int)"
      ],
      "execution_count": 79,
      "outputs": []
    },
    {
      "cell_type": "code",
      "metadata": {
        "id": "Nv-TKilGQfFg"
      },
      "source": [
        "def add_word_count(x, df, word):\n",
        "    x['q1_' + word] = df['question1'].apply(lambda x: (word in str(x).lower())*1)\n",
        "    x['q2_' + word] = df['question2'].apply(lambda x: (word in str(x).lower())*1)\n",
        "    x[word + '_both'] = x['q1_' + word] * x['q2_' + word]\n",
        "\n",
        "\n",
        "add_word_count(x, data_frame,'how')\n",
        "add_word_count(x, data_frame,'what')\n",
        "add_word_count(x, data_frame,'which')\n",
        "add_word_count(x, data_frame,'who')\n",
        "add_word_count(x, data_frame,'where')\n",
        "add_word_count(x, data_frame,'when')\n",
        "add_word_count(x, data_frame,'why')"
      ],
      "execution_count": 80,
      "outputs": []
    },
    {
      "cell_type": "code",
      "metadata": {
        "id": "46R8QfTGQuGh",
        "colab": {
          "base_uri": "https://localhost:8080/"
        },
        "outputId": "47209a00-0a61-49fe-9ec8-54fc0348e0a4"
      },
      "source": [
        "x.columns"
      ],
      "execution_count": 81,
      "outputs": [
        {
          "output_type": "execute_result",
          "data": {
            "text/plain": [
              "Index(['word_match', 'word_match_2root', 'tfidf_word_match', 'shared_count',\n",
              "       'stops1_ratio', 'stops2_ratio', 'shared_2gram', 'cosine',\n",
              "       'words_hamming', 'diff_stops_r', 'len_q1', 'len_q2', 'diff_len',\n",
              "       'caps_count_q1', 'caps_count_q2', 'diff_caps', 'len_char_q1',\n",
              "       'len_char_q2', 'diff_len_char', 'len_word_q1', 'len_word_q2',\n",
              "       'diff_len_word', 'avg_world_len1', 'avg_world_len2', 'diff_avg_word',\n",
              "       'exactly_same', 'duplicated', 'q1_how', 'q2_how', 'how_both', 'q1_what',\n",
              "       'q2_what', 'what_both', 'q1_which', 'q2_which', 'which_both', 'q1_who',\n",
              "       'q2_who', 'who_both', 'q1_where', 'q2_where', 'where_both', 'q1_when',\n",
              "       'q2_when', 'when_both', 'q1_why', 'q2_why', 'why_both'],\n",
              "      dtype='object')"
            ]
          },
          "metadata": {
            "tags": []
          },
          "execution_count": 81
        }
      ]
    },
    {
      "cell_type": "code",
      "metadata": {
        "id": "uIYhBgMLQ5Fo",
        "colab": {
          "base_uri": "https://localhost:8080/",
          "height": 304
        },
        "outputId": "23f832ee-0203-4d3d-f747-60a77b0a3fa6"
      },
      "source": [
        "x.describe()"
      ],
      "execution_count": 82,
      "outputs": [
        {
          "output_type": "execute_result",
          "data": {
            "text/html": [
              "<div>\n",
              "<style scoped>\n",
              "    .dataframe tbody tr th:only-of-type {\n",
              "        vertical-align: middle;\n",
              "    }\n",
              "\n",
              "    .dataframe tbody tr th {\n",
              "        vertical-align: top;\n",
              "    }\n",
              "\n",
              "    .dataframe thead th {\n",
              "        text-align: right;\n",
              "    }\n",
              "</style>\n",
              "<table border=\"1\" class=\"dataframe\">\n",
              "  <thead>\n",
              "    <tr style=\"text-align: right;\">\n",
              "      <th></th>\n",
              "      <th>word_match</th>\n",
              "      <th>word_match_2root</th>\n",
              "      <th>tfidf_word_match</th>\n",
              "      <th>shared_count</th>\n",
              "      <th>stops1_ratio</th>\n",
              "      <th>stops2_ratio</th>\n",
              "      <th>shared_2gram</th>\n",
              "      <th>cosine</th>\n",
              "      <th>words_hamming</th>\n",
              "      <th>diff_stops_r</th>\n",
              "      <th>len_q1</th>\n",
              "      <th>len_q2</th>\n",
              "      <th>diff_len</th>\n",
              "      <th>caps_count_q1</th>\n",
              "      <th>caps_count_q2</th>\n",
              "      <th>diff_caps</th>\n",
              "      <th>len_char_q1</th>\n",
              "      <th>len_char_q2</th>\n",
              "      <th>diff_len_char</th>\n",
              "      <th>len_word_q1</th>\n",
              "      <th>len_word_q2</th>\n",
              "      <th>diff_len_word</th>\n",
              "      <th>avg_world_len1</th>\n",
              "      <th>avg_world_len2</th>\n",
              "      <th>diff_avg_word</th>\n",
              "      <th>exactly_same</th>\n",
              "      <th>duplicated</th>\n",
              "      <th>q1_how</th>\n",
              "      <th>q2_how</th>\n",
              "      <th>how_both</th>\n",
              "      <th>q1_what</th>\n",
              "      <th>q2_what</th>\n",
              "      <th>what_both</th>\n",
              "      <th>q1_which</th>\n",
              "      <th>q2_which</th>\n",
              "      <th>which_both</th>\n",
              "      <th>q1_who</th>\n",
              "      <th>q2_who</th>\n",
              "      <th>who_both</th>\n",
              "      <th>q1_where</th>\n",
              "      <th>q2_where</th>\n",
              "      <th>where_both</th>\n",
              "      <th>q1_when</th>\n",
              "      <th>q2_when</th>\n",
              "      <th>when_both</th>\n",
              "      <th>q1_why</th>\n",
              "      <th>q2_why</th>\n",
              "      <th>why_both</th>\n",
              "    </tr>\n",
              "  </thead>\n",
              "  <tbody>\n",
              "    <tr>\n",
              "      <th>count</th>\n",
              "      <td>403850.000000</td>\n",
              "      <td>403850.000000</td>\n",
              "      <td>404287.000000</td>\n",
              "      <td>404287.000000</td>\n",
              "      <td>404287.000000</td>\n",
              "      <td>404287.000000</td>\n",
              "      <td>404287.000000</td>\n",
              "      <td>403503.000000</td>\n",
              "      <td>404287.000000</td>\n",
              "      <td>404287.000000</td>\n",
              "      <td>404287.000000</td>\n",
              "      <td>404287.000000</td>\n",
              "      <td>404287.000000</td>\n",
              "      <td>404287.000000</td>\n",
              "      <td>404287.000000</td>\n",
              "      <td>404287.000000</td>\n",
              "      <td>404287.000000</td>\n",
              "      <td>404287.000000</td>\n",
              "      <td>404287.000000</td>\n",
              "      <td>404287.000000</td>\n",
              "      <td>404287.000000</td>\n",
              "      <td>404287.000000</td>\n",
              "      <td>404287.000000</td>\n",
              "      <td>404287.000000</td>\n",
              "      <td>404287.000000</td>\n",
              "      <td>404287.0</td>\n",
              "      <td>404287.0</td>\n",
              "      <td>404287.000000</td>\n",
              "      <td>404287.000000</td>\n",
              "      <td>404287.000000</td>\n",
              "      <td>404287.000000</td>\n",
              "      <td>404287.000000</td>\n",
              "      <td>404287.000000</td>\n",
              "      <td>404287.000000</td>\n",
              "      <td>404287.000000</td>\n",
              "      <td>404287.000000</td>\n",
              "      <td>404287.000000</td>\n",
              "      <td>404287.000000</td>\n",
              "      <td>404287.000000</td>\n",
              "      <td>404287.000000</td>\n",
              "      <td>404287.000000</td>\n",
              "      <td>404287.000000</td>\n",
              "      <td>404287.000000</td>\n",
              "      <td>404287.000000</td>\n",
              "      <td>404287.000000</td>\n",
              "      <td>404287.000000</td>\n",
              "      <td>404287.000000</td>\n",
              "      <td>404287.000000</td>\n",
              "    </tr>\n",
              "    <tr>\n",
              "      <th>mean</th>\n",
              "      <td>0.211045</td>\n",
              "      <td>0.405511</td>\n",
              "      <td>0.305237</td>\n",
              "      <td>2.119596</td>\n",
              "      <td>1.007549</td>\n",
              "      <td>1.017716</td>\n",
              "      <td>0.122985</td>\n",
              "      <td>0.409500</td>\n",
              "      <td>0.221450</td>\n",
              "      <td>-0.010167</td>\n",
              "      <td>59.536997</td>\n",
              "      <td>60.108507</td>\n",
              "      <td>-0.571510</td>\n",
              "      <td>2.713646</td>\n",
              "      <td>2.764009</td>\n",
              "      <td>-0.050363</td>\n",
              "      <td>49.592359</td>\n",
              "      <td>49.923361</td>\n",
              "      <td>-0.331002</td>\n",
              "      <td>10.942256</td>\n",
              "      <td>11.182017</td>\n",
              "      <td>-0.239760</td>\n",
              "      <td>4.582692</td>\n",
              "      <td>4.521823</td>\n",
              "      <td>0.060870</td>\n",
              "      <td>0.0</td>\n",
              "      <td>0.0</td>\n",
              "      <td>0.270887</td>\n",
              "      <td>0.274360</td>\n",
              "      <td>0.171415</td>\n",
              "      <td>0.396763</td>\n",
              "      <td>0.391160</td>\n",
              "      <td>0.271112</td>\n",
              "      <td>0.053732</td>\n",
              "      <td>0.053494</td>\n",
              "      <td>0.021794</td>\n",
              "      <td>0.033390</td>\n",
              "      <td>0.034409</td>\n",
              "      <td>0.016360</td>\n",
              "      <td>0.022318</td>\n",
              "      <td>0.022239</td>\n",
              "      <td>0.009332</td>\n",
              "      <td>0.032289</td>\n",
              "      <td>0.031737</td>\n",
              "      <td>0.010742</td>\n",
              "      <td>0.101297</td>\n",
              "      <td>0.101136</td>\n",
              "      <td>0.051780</td>\n",
              "    </tr>\n",
              "    <tr>\n",
              "      <th>std</th>\n",
              "      <td>0.150129</td>\n",
              "      <td>0.215883</td>\n",
              "      <td>0.254596</td>\n",
              "      <td>1.723616</td>\n",
              "      <td>0.487865</td>\n",
              "      <td>0.489760</td>\n",
              "      <td>0.129799</td>\n",
              "      <td>0.294229</td>\n",
              "      <td>0.271029</td>\n",
              "      <td>0.511660</td>\n",
              "      <td>29.940553</td>\n",
              "      <td>33.863588</td>\n",
              "      <td>32.566186</td>\n",
              "      <td>2.396500</td>\n",
              "      <td>2.450618</td>\n",
              "      <td>2.473446</td>\n",
              "      <td>24.785740</td>\n",
              "      <td>27.803732</td>\n",
              "      <td>26.750844</td>\n",
              "      <td>5.428812</td>\n",
              "      <td>6.305210</td>\n",
              "      <td>6.078812</td>\n",
              "      <td>0.834293</td>\n",
              "      <td>0.814860</td>\n",
              "      <td>0.803563</td>\n",
              "      <td>0.0</td>\n",
              "      <td>0.0</td>\n",
              "      <td>0.444418</td>\n",
              "      <td>0.446192</td>\n",
              "      <td>0.376872</td>\n",
              "      <td>0.489227</td>\n",
              "      <td>0.488011</td>\n",
              "      <td>0.444534</td>\n",
              "      <td>0.225488</td>\n",
              "      <td>0.225017</td>\n",
              "      <td>0.146010</td>\n",
              "      <td>0.179652</td>\n",
              "      <td>0.182277</td>\n",
              "      <td>0.126855</td>\n",
              "      <td>0.147717</td>\n",
              "      <td>0.147461</td>\n",
              "      <td>0.096153</td>\n",
              "      <td>0.176767</td>\n",
              "      <td>0.175300</td>\n",
              "      <td>0.103087</td>\n",
              "      <td>0.301722</td>\n",
              "      <td>0.301509</td>\n",
              "      <td>0.221583</td>\n",
              "    </tr>\n",
              "    <tr>\n",
              "      <th>min</th>\n",
              "      <td>0.000000</td>\n",
              "      <td>0.000000</td>\n",
              "      <td>0.000000</td>\n",
              "      <td>0.000000</td>\n",
              "      <td>0.000000</td>\n",
              "      <td>0.000000</td>\n",
              "      <td>0.000000</td>\n",
              "      <td>0.000000</td>\n",
              "      <td>0.000000</td>\n",
              "      <td>-6.250000</td>\n",
              "      <td>1.000000</td>\n",
              "      <td>1.000000</td>\n",
              "      <td>-1080.000000</td>\n",
              "      <td>0.000000</td>\n",
              "      <td>0.000000</td>\n",
              "      <td>-111.000000</td>\n",
              "      <td>1.000000</td>\n",
              "      <td>1.000000</td>\n",
              "      <td>-857.000000</td>\n",
              "      <td>1.000000</td>\n",
              "      <td>1.000000</td>\n",
              "      <td>-223.000000</td>\n",
              "      <td>1.000000</td>\n",
              "      <td>1.000000</td>\n",
              "      <td>-22.500000</td>\n",
              "      <td>0.0</td>\n",
              "      <td>0.0</td>\n",
              "      <td>0.000000</td>\n",
              "      <td>0.000000</td>\n",
              "      <td>0.000000</td>\n",
              "      <td>0.000000</td>\n",
              "      <td>0.000000</td>\n",
              "      <td>0.000000</td>\n",
              "      <td>0.000000</td>\n",
              "      <td>0.000000</td>\n",
              "      <td>0.000000</td>\n",
              "      <td>0.000000</td>\n",
              "      <td>0.000000</td>\n",
              "      <td>0.000000</td>\n",
              "      <td>0.000000</td>\n",
              "      <td>0.000000</td>\n",
              "      <td>0.000000</td>\n",
              "      <td>0.000000</td>\n",
              "      <td>0.000000</td>\n",
              "      <td>0.000000</td>\n",
              "      <td>0.000000</td>\n",
              "      <td>0.000000</td>\n",
              "      <td>0.000000</td>\n",
              "    </tr>\n",
              "    <tr>\n",
              "      <th>25%</th>\n",
              "      <td>0.092266</td>\n",
              "      <td>0.303754</td>\n",
              "      <td>0.111111</td>\n",
              "      <td>1.000000</td>\n",
              "      <td>0.666667</td>\n",
              "      <td>0.666667</td>\n",
              "      <td>0.000000</td>\n",
              "      <td>0.175420</td>\n",
              "      <td>0.000000</td>\n",
              "      <td>-0.261538</td>\n",
              "      <td>39.000000</td>\n",
              "      <td>39.000000</td>\n",
              "      <td>-11.000000</td>\n",
              "      <td>1.000000</td>\n",
              "      <td>1.000000</td>\n",
              "      <td>-1.000000</td>\n",
              "      <td>33.000000</td>\n",
              "      <td>32.000000</td>\n",
              "      <td>-9.000000</td>\n",
              "      <td>7.000000</td>\n",
              "      <td>7.000000</td>\n",
              "      <td>-2.000000</td>\n",
              "      <td>4.000000</td>\n",
              "      <td>4.000000</td>\n",
              "      <td>-0.375000</td>\n",
              "      <td>0.0</td>\n",
              "      <td>0.0</td>\n",
              "      <td>0.000000</td>\n",
              "      <td>0.000000</td>\n",
              "      <td>0.000000</td>\n",
              "      <td>0.000000</td>\n",
              "      <td>0.000000</td>\n",
              "      <td>0.000000</td>\n",
              "      <td>0.000000</td>\n",
              "      <td>0.000000</td>\n",
              "      <td>0.000000</td>\n",
              "      <td>0.000000</td>\n",
              "      <td>0.000000</td>\n",
              "      <td>0.000000</td>\n",
              "      <td>0.000000</td>\n",
              "      <td>0.000000</td>\n",
              "      <td>0.000000</td>\n",
              "      <td>0.000000</td>\n",
              "      <td>0.000000</td>\n",
              "      <td>0.000000</td>\n",
              "      <td>0.000000</td>\n",
              "      <td>0.000000</td>\n",
              "      <td>0.000000</td>\n",
              "    </tr>\n",
              "    <tr>\n",
              "      <th>50%</th>\n",
              "      <td>0.201044</td>\n",
              "      <td>0.448380</td>\n",
              "      <td>0.250000</td>\n",
              "      <td>2.000000</td>\n",
              "      <td>1.000000</td>\n",
              "      <td>1.000000</td>\n",
              "      <td>0.083333</td>\n",
              "      <td>0.392266</td>\n",
              "      <td>0.107143</td>\n",
              "      <td>0.000000</td>\n",
              "      <td>52.000000</td>\n",
              "      <td>51.000000</td>\n",
              "      <td>0.000000</td>\n",
              "      <td>2.000000</td>\n",
              "      <td>2.000000</td>\n",
              "      <td>0.000000</td>\n",
              "      <td>43.000000</td>\n",
              "      <td>42.000000</td>\n",
              "      <td>0.000000</td>\n",
              "      <td>10.000000</td>\n",
              "      <td>10.000000</td>\n",
              "      <td>0.000000</td>\n",
              "      <td>4.500000</td>\n",
              "      <td>4.428571</td>\n",
              "      <td>0.035714</td>\n",
              "      <td>0.0</td>\n",
              "      <td>0.0</td>\n",
              "      <td>0.000000</td>\n",
              "      <td>0.000000</td>\n",
              "      <td>0.000000</td>\n",
              "      <td>0.000000</td>\n",
              "      <td>0.000000</td>\n",
              "      <td>0.000000</td>\n",
              "      <td>0.000000</td>\n",
              "      <td>0.000000</td>\n",
              "      <td>0.000000</td>\n",
              "      <td>0.000000</td>\n",
              "      <td>0.000000</td>\n",
              "      <td>0.000000</td>\n",
              "      <td>0.000000</td>\n",
              "      <td>0.000000</td>\n",
              "      <td>0.000000</td>\n",
              "      <td>0.000000</td>\n",
              "      <td>0.000000</td>\n",
              "      <td>0.000000</td>\n",
              "      <td>0.000000</td>\n",
              "      <td>0.000000</td>\n",
              "      <td>0.000000</td>\n",
              "    </tr>\n",
              "    <tr>\n",
              "      <th>75%</th>\n",
              "      <td>0.323254</td>\n",
              "      <td>0.568555</td>\n",
              "      <td>0.444444</td>\n",
              "      <td>3.000000</td>\n",
              "      <td>1.250000</td>\n",
              "      <td>1.250000</td>\n",
              "      <td>0.200000</td>\n",
              "      <td>0.627567</td>\n",
              "      <td>0.363636</td>\n",
              "      <td>0.250000</td>\n",
              "      <td>72.000000</td>\n",
              "      <td>72.000000</td>\n",
              "      <td>12.000000</td>\n",
              "      <td>3.000000</td>\n",
              "      <td>4.000000</td>\n",
              "      <td>1.000000</td>\n",
              "      <td>60.000000</td>\n",
              "      <td>60.000000</td>\n",
              "      <td>10.000000</td>\n",
              "      <td>13.000000</td>\n",
              "      <td>13.000000</td>\n",
              "      <td>2.000000</td>\n",
              "      <td>5.000000</td>\n",
              "      <td>5.000000</td>\n",
              "      <td>0.485714</td>\n",
              "      <td>0.0</td>\n",
              "      <td>0.0</td>\n",
              "      <td>1.000000</td>\n",
              "      <td>1.000000</td>\n",
              "      <td>0.000000</td>\n",
              "      <td>1.000000</td>\n",
              "      <td>1.000000</td>\n",
              "      <td>1.000000</td>\n",
              "      <td>0.000000</td>\n",
              "      <td>0.000000</td>\n",
              "      <td>0.000000</td>\n",
              "      <td>0.000000</td>\n",
              "      <td>0.000000</td>\n",
              "      <td>0.000000</td>\n",
              "      <td>0.000000</td>\n",
              "      <td>0.000000</td>\n",
              "      <td>0.000000</td>\n",
              "      <td>0.000000</td>\n",
              "      <td>0.000000</td>\n",
              "      <td>0.000000</td>\n",
              "      <td>0.000000</td>\n",
              "      <td>0.000000</td>\n",
              "      <td>0.000000</td>\n",
              "    </tr>\n",
              "    <tr>\n",
              "      <th>max</th>\n",
              "      <td>0.500000</td>\n",
              "      <td>0.707107</td>\n",
              "      <td>1.000000</td>\n",
              "      <td>23.000000</td>\n",
              "      <td>8.000000</td>\n",
              "      <td>8.000000</td>\n",
              "      <td>0.500000</td>\n",
              "      <td>1.000000</td>\n",
              "      <td>1.000000</td>\n",
              "      <td>6.750000</td>\n",
              "      <td>623.000000</td>\n",
              "      <td>1169.000000</td>\n",
              "      <td>487.000000</td>\n",
              "      <td>111.000000</td>\n",
              "      <td>112.000000</td>\n",
              "      <td>110.000000</td>\n",
              "      <td>499.000000</td>\n",
              "      <td>942.000000</td>\n",
              "      <td>389.000000</td>\n",
              "      <td>125.000000</td>\n",
              "      <td>237.000000</td>\n",
              "      <td>98.000000</td>\n",
              "      <td>36.000000</td>\n",
              "      <td>32.333333</td>\n",
              "      <td>25.142857</td>\n",
              "      <td>0.0</td>\n",
              "      <td>0.0</td>\n",
              "      <td>1.000000</td>\n",
              "      <td>1.000000</td>\n",
              "      <td>1.000000</td>\n",
              "      <td>1.000000</td>\n",
              "      <td>1.000000</td>\n",
              "      <td>1.000000</td>\n",
              "      <td>1.000000</td>\n",
              "      <td>1.000000</td>\n",
              "      <td>1.000000</td>\n",
              "      <td>1.000000</td>\n",
              "      <td>1.000000</td>\n",
              "      <td>1.000000</td>\n",
              "      <td>1.000000</td>\n",
              "      <td>1.000000</td>\n",
              "      <td>1.000000</td>\n",
              "      <td>1.000000</td>\n",
              "      <td>1.000000</td>\n",
              "      <td>1.000000</td>\n",
              "      <td>1.000000</td>\n",
              "      <td>1.000000</td>\n",
              "      <td>1.000000</td>\n",
              "    </tr>\n",
              "  </tbody>\n",
              "</table>\n",
              "</div>"
            ],
            "text/plain": [
              "          word_match  word_match_2root  ...         q2_why       why_both\n",
              "count  403850.000000     403850.000000  ...  404287.000000  404287.000000\n",
              "mean        0.211045          0.405511  ...       0.101136       0.051780\n",
              "std         0.150129          0.215883  ...       0.301509       0.221583\n",
              "min         0.000000          0.000000  ...       0.000000       0.000000\n",
              "25%         0.092266          0.303754  ...       0.000000       0.000000\n",
              "50%         0.201044          0.448380  ...       0.000000       0.000000\n",
              "75%         0.323254          0.568555  ...       0.000000       0.000000\n",
              "max         0.500000          0.707107  ...       1.000000       1.000000\n",
              "\n",
              "[8 rows x 48 columns]"
            ]
          },
          "metadata": {
            "tags": []
          },
          "execution_count": 82
        }
      ]
    },
    {
      "cell_type": "code",
      "metadata": {
        "colab": {
          "base_uri": "https://localhost:8080/"
        },
        "id": "Kz2c9WGgBXvG",
        "outputId": "ab81d6c3-0377-4b60-d193-47559b1a820e"
      },
      "source": [
        "x.fillna(0)\n",
        "x.shape"
      ],
      "execution_count": 83,
      "outputs": [
        {
          "output_type": "execute_result",
          "data": {
            "text/plain": [
              "(404287, 48)"
            ]
          },
          "metadata": {
            "tags": []
          },
          "execution_count": 83
        }
      ]
    },
    {
      "cell_type": "code",
      "metadata": {
        "id": "ObnPh-Cu5_nQ",
        "colab": {
          "base_uri": "https://localhost:8080/",
          "height": 363
        },
        "outputId": "2eacc0b0-f328-46fa-deab-65121b053b77"
      },
      "source": [
        "x.head(10)"
      ],
      "execution_count": 84,
      "outputs": [
        {
          "output_type": "execute_result",
          "data": {
            "text/html": [
              "<div>\n",
              "<style scoped>\n",
              "    .dataframe tbody tr th:only-of-type {\n",
              "        vertical-align: middle;\n",
              "    }\n",
              "\n",
              "    .dataframe tbody tr th {\n",
              "        vertical-align: top;\n",
              "    }\n",
              "\n",
              "    .dataframe thead th {\n",
              "        text-align: right;\n",
              "    }\n",
              "</style>\n",
              "<table border=\"1\" class=\"dataframe\">\n",
              "  <thead>\n",
              "    <tr style=\"text-align: right;\">\n",
              "      <th></th>\n",
              "      <th>word_match</th>\n",
              "      <th>word_match_2root</th>\n",
              "      <th>tfidf_word_match</th>\n",
              "      <th>shared_count</th>\n",
              "      <th>stops1_ratio</th>\n",
              "      <th>stops2_ratio</th>\n",
              "      <th>shared_2gram</th>\n",
              "      <th>cosine</th>\n",
              "      <th>words_hamming</th>\n",
              "      <th>diff_stops_r</th>\n",
              "      <th>len_q1</th>\n",
              "      <th>len_q2</th>\n",
              "      <th>diff_len</th>\n",
              "      <th>caps_count_q1</th>\n",
              "      <th>caps_count_q2</th>\n",
              "      <th>diff_caps</th>\n",
              "      <th>len_char_q1</th>\n",
              "      <th>len_char_q2</th>\n",
              "      <th>diff_len_char</th>\n",
              "      <th>len_word_q1</th>\n",
              "      <th>len_word_q2</th>\n",
              "      <th>diff_len_word</th>\n",
              "      <th>avg_world_len1</th>\n",
              "      <th>avg_world_len2</th>\n",
              "      <th>diff_avg_word</th>\n",
              "      <th>exactly_same</th>\n",
              "      <th>duplicated</th>\n",
              "      <th>q1_how</th>\n",
              "      <th>q2_how</th>\n",
              "      <th>how_both</th>\n",
              "      <th>q1_what</th>\n",
              "      <th>q2_what</th>\n",
              "      <th>what_both</th>\n",
              "      <th>q1_which</th>\n",
              "      <th>q2_which</th>\n",
              "      <th>which_both</th>\n",
              "      <th>q1_who</th>\n",
              "      <th>q2_who</th>\n",
              "      <th>who_both</th>\n",
              "      <th>q1_where</th>\n",
              "      <th>q2_where</th>\n",
              "      <th>where_both</th>\n",
              "      <th>q1_when</th>\n",
              "      <th>q2_when</th>\n",
              "      <th>when_both</th>\n",
              "      <th>q1_why</th>\n",
              "      <th>q2_why</th>\n",
              "      <th>why_both</th>\n",
              "    </tr>\n",
              "  </thead>\n",
              "  <tbody>\n",
              "    <tr>\n",
              "      <th>0</th>\n",
              "      <td>0.372560</td>\n",
              "      <td>0.610377</td>\n",
              "      <td>0.571429</td>\n",
              "      <td>4.0</td>\n",
              "      <td>1.000000</td>\n",
              "      <td>1.200000</td>\n",
              "      <td>0.416667</td>\n",
              "      <td>0.795192</td>\n",
              "      <td>0.785714</td>\n",
              "      <td>-0.200000</td>\n",
              "      <td>66</td>\n",
              "      <td>57</td>\n",
              "      <td>9</td>\n",
              "      <td>1</td>\n",
              "      <td>1</td>\n",
              "      <td>0</td>\n",
              "      <td>53</td>\n",
              "      <td>46</td>\n",
              "      <td>7</td>\n",
              "      <td>14</td>\n",
              "      <td>12</td>\n",
              "      <td>2</td>\n",
              "      <td>3.785714</td>\n",
              "      <td>3.833333</td>\n",
              "      <td>-0.047619</td>\n",
              "      <td>0</td>\n",
              "      <td>0</td>\n",
              "      <td>0</td>\n",
              "      <td>0</td>\n",
              "      <td>0</td>\n",
              "      <td>1</td>\n",
              "      <td>1</td>\n",
              "      <td>1</td>\n",
              "      <td>0</td>\n",
              "      <td>0</td>\n",
              "      <td>0</td>\n",
              "      <td>0</td>\n",
              "      <td>0</td>\n",
              "      <td>0</td>\n",
              "      <td>0</td>\n",
              "      <td>0</td>\n",
              "      <td>0</td>\n",
              "      <td>0</td>\n",
              "      <td>0</td>\n",
              "      <td>0</td>\n",
              "      <td>0</td>\n",
              "      <td>0</td>\n",
              "      <td>0</td>\n",
              "    </tr>\n",
              "    <tr>\n",
              "      <th>1</th>\n",
              "      <td>0.256523</td>\n",
              "      <td>0.506481</td>\n",
              "      <td>0.181818</td>\n",
              "      <td>2.0</td>\n",
              "      <td>1.000000</td>\n",
              "      <td>0.333333</td>\n",
              "      <td>0.052632</td>\n",
              "      <td>0.410927</td>\n",
              "      <td>0.076923</td>\n",
              "      <td>0.666667</td>\n",
              "      <td>51</td>\n",
              "      <td>88</td>\n",
              "      <td>-37</td>\n",
              "      <td>5</td>\n",
              "      <td>5</td>\n",
              "      <td>0</td>\n",
              "      <td>44</td>\n",
              "      <td>76</td>\n",
              "      <td>-32</td>\n",
              "      <td>8</td>\n",
              "      <td>13</td>\n",
              "      <td>-5</td>\n",
              "      <td>5.500000</td>\n",
              "      <td>5.846154</td>\n",
              "      <td>-0.346154</td>\n",
              "      <td>0</td>\n",
              "      <td>0</td>\n",
              "      <td>0</td>\n",
              "      <td>0</td>\n",
              "      <td>0</td>\n",
              "      <td>1</td>\n",
              "      <td>1</td>\n",
              "      <td>1</td>\n",
              "      <td>0</td>\n",
              "      <td>0</td>\n",
              "      <td>0</td>\n",
              "      <td>0</td>\n",
              "      <td>0</td>\n",
              "      <td>0</td>\n",
              "      <td>0</td>\n",
              "      <td>0</td>\n",
              "      <td>0</td>\n",
              "      <td>0</td>\n",
              "      <td>0</td>\n",
              "      <td>0</td>\n",
              "      <td>0</td>\n",
              "      <td>0</td>\n",
              "      <td>0</td>\n",
              "    </tr>\n",
              "    <tr>\n",
              "      <th>2</th>\n",
              "      <td>0.171507</td>\n",
              "      <td>0.414134</td>\n",
              "      <td>0.222222</td>\n",
              "      <td>2.0</td>\n",
              "      <td>1.333333</td>\n",
              "      <td>1.000000</td>\n",
              "      <td>0.045455</td>\n",
              "      <td>0.340883</td>\n",
              "      <td>0.142857</td>\n",
              "      <td>0.333333</td>\n",
              "      <td>73</td>\n",
              "      <td>59</td>\n",
              "      <td>14</td>\n",
              "      <td>5</td>\n",
              "      <td>5</td>\n",
              "      <td>0</td>\n",
              "      <td>60</td>\n",
              "      <td>50</td>\n",
              "      <td>10</td>\n",
              "      <td>14</td>\n",
              "      <td>10</td>\n",
              "      <td>4</td>\n",
              "      <td>4.285714</td>\n",
              "      <td>5.000000</td>\n",
              "      <td>-0.714286</td>\n",
              "      <td>0</td>\n",
              "      <td>0</td>\n",
              "      <td>1</td>\n",
              "      <td>1</td>\n",
              "      <td>1</td>\n",
              "      <td>0</td>\n",
              "      <td>0</td>\n",
              "      <td>0</td>\n",
              "      <td>0</td>\n",
              "      <td>0</td>\n",
              "      <td>0</td>\n",
              "      <td>0</td>\n",
              "      <td>0</td>\n",
              "      <td>0</td>\n",
              "      <td>0</td>\n",
              "      <td>0</td>\n",
              "      <td>0</td>\n",
              "      <td>0</td>\n",
              "      <td>0</td>\n",
              "      <td>0</td>\n",
              "      <td>0</td>\n",
              "      <td>0</td>\n",
              "      <td>0</td>\n",
              "    </tr>\n",
              "    <tr>\n",
              "      <th>3</th>\n",
              "      <td>0.000000</td>\n",
              "      <td>0.000000</td>\n",
              "      <td>0.000000</td>\n",
              "      <td>0.0</td>\n",
              "      <td>1.500000</td>\n",
              "      <td>0.800000</td>\n",
              "      <td>0.000000</td>\n",
              "      <td>0.000000</td>\n",
              "      <td>0.000000</td>\n",
              "      <td>0.700000</td>\n",
              "      <td>50</td>\n",
              "      <td>65</td>\n",
              "      <td>-15</td>\n",
              "      <td>4</td>\n",
              "      <td>1</td>\n",
              "      <td>3</td>\n",
              "      <td>40</td>\n",
              "      <td>57</td>\n",
              "      <td>-17</td>\n",
              "      <td>11</td>\n",
              "      <td>9</td>\n",
              "      <td>2</td>\n",
              "      <td>3.636364</td>\n",
              "      <td>6.333333</td>\n",
              "      <td>-2.696970</td>\n",
              "      <td>0</td>\n",
              "      <td>0</td>\n",
              "      <td>1</td>\n",
              "      <td>0</td>\n",
              "      <td>0</td>\n",
              "      <td>0</td>\n",
              "      <td>0</td>\n",
              "      <td>0</td>\n",
              "      <td>0</td>\n",
              "      <td>0</td>\n",
              "      <td>0</td>\n",
              "      <td>0</td>\n",
              "      <td>0</td>\n",
              "      <td>0</td>\n",
              "      <td>0</td>\n",
              "      <td>0</td>\n",
              "      <td>0</td>\n",
              "      <td>0</td>\n",
              "      <td>1</td>\n",
              "      <td>0</td>\n",
              "      <td>1</td>\n",
              "      <td>0</td>\n",
              "      <td>0</td>\n",
              "    </tr>\n",
              "    <tr>\n",
              "      <th>4</th>\n",
              "      <td>0.000000</td>\n",
              "      <td>0.000000</td>\n",
              "      <td>0.000000</td>\n",
              "      <td>0.0</td>\n",
              "      <td>0.300000</td>\n",
              "      <td>0.400000</td>\n",
              "      <td>0.000000</td>\n",
              "      <td>0.000000</td>\n",
              "      <td>0.076923</td>\n",
              "      <td>-0.100000</td>\n",
              "      <td>76</td>\n",
              "      <td>39</td>\n",
              "      <td>37</td>\n",
              "      <td>1</td>\n",
              "      <td>1</td>\n",
              "      <td>0</td>\n",
              "      <td>64</td>\n",
              "      <td>33</td>\n",
              "      <td>31</td>\n",
              "      <td>13</td>\n",
              "      <td>7</td>\n",
              "      <td>6</td>\n",
              "      <td>4.923077</td>\n",
              "      <td>4.714286</td>\n",
              "      <td>0.208791</td>\n",
              "      <td>0</td>\n",
              "      <td>0</td>\n",
              "      <td>0</td>\n",
              "      <td>0</td>\n",
              "      <td>0</td>\n",
              "      <td>0</td>\n",
              "      <td>0</td>\n",
              "      <td>0</td>\n",
              "      <td>1</td>\n",
              "      <td>1</td>\n",
              "      <td>1</td>\n",
              "      <td>0</td>\n",
              "      <td>0</td>\n",
              "      <td>0</td>\n",
              "      <td>0</td>\n",
              "      <td>0</td>\n",
              "      <td>0</td>\n",
              "      <td>0</td>\n",
              "      <td>0</td>\n",
              "      <td>0</td>\n",
              "      <td>0</td>\n",
              "      <td>0</td>\n",
              "      <td>0</td>\n",
              "    </tr>\n",
              "    <tr>\n",
              "      <th>5</th>\n",
              "      <td>0.269175</td>\n",
              "      <td>0.518820</td>\n",
              "      <td>0.307692</td>\n",
              "      <td>4.0</td>\n",
              "      <td>0.875000</td>\n",
              "      <td>0.777778</td>\n",
              "      <td>0.100000</td>\n",
              "      <td>0.488688</td>\n",
              "      <td>0.250000</td>\n",
              "      <td>0.097222</td>\n",
              "      <td>86</td>\n",
              "      <td>90</td>\n",
              "      <td>-4</td>\n",
              "      <td>5</td>\n",
              "      <td>6</td>\n",
              "      <td>-1</td>\n",
              "      <td>71</td>\n",
              "      <td>75</td>\n",
              "      <td>-4</td>\n",
              "      <td>16</td>\n",
              "      <td>16</td>\n",
              "      <td>0</td>\n",
              "      <td>4.437500</td>\n",
              "      <td>4.687500</td>\n",
              "      <td>-0.250000</td>\n",
              "      <td>0</td>\n",
              "      <td>0</td>\n",
              "      <td>0</td>\n",
              "      <td>0</td>\n",
              "      <td>0</td>\n",
              "      <td>1</td>\n",
              "      <td>1</td>\n",
              "      <td>1</td>\n",
              "      <td>0</td>\n",
              "      <td>0</td>\n",
              "      <td>0</td>\n",
              "      <td>0</td>\n",
              "      <td>0</td>\n",
              "      <td>0</td>\n",
              "      <td>0</td>\n",
              "      <td>0</td>\n",
              "      <td>0</td>\n",
              "      <td>0</td>\n",
              "      <td>0</td>\n",
              "      <td>0</td>\n",
              "      <td>0</td>\n",
              "      <td>0</td>\n",
              "      <td>0</td>\n",
              "    </tr>\n",
              "    <tr>\n",
              "      <th>6</th>\n",
              "      <td>0.000000</td>\n",
              "      <td>0.000000</td>\n",
              "      <td>0.000000</td>\n",
              "      <td>0.0</td>\n",
              "      <td>1.000000</td>\n",
              "      <td>0.428571</td>\n",
              "      <td>0.000000</td>\n",
              "      <td>0.000000</td>\n",
              "      <td>0.000000</td>\n",
              "      <td>0.571429</td>\n",
              "      <td>19</td>\n",
              "      <td>62</td>\n",
              "      <td>-43</td>\n",
              "      <td>2</td>\n",
              "      <td>1</td>\n",
              "      <td>1</td>\n",
              "      <td>16</td>\n",
              "      <td>52</td>\n",
              "      <td>-36</td>\n",
              "      <td>4</td>\n",
              "      <td>11</td>\n",
              "      <td>-7</td>\n",
              "      <td>4.000000</td>\n",
              "      <td>4.727273</td>\n",
              "      <td>-0.727273</td>\n",
              "      <td>0</td>\n",
              "      <td>0</td>\n",
              "      <td>0</td>\n",
              "      <td>0</td>\n",
              "      <td>0</td>\n",
              "      <td>0</td>\n",
              "      <td>1</td>\n",
              "      <td>0</td>\n",
              "      <td>0</td>\n",
              "      <td>0</td>\n",
              "      <td>0</td>\n",
              "      <td>0</td>\n",
              "      <td>0</td>\n",
              "      <td>0</td>\n",
              "      <td>0</td>\n",
              "      <td>0</td>\n",
              "      <td>0</td>\n",
              "      <td>0</td>\n",
              "      <td>0</td>\n",
              "      <td>0</td>\n",
              "      <td>0</td>\n",
              "      <td>0</td>\n",
              "      <td>0</td>\n",
              "    </tr>\n",
              "    <tr>\n",
              "      <th>7</th>\n",
              "      <td>0.385400</td>\n",
              "      <td>0.620806</td>\n",
              "      <td>0.333333</td>\n",
              "      <td>1.0</td>\n",
              "      <td>2.500000</td>\n",
              "      <td>3.500000</td>\n",
              "      <td>0.071429</td>\n",
              "      <td>0.748695</td>\n",
              "      <td>0.111111</td>\n",
              "      <td>-1.000000</td>\n",
              "      <td>30</td>\n",
              "      <td>41</td>\n",
              "      <td>-11</td>\n",
              "      <td>2</td>\n",
              "      <td>2</td>\n",
              "      <td>0</td>\n",
              "      <td>24</td>\n",
              "      <td>33</td>\n",
              "      <td>-9</td>\n",
              "      <td>7</td>\n",
              "      <td>9</td>\n",
              "      <td>-2</td>\n",
              "      <td>3.428571</td>\n",
              "      <td>3.666667</td>\n",
              "      <td>-0.238095</td>\n",
              "      <td>0</td>\n",
              "      <td>0</td>\n",
              "      <td>1</td>\n",
              "      <td>0</td>\n",
              "      <td>0</td>\n",
              "      <td>0</td>\n",
              "      <td>1</td>\n",
              "      <td>0</td>\n",
              "      <td>0</td>\n",
              "      <td>0</td>\n",
              "      <td>0</td>\n",
              "      <td>0</td>\n",
              "      <td>0</td>\n",
              "      <td>0</td>\n",
              "      <td>0</td>\n",
              "      <td>0</td>\n",
              "      <td>0</td>\n",
              "      <td>0</td>\n",
              "      <td>0</td>\n",
              "      <td>0</td>\n",
              "      <td>0</td>\n",
              "      <td>0</td>\n",
              "      <td>0</td>\n",
              "    </tr>\n",
              "    <tr>\n",
              "      <th>8</th>\n",
              "      <td>0.198258</td>\n",
              "      <td>0.445262</td>\n",
              "      <td>0.333333</td>\n",
              "      <td>2.0</td>\n",
              "      <td>1.000000</td>\n",
              "      <td>1.000000</td>\n",
              "      <td>0.285714</td>\n",
              "      <td>0.318783</td>\n",
              "      <td>0.750000</td>\n",
              "      <td>0.000000</td>\n",
              "      <td>31</td>\n",
              "      <td>37</td>\n",
              "      <td>-6</td>\n",
              "      <td>1</td>\n",
              "      <td>1</td>\n",
              "      <td>0</td>\n",
              "      <td>24</td>\n",
              "      <td>30</td>\n",
              "      <td>-6</td>\n",
              "      <td>8</td>\n",
              "      <td>8</td>\n",
              "      <td>0</td>\n",
              "      <td>3.000000</td>\n",
              "      <td>3.750000</td>\n",
              "      <td>-0.750000</td>\n",
              "      <td>0</td>\n",
              "      <td>0</td>\n",
              "      <td>0</td>\n",
              "      <td>0</td>\n",
              "      <td>0</td>\n",
              "      <td>0</td>\n",
              "      <td>0</td>\n",
              "      <td>0</td>\n",
              "      <td>0</td>\n",
              "      <td>0</td>\n",
              "      <td>0</td>\n",
              "      <td>0</td>\n",
              "      <td>0</td>\n",
              "      <td>0</td>\n",
              "      <td>0</td>\n",
              "      <td>0</td>\n",
              "      <td>0</td>\n",
              "      <td>1</td>\n",
              "      <td>1</td>\n",
              "      <td>1</td>\n",
              "      <td>0</td>\n",
              "      <td>0</td>\n",
              "      <td>0</td>\n",
              "    </tr>\n",
              "    <tr>\n",
              "      <th>9</th>\n",
              "      <td>0.239904</td>\n",
              "      <td>0.489800</td>\n",
              "      <td>0.222222</td>\n",
              "      <td>2.0</td>\n",
              "      <td>0.500000</td>\n",
              "      <td>0.800000</td>\n",
              "      <td>0.062500</td>\n",
              "      <td>0.506342</td>\n",
              "      <td>0.000000</td>\n",
              "      <td>-0.300000</td>\n",
              "      <td>60</td>\n",
              "      <td>49</td>\n",
              "      <td>11</td>\n",
              "      <td>8</td>\n",
              "      <td>6</td>\n",
              "      <td>2</td>\n",
              "      <td>52</td>\n",
              "      <td>41</td>\n",
              "      <td>11</td>\n",
              "      <td>9</td>\n",
              "      <td>9</td>\n",
              "      <td>0</td>\n",
              "      <td>5.777778</td>\n",
              "      <td>4.555556</td>\n",
              "      <td>1.222222</td>\n",
              "      <td>0</td>\n",
              "      <td>0</td>\n",
              "      <td>0</td>\n",
              "      <td>1</td>\n",
              "      <td>0</td>\n",
              "      <td>0</td>\n",
              "      <td>0</td>\n",
              "      <td>0</td>\n",
              "      <td>0</td>\n",
              "      <td>0</td>\n",
              "      <td>0</td>\n",
              "      <td>0</td>\n",
              "      <td>0</td>\n",
              "      <td>0</td>\n",
              "      <td>0</td>\n",
              "      <td>0</td>\n",
              "      <td>0</td>\n",
              "      <td>0</td>\n",
              "      <td>0</td>\n",
              "      <td>0</td>\n",
              "      <td>0</td>\n",
              "      <td>0</td>\n",
              "      <td>0</td>\n",
              "    </tr>\n",
              "  </tbody>\n",
              "</table>\n",
              "</div>"
            ],
            "text/plain": [
              "   word_match  word_match_2root  tfidf_word_match  ...  q1_why  q2_why  why_both\n",
              "0    0.372560          0.610377          0.571429  ...       0       0         0\n",
              "1    0.256523          0.506481          0.181818  ...       0       0         0\n",
              "2    0.171507          0.414134          0.222222  ...       0       0         0\n",
              "3    0.000000          0.000000          0.000000  ...       1       0         0\n",
              "4    0.000000          0.000000          0.000000  ...       0       0         0\n",
              "5    0.269175          0.518820          0.307692  ...       0       0         0\n",
              "6    0.000000          0.000000          0.000000  ...       0       0         0\n",
              "7    0.385400          0.620806          0.333333  ...       0       0         0\n",
              "8    0.198258          0.445262          0.333333  ...       0       0         0\n",
              "9    0.239904          0.489800          0.222222  ...       0       0         0\n",
              "\n",
              "[10 rows x 48 columns]"
            ]
          },
          "metadata": {
            "tags": []
          },
          "execution_count": 84
        }
      ]
    },
    {
      "cell_type": "code",
      "metadata": {
        "id": "KhfRU4X9RBte",
        "colab": {
          "base_uri": "https://localhost:8080/"
        },
        "outputId": "32a2666c-b652-48af-847d-d7cd30709119"
      },
      "source": [
        "print(list(x.columns.values))"
      ],
      "execution_count": 85,
      "outputs": [
        {
          "output_type": "stream",
          "text": [
            "['word_match', 'word_match_2root', 'tfidf_word_match', 'shared_count', 'stops1_ratio', 'stops2_ratio', 'shared_2gram', 'cosine', 'words_hamming', 'diff_stops_r', 'len_q1', 'len_q2', 'diff_len', 'caps_count_q1', 'caps_count_q2', 'diff_caps', 'len_char_q1', 'len_char_q2', 'diff_len_char', 'len_word_q1', 'len_word_q2', 'diff_len_word', 'avg_world_len1', 'avg_world_len2', 'diff_avg_word', 'exactly_same', 'duplicated', 'q1_how', 'q2_how', 'how_both', 'q1_what', 'q2_what', 'what_both', 'q1_which', 'q2_which', 'which_both', 'q1_who', 'q2_who', 'who_both', 'q1_where', 'q2_where', 'where_both', 'q1_when', 'q2_when', 'when_both', 'q1_why', 'q2_why', 'why_both']\n"
          ],
          "name": "stdout"
        }
      ]
    },
    {
      "cell_type": "markdown",
      "metadata": {
        "id": "UemGe7GA0riX"
      },
      "source": [
        "**Feature Engineering**"
      ]
    },
    {
      "cell_type": "code",
      "metadata": {
        "colab": {
          "base_uri": "https://localhost:8080/",
          "height": 636
        },
        "id": "vlXGH--906-J",
        "outputId": "86e7749e-85f4-4ae4-99cc-4e9d86361a10"
      },
      "source": [
        "x['is_duplicate'] = data_frame['is_duplicate']\n",
        "plt.subplots(figsize=(10,10))\n",
        "sns.heatmap(x.corr(), vmax=0.9, square=True)"
      ],
      "execution_count": 86,
      "outputs": [
        {
          "output_type": "execute_result",
          "data": {
            "text/plain": [
              "<matplotlib.axes._subplots.AxesSubplot at 0x7fbaefc73278>"
            ]
          },
          "metadata": {
            "tags": []
          },
          "execution_count": 86
        },
        {
          "output_type": "display_data",
          "data": {
            "image/png": "[encoded data removed]",
            "text/plain": [
              "<Figure size 720x720 with 2 Axes>"
            ]
          },
          "metadata": {
            "tags": [],
            "needs_background": "light"
          }
        }
      ]
    },
    {
      "cell_type": "code",
      "metadata": {
        "id": "SA8qLzWxRHJt",
        "colab": {
          "base_uri": "https://localhost:8080/"
        },
        "outputId": "84b4cb7b-fc7a-4957-fe7b-418ac8d472b1"
      },
      "source": [
        "from sklearn.model_selection import train_test_split\n",
        "#x = x.drop(labels=['is_duplicate'], axis=1, inplace=False)\n",
        "y = x.is_duplicate\n",
        "x.drop(labels=['is_duplicate'], inplace=True, axis=1)\n",
        "X_train, X_test, y_train, y_test = train_test_split(x, y, test_size=0.3, random_state=42)\n",
        "print(x.shape)\n",
        "print(X_train.shape)\n",
        "print(y_train.shape)\n",
        "print(X_test.shape)\n",
        "print(y_test.shape)"
      ],
      "execution_count": 87,
      "outputs": [
        {
          "output_type": "stream",
          "text": [
            "(404287, 48)\n",
            "(283000, 48)\n",
            "(283000,)\n",
            "(121287, 48)\n",
            "(121287,)\n"
          ],
          "name": "stdout"
        }
      ]
    },
    {
      "cell_type": "code",
      "metadata": {
        "id": "VaMrN1DiVnv7"
      },
      "source": [
        "param = {}\n",
        "param['learning_rate'] = 0.1\n",
        "param['boosting_type'] = 'dart'\n",
        "param['objective'] = 'binary'\n",
        "param['metric'] = 'binary_logloss'\n",
        "param['sub_feature'] = 0.5\n",
        "param['num_leaves'] = 512\n",
        "param['min_data'] = 50\n",
        "param['min_hessian'] = 1"
      ],
      "execution_count": 88,
      "outputs": []
    },
    {
      "cell_type": "code",
      "metadata": {
        "id": "rHw2kwsFUeic"
      },
      "source": [
        "RS = 123457\n",
        "ROUNDS = 190\n",
        "\n",
        "def train_lgb(X, y, params):\n",
        "    print(\"Will train LightGB for {} rounds, RandomSeed: {}\".format(ROUNDS, RS))\n",
        "    x, X_val, y_train, y_val = train_test_split(X, y, test_size=0.2, random_state=RS)\n",
        "    xg_train = lgb.Dataset(x, label=y_train)\n",
        "    xg_val = lgb.Dataset(X_val, label=y_val)\n",
        "    watchlist  = [xg_val]\n",
        "    clf = lgb.train(params, xg_train, ROUNDS, watchlist);\n",
        "    return clf"
      ],
      "execution_count": 89,
      "outputs": []
    },
    {
      "cell_type": "code",
      "metadata": {
        "id": "vtwKcYEtVnu_"
      },
      "source": [
        "def predict_lgb(clr, X_test):\n",
        "    return clr.predict(X_test)"
      ],
      "execution_count": 90,
      "outputs": []
    },
    {
      "cell_type": "code",
      "metadata": {
        "id": "0F5oUR0bVK29",
        "colab": {
          "base_uri": "https://localhost:8080/"
        },
        "outputId": "ff392716-95aa-430e-c9d5-e20bb5965c85"
      },
      "source": [
        "import lightgbm as lgb\n",
        "print(\"Training data: X_train: {}, Y_train: {}, X_test: {}\".format(X_train.shape, len(y_train), X_test.shape))\n",
        "clr = train_lgb(X_train, y_train, param)"
      ],
      "execution_count": 91,
      "outputs": [
        {
          "output_type": "stream",
          "text": [
            "Training data: X_train: (283000, 48), Y_train: 283000, X_test: (121287, 48)\n",
            "Will train LightGB for 190 rounds, RandomSeed: 123457\n",
            "[1]\tvalid_0's binary_logloss: 0.629117\n",
            "[2]\tvalid_0's binary_logloss: 0.599983\n",
            "[3]\tvalid_0's binary_logloss: 0.579384\n",
            "[4]\tvalid_0's binary_logloss: 0.559301\n",
            "[5]\tvalid_0's binary_logloss: 0.54228\n",
            "[6]\tvalid_0's binary_logloss: 0.526131\n",
            "[7]\tvalid_0's binary_logloss: 0.514934\n",
            "[8]\tvalid_0's binary_logloss: 0.520807\n",
            "[9]\tvalid_0's binary_logloss: 0.507459\n",
            "[10]\tvalid_0's binary_logloss: 0.497474\n",
            "[11]\tvalid_0's binary_logloss: 0.487391\n",
            "[12]\tvalid_0's binary_logloss: 0.490786\n",
            "[13]\tvalid_0's binary_logloss: 0.483069\n",
            "[14]\tvalid_0's binary_logloss: 0.474809\n",
            "[15]\tvalid_0's binary_logloss: 0.467348\n",
            "[16]\tvalid_0's binary_logloss: 0.460833\n",
            "[17]\tvalid_0's binary_logloss: 0.456326\n",
            "[18]\tvalid_0's binary_logloss: 0.451564\n",
            "[19]\tvalid_0's binary_logloss: 0.446981\n",
            "[20]\tvalid_0's binary_logloss: 0.44387\n",
            "[21]\tvalid_0's binary_logloss: 0.444684\n",
            "[22]\tvalid_0's binary_logloss: 0.441875\n",
            "[23]\tvalid_0's binary_logloss: 0.438269\n",
            "[24]\tvalid_0's binary_logloss: 0.434908\n",
            "[25]\tvalid_0's binary_logloss: 0.432567\n",
            "[26]\tvalid_0's binary_logloss: 0.430049\n",
            "[27]\tvalid_0's binary_logloss: 0.427468\n",
            "[28]\tvalid_0's binary_logloss: 0.428494\n",
            "[29]\tvalid_0's binary_logloss: 0.426108\n",
            "[30]\tvalid_0's binary_logloss: 0.424496\n",
            "[31]\tvalid_0's binary_logloss: 0.424908\n",
            "[32]\tvalid_0's binary_logloss: 0.422982\n",
            "[33]\tvalid_0's binary_logloss: 0.421657\n",
            "[34]\tvalid_0's binary_logloss: 0.419926\n",
            "[35]\tvalid_0's binary_logloss: 0.420478\n",
            "[36]\tvalid_0's binary_logloss: 0.421898\n",
            "[37]\tvalid_0's binary_logloss: 0.420226\n",
            "[38]\tvalid_0's binary_logloss: 0.419088\n",
            "[39]\tvalid_0's binary_logloss: 0.417644\n",
            "[40]\tvalid_0's binary_logloss: 0.417559\n",
            "[41]\tvalid_0's binary_logloss: 0.418509\n",
            "[42]\tvalid_0's binary_logloss: 0.41741\n",
            "[43]\tvalid_0's binary_logloss: 0.418318\n",
            "[44]\tvalid_0's binary_logloss: 0.416978\n",
            "[45]\tvalid_0's binary_logloss: 0.416004\n",
            "[46]\tvalid_0's binary_logloss: 0.417064\n",
            "[47]\tvalid_0's binary_logloss: 0.415849\n",
            "[48]\tvalid_0's binary_logloss: 0.415999\n",
            "[49]\tvalid_0's binary_logloss: 0.416863\n",
            "[50]\tvalid_0's binary_logloss: 0.417642\n",
            "[51]\tvalid_0's binary_logloss: 0.416543\n",
            "[52]\tvalid_0's binary_logloss: 0.415501\n",
            "[53]\tvalid_0's binary_logloss: 0.416004\n",
            "[54]\tvalid_0's binary_logloss: 0.415068\n",
            "[55]\tvalid_0's binary_logloss: 0.414202\n",
            "[56]\tvalid_0's binary_logloss: 0.415144\n",
            "[57]\tvalid_0's binary_logloss: 0.414074\n",
            "[58]\tvalid_0's binary_logloss: 0.415019\n",
            "[59]\tvalid_0's binary_logloss: 0.415937\n",
            "[60]\tvalid_0's binary_logloss: 0.414718\n",
            "[61]\tvalid_0's binary_logloss: 0.415584\n",
            "[62]\tvalid_0's binary_logloss: 0.41436\n",
            "[63]\tvalid_0's binary_logloss: 0.41347\n",
            "[64]\tvalid_0's binary_logloss: 0.414107\n",
            "[65]\tvalid_0's binary_logloss: 0.414596\n",
            "[66]\tvalid_0's binary_logloss: 0.413796\n",
            "[67]\tvalid_0's binary_logloss: 0.412975\n",
            "[68]\tvalid_0's binary_logloss: 0.412096\n",
            "[69]\tvalid_0's binary_logloss: 0.412589\n",
            "[70]\tvalid_0's binary_logloss: 0.412842\n",
            "[71]\tvalid_0's binary_logloss: 0.413402\n",
            "[72]\tvalid_0's binary_logloss: 0.412676\n",
            "[73]\tvalid_0's binary_logloss: 0.411736\n",
            "[74]\tvalid_0's binary_logloss: 0.412169\n",
            "[75]\tvalid_0's binary_logloss: 0.411184\n",
            "[76]\tvalid_0's binary_logloss: 0.411142\n",
            "[77]\tvalid_0's binary_logloss: 0.411492\n",
            "[78]\tvalid_0's binary_logloss: 0.412\n",
            "[79]\tvalid_0's binary_logloss: 0.411016\n",
            "[80]\tvalid_0's binary_logloss: 0.410112\n",
            "[81]\tvalid_0's binary_logloss: 0.410547\n",
            "[82]\tvalid_0's binary_logloss: 0.409994\n",
            "[83]\tvalid_0's binary_logloss: 0.410433\n",
            "[84]\tvalid_0's binary_logloss: 0.410934\n",
            "[85]\tvalid_0's binary_logloss: 0.411435\n",
            "[86]\tvalid_0's binary_logloss: 0.410459\n",
            "[87]\tvalid_0's binary_logloss: 0.409577\n",
            "[88]\tvalid_0's binary_logloss: 0.410173\n",
            "[89]\tvalid_0's binary_logloss: 0.410555\n",
            "[90]\tvalid_0's binary_logloss: 0.411029\n",
            "[91]\tvalid_0's binary_logloss: 0.411422\n",
            "[92]\tvalid_0's binary_logloss: 0.410492\n",
            "[93]\tvalid_0's binary_logloss: 0.409591\n",
            "[94]\tvalid_0's binary_logloss: 0.409991\n",
            "[95]\tvalid_0's binary_logloss: 0.410381\n",
            "[96]\tvalid_0's binary_logloss: 0.41077\n",
            "[97]\tvalid_0's binary_logloss: 0.410015\n",
            "[98]\tvalid_0's binary_logloss: 0.410398\n",
            "[99]\tvalid_0's binary_logloss: 0.409648\n",
            "[100]\tvalid_0's binary_logloss: 0.40881\n",
            "[101]\tvalid_0's binary_logloss: 0.409379\n",
            "[102]\tvalid_0's binary_logloss: 0.409772\n",
            "[103]\tvalid_0's binary_logloss: 0.410187\n",
            "[104]\tvalid_0's binary_logloss: 0.409428\n",
            "[105]\tvalid_0's binary_logloss: 0.409915\n",
            "[106]\tvalid_0's binary_logloss: 0.41037\n",
            "[107]\tvalid_0's binary_logloss: 0.410874\n",
            "[108]\tvalid_0's binary_logloss: 0.410183\n",
            "[109]\tvalid_0's binary_logloss: 0.410565\n",
            "[110]\tvalid_0's binary_logloss: 0.410956\n",
            "[111]\tvalid_0's binary_logloss: 0.410429\n",
            "[112]\tvalid_0's binary_logloss: 0.40965\n",
            "[113]\tvalid_0's binary_logloss: 0.408921\n",
            "[114]\tvalid_0's binary_logloss: 0.408319\n",
            "[115]\tvalid_0's binary_logloss: 0.407657\n",
            "[116]\tvalid_0's binary_logloss: 0.407063\n",
            "[117]\tvalid_0's binary_logloss: 0.40735\n",
            "[118]\tvalid_0's binary_logloss: 0.406744\n",
            "[119]\tvalid_0's binary_logloss: 0.407021\n",
            "[120]\tvalid_0's binary_logloss: 0.407375\n",
            "[121]\tvalid_0's binary_logloss: 0.407752\n",
            "[122]\tvalid_0's binary_logloss: 0.408165\n",
            "[123]\tvalid_0's binary_logloss: 0.407638\n",
            "[124]\tvalid_0's binary_logloss: 0.407132\n",
            "[125]\tvalid_0's binary_logloss: 0.407451\n",
            "[126]\tvalid_0's binary_logloss: 0.40774\n",
            "[127]\tvalid_0's binary_logloss: 0.407263\n",
            "[128]\tvalid_0's binary_logloss: 0.407568\n",
            "[129]\tvalid_0's binary_logloss: 0.406995\n",
            "[130]\tvalid_0's binary_logloss: 0.406571\n",
            "[131]\tvalid_0's binary_logloss: 0.406778\n",
            "[132]\tvalid_0's binary_logloss: 0.406424\n",
            "[133]\tvalid_0's binary_logloss: 0.406035\n",
            "[134]\tvalid_0's binary_logloss: 0.406309\n",
            "[135]\tvalid_0's binary_logloss: 0.405758\n",
            "[136]\tvalid_0's binary_logloss: 0.406051\n",
            "[137]\tvalid_0's binary_logloss: 0.406285\n",
            "[138]\tvalid_0's binary_logloss: 0.405755\n",
            "[139]\tvalid_0's binary_logloss: 0.405179\n",
            "[140]\tvalid_0's binary_logloss: 0.405468\n",
            "[141]\tvalid_0's binary_logloss: 0.405721\n",
            "[142]\tvalid_0's binary_logloss: 0.405937\n",
            "[143]\tvalid_0's binary_logloss: 0.405436\n",
            "[144]\tvalid_0's binary_logloss: 0.405678\n",
            "[145]\tvalid_0's binary_logloss: 0.405272\n",
            "[146]\tvalid_0's binary_logloss: 0.405571\n",
            "[147]\tvalid_0's binary_logloss: 0.405841\n",
            "[148]\tvalid_0's binary_logloss: 0.406134\n",
            "[149]\tvalid_0's binary_logloss: 0.405539\n",
            "[150]\tvalid_0's binary_logloss: 0.405205\n",
            "[151]\tvalid_0's binary_logloss: 0.405489\n",
            "[152]\tvalid_0's binary_logloss: 0.405767\n",
            "[153]\tvalid_0's binary_logloss: 0.405244\n",
            "[154]\tvalid_0's binary_logloss: 0.405487\n",
            "[155]\tvalid_0's binary_logloss: 0.404966\n",
            "[156]\tvalid_0's binary_logloss: 0.405212\n",
            "[157]\tvalid_0's binary_logloss: 0.405363\n",
            "[158]\tvalid_0's binary_logloss: 0.405624\n",
            "[159]\tvalid_0's binary_logloss: 0.405898\n",
            "[160]\tvalid_0's binary_logloss: 0.4062\n",
            "[161]\tvalid_0's binary_logloss: 0.405738\n",
            "[162]\tvalid_0's binary_logloss: 0.405991\n",
            "[163]\tvalid_0's binary_logloss: 0.405548\n",
            "[164]\tvalid_0's binary_logloss: 0.404903\n",
            "[165]\tvalid_0's binary_logloss: 0.404443\n",
            "[166]\tvalid_0's binary_logloss: 0.404133\n",
            "[167]\tvalid_0's binary_logloss: 0.403762\n",
            "[168]\tvalid_0's binary_logloss: 0.403262\n",
            "[169]\tvalid_0's binary_logloss: 0.402926\n",
            "[170]\tvalid_0's binary_logloss: 0.403114\n",
            "[171]\tvalid_0's binary_logloss: 0.402927\n",
            "[172]\tvalid_0's binary_logloss: 0.403113\n",
            "[173]\tvalid_0's binary_logloss: 0.402848\n",
            "[174]\tvalid_0's binary_logloss: 0.402588\n",
            "[175]\tvalid_0's binary_logloss: 0.402246\n",
            "[176]\tvalid_0's binary_logloss: 0.40236\n",
            "[177]\tvalid_0's binary_logloss: 0.402527\n",
            "[178]\tvalid_0's binary_logloss: 0.402684\n",
            "[179]\tvalid_0's binary_logloss: 0.402394\n",
            "[180]\tvalid_0's binary_logloss: 0.402552\n",
            "[181]\tvalid_0's binary_logloss: 0.402223\n",
            "[182]\tvalid_0's binary_logloss: 0.40192\n",
            "[183]\tvalid_0's binary_logloss: 0.401565\n",
            "[184]\tvalid_0's binary_logloss: 0.401338\n",
            "[185]\tvalid_0's binary_logloss: 0.401507\n",
            "[186]\tvalid_0's binary_logloss: 0.401164\n",
            "[187]\tvalid_0's binary_logloss: 0.401\n",
            "[188]\tvalid_0's binary_logloss: 0.400888\n",
            "[189]\tvalid_0's binary_logloss: 0.401036\n",
            "[190]\tvalid_0's binary_logloss: 0.401187\n"
          ],
          "name": "stdout"
        }
      ]
    },
    {
      "cell_type": "code",
      "metadata": {
        "id": "qi7gFiW5XWvE",
        "colab": {
          "base_uri": "https://localhost:8080/"
        },
        "outputId": "cc58afc8-59e1-41bb-9705-b0b0d9ed4607"
      },
      "source": [
        "from sklearn.metrics import log_loss, accuracy_score\n",
        "lgb_y_pred = predict_lgb(clr, X_test.fillna(0))\n",
        "loss = log_loss(y_test, lgb_y_pred)\n",
        "print(loss)\n",
        "temp = [round(value) for value in lgb_y_pred]\n",
        "accuracy_score(y_test, temp)"
      ],
      "execution_count": 92,
      "outputs": [
        {
          "output_type": "stream",
          "text": [
            "0.3987180885429239\n"
          ],
          "name": "stdout"
        },
        {
          "output_type": "execute_result",
          "data": {
            "text/plain": [
              "0.7915192889592454"
            ]
          },
          "metadata": {
            "tags": []
          },
          "execution_count": 92
        }
      ]
    },
    {
      "cell_type": "code",
      "metadata": {
        "colab": {
          "base_uri": "https://localhost:8080/"
        },
        "id": "C5LUGq41opL-",
        "outputId": "ba2c2ef6-dbba-4d46-ff02-fbcc796e8854"
      },
      "source": [
        "from xgboost import XGBClassifier\n",
        "from sklearn.metrics import accuracy_score\n",
        "xgboost = XGBClassifier()\n",
        "xgboost.fit(X_train.fillna(0), y_train)\n",
        "#y_pred = xgboost.predict(X_test)"
      ],
      "execution_count": 93,
      "outputs": [
        {
          "output_type": "execute_result",
          "data": {
            "text/plain": [
              "XGBClassifier(base_score=0.5, booster='gbtree', colsample_bylevel=1,\n",
              "              colsample_bynode=1, colsample_bytree=1, gamma=0,\n",
              "              learning_rate=0.1, max_delta_step=0, max_depth=3,\n",
              "              min_child_weight=1, missing=None, n_estimators=100, n_jobs=1,\n",
              "              nthread=None, objective='binary:logistic', random_state=0,\n",
              "              reg_alpha=0, reg_lambda=1, scale_pos_weight=1, seed=None,\n",
              "              silent=None, subsample=1, verbosity=1)"
            ]
          },
          "metadata": {
            "tags": []
          },
          "execution_count": 93
        }
      ]
    },
    {
      "cell_type": "code",
      "metadata": {
        "colab": {
          "base_uri": "https://localhost:8080/"
        },
        "id": "nQNWYzqUQvCX",
        "outputId": "4bb1ca33-6e18-4d70-d7db-aa8a3ff1fe29"
      },
      "source": [
        "y_pred = xgboost.predict(X_test)\n",
        "loss = log_loss(y_test, y_pred)\n",
        "print(loss)\n",
        "temp = [round(value) for value in y_pred]\n",
        "accuracy_score(y_test, temp)"
      ],
      "execution_count": 94,
      "outputs": [
        {
          "output_type": "stream",
          "text": [
            "8.35270892756495\n"
          ],
          "name": "stdout"
        },
        {
          "output_type": "execute_result",
          "data": {
            "text/plain": [
              "0.7581686413218235"
            ]
          },
          "metadata": {
            "tags": []
          },
          "execution_count": 94
        }
      ]
    },
    {
      "cell_type": "code",
      "metadata": {
        "colab": {
          "base_uri": "https://localhost:8080/"
        },
        "id": "lnziekwy-Syu",
        "outputId": "1192512c-3ed1-4ae2-e8e0-aaaa445d0352"
      },
      "source": [
        "from sklearn.ensemble import RandomForestClassifier\n",
        "rfc = RandomForestClassifier()\n",
        "rfc.fit(X_train.fillna(0), y_train)"
      ],
      "execution_count": 95,
      "outputs": [
        {
          "output_type": "execute_result",
          "data": {
            "text/plain": [
              "RandomForestClassifier(bootstrap=True, ccp_alpha=0.0, class_weight=None,\n",
              "                       criterion='gini', max_depth=None, max_features='auto',\n",
              "                       max_leaf_nodes=None, max_samples=None,\n",
              "                       min_impurity_decrease=0.0, min_impurity_split=None,\n",
              "                       min_samples_leaf=1, min_samples_split=2,\n",
              "                       min_weight_fraction_leaf=0.0, n_estimators=100,\n",
              "                       n_jobs=None, oob_score=False, random_state=None,\n",
              "                       verbose=0, warm_start=False)"
            ]
          },
          "metadata": {
            "tags": []
          },
          "execution_count": 95
        }
      ]
    },
    {
      "cell_type": "code",
      "metadata": {
        "colab": {
          "base_uri": "https://localhost:8080/"
        },
        "id": "ORCYYfYk-exG",
        "outputId": "75b4487a-9020-4638-9a83-bd4b58fb1388"
      },
      "source": [
        "y_pred = rfc.predict(X_test.fillna(0))\n",
        "print(\"logloss : \", log_loss(y_test, y_pred))\n",
        "print(\"accuracy : \", accuracy_score(y_test, y_pred))"
      ],
      "execution_count": 96,
      "outputs": [
        {
          "output_type": "stream",
          "text": [
            "logloss :  7.200775237360708\n",
            "accuracy :  0.7915192889592454\n"
          ],
          "name": "stdout"
        }
      ]
    },
    {
      "cell_type": "code",
      "metadata": {
        "colab": {
          "base_uri": "https://localhost:8080/"
        },
        "id": "kWSF40xDE7c6",
        "outputId": "374ea835-e9f6-40eb-a1ea-9867beba40b5"
      },
      "source": [
        "feature_importances = pd.Series(rfc.feature_importances_ ,index = X_train.columns)\n",
        "print(feature_importances)"
      ],
      "execution_count": 97,
      "outputs": [
        {
          "output_type": "stream",
          "text": [
            "word_match          0.083466\n",
            "word_match_2root    0.090012\n",
            "tfidf_word_match    0.105160\n",
            "shared_count        0.036099\n",
            "stops1_ratio        0.023061\n",
            "stops2_ratio        0.023717\n",
            "shared_2gram        0.052761\n",
            "cosine              0.082853\n",
            "words_hamming       0.039992\n",
            "diff_stops_r        0.027839\n",
            "len_q1              0.030651\n",
            "len_q2              0.030301\n",
            "diff_len            0.028791\n",
            "caps_count_q1       0.016001\n",
            "caps_count_q2       0.016536\n",
            "diff_caps           0.015053\n",
            "len_char_q1         0.029358\n",
            "len_char_q2         0.028739\n",
            "diff_len_char       0.027688\n",
            "len_word_q1         0.017664\n",
            "len_word_q2         0.018731\n",
            "diff_len_word       0.016794\n",
            "avg_world_len1      0.033085\n",
            "avg_world_len2      0.034130\n",
            "diff_avg_word       0.036950\n",
            "exactly_same        0.000000\n",
            "duplicated          0.000000\n",
            "q1_how              0.004447\n",
            "q2_how              0.004439\n",
            "how_both            0.003583\n",
            "q1_what             0.005150\n",
            "q2_what             0.005129\n",
            "what_both           0.004268\n",
            "q1_which            0.002331\n",
            "q2_which            0.002304\n",
            "which_both          0.001133\n",
            "q1_who              0.001680\n",
            "q2_who              0.001728\n",
            "who_both            0.001213\n",
            "q1_where            0.001361\n",
            "q2_where            0.001265\n",
            "where_both          0.000574\n",
            "q1_when             0.001433\n",
            "q2_when             0.001433\n",
            "when_both           0.000584\n",
            "q1_why              0.003410\n",
            "q2_why              0.003309\n",
            "why_both            0.003793\n",
            "dtype: float64\n"
          ],
          "name": "stdout"
        }
      ]
    },
    {
      "cell_type": "code",
      "metadata": {
        "colab": {
          "base_uri": "https://localhost:8080/",
          "height": 609
        },
        "id": "HwzXa-WrFZca",
        "outputId": "2ea822e9-cfab-42d6-cf9f-4d729ca1a43f"
      },
      "source": [
        "feature_importances = feature_importances.sort_values()\n",
        "feature_importances.plot(x='importance', kind=\"barh\",figsize=(10,10))"
      ],
      "execution_count": 98,
      "outputs": [
        {
          "output_type": "execute_result",
          "data": {
            "text/plain": [
              "<matplotlib.axes._subplots.AxesSubplot at 0x7fbb1445b438>"
            ]
          },
          "metadata": {
            "tags": []
          },
          "execution_count": 98
        },
        {
          "output_type": "display_data",
          "data": {
            "image/png": "[encoded data removed]",
            "text/plain": [
              "<Figure size 720x720 with 1 Axes>"
            ]
          },
          "metadata": {
            "tags": [],
            "needs_background": "light"
          }
        }
      ]
    },
    {
      "cell_type": "code",
      "metadata": {
        "colab": {
          "base_uri": "https://localhost:8080/"
        },
        "id": "hYfCaHNqHnNN",
        "outputId": "95279cbf-411e-4d49-842e-53a68cda69fe"
      },
      "source": [
        "imp_feat = ['avg_world_len1','avg_world_len2', 'diff_avg_word', 'words_hamming', 'shared_count', 'shared_2gram', 'word_match', 'cosine', \n",
        "            'word_match_2root', 'tfidf_word_match','stops1_ratio', 'stops2_ratio', 'diff_stops_r', 'diff_len', 'diff_len_char', 'len_q1', \n",
        "            'len_char_q1','len_char_q2', 'len_q2'\n",
        "            ]\n",
        "#print(feature_importances>0.02)\n",
        "X_train = X_train[imp_feat]\n",
        "from sklearn.ensemble import RandomForestClassifier\n",
        "rfc = RandomForestClassifier()\n",
        "rfc.fit(X_train.fillna(0), y_train)"
      ],
      "execution_count": 100,
      "outputs": [
        {
          "output_type": "execute_result",
          "data": {
            "text/plain": [
              "RandomForestClassifier(bootstrap=True, ccp_alpha=0.0, class_weight=None,\n",
              "                       criterion='gini', max_depth=None, max_features='auto',\n",
              "                       max_leaf_nodes=None, max_samples=None,\n",
              "                       min_impurity_decrease=0.0, min_impurity_split=None,\n",
              "                       min_samples_leaf=1, min_samples_split=2,\n",
              "                       min_weight_fraction_leaf=0.0, n_estimators=100,\n",
              "                       n_jobs=None, oob_score=False, random_state=None,\n",
              "                       verbose=0, warm_start=False)"
            ]
          },
          "metadata": {
            "tags": []
          },
          "execution_count": 100
        }
      ]
    },
    {
      "cell_type": "code",
      "metadata": {
        "colab": {
          "base_uri": "https://localhost:8080/"
        },
        "id": "l-3o6pcdJDVg",
        "outputId": "5a7d648b-53f4-4926-ddaf-7c01acbfd7ca"
      },
      "source": [
        "X_test = X_test[imp_feat]\n",
        "y_pred = rfc.predict(X_test.fillna(0))\n",
        "print(\"logloss : \", log_loss(y_test, y_pred))\n",
        "print(\"accuracy : \", accuracy_score(y_test, y_pred))"
      ],
      "execution_count": 101,
      "outputs": [
        {
          "output_type": "stream",
          "text": [
            "logloss :  7.802500906108538\n",
            "accuracy :  0.7740978010833808\n"
          ],
          "name": "stdout"
        }
      ]
    },
    {
      "cell_type": "code",
      "metadata": {
        "id": "oarti_O-X9hF",
        "colab": {
          "base_uri": "https://localhost:8080/"
        },
        "outputId": "3554d59c-cd21-4b29-dbd9-8dc56140f3b6"
      },
      "source": [
        "arr = np.array([[0.372560, 0.610377, 0.571429, 4.0,\t1.000000,1.200000,0.416667,\t0.795192,\t0.785714,\t-0.200000,\t\n",
        "                 66,\t57,\t9,\t1,\t1,\t0,\t53,\t46, 7,\t14,\t12,\t2,\t3.785714,\t3.833333,\t-0.047619,\t0,\t0,\t0,\t0,\t\n",
        "                 0,\t1,\t1,\t1,\t0,\t0,\t0,\t0,\t0,\t0,\t0,\t0,\t0,\t0,\t0,\t0,\t0,\t0,\t0]])\n",
        "#np.reshape(arr, ())\n",
        "arr"
      ],
      "execution_count": 104,
      "outputs": [
        {
          "output_type": "execute_result",
          "data": {
            "text/plain": [
              "array([[ 3.725600e-01,  6.103770e-01,  5.714290e-01,  4.000000e+00,\n",
              "         1.000000e+00,  1.200000e+00,  4.166670e-01,  7.951920e-01,\n",
              "         7.857140e-01, -2.000000e-01,  6.600000e+01,  5.700000e+01,\n",
              "         9.000000e+00,  1.000000e+00,  1.000000e+00,  0.000000e+00,\n",
              "         5.300000e+01,  4.600000e+01,  7.000000e+00,  1.400000e+01,\n",
              "         1.200000e+01,  2.000000e+00,  3.785714e+00,  3.833333e+00,\n",
              "        -4.761900e-02,  0.000000e+00,  0.000000e+00,  0.000000e+00,\n",
              "         0.000000e+00,  0.000000e+00,  1.000000e+00,  1.000000e+00,\n",
              "         1.000000e+00,  0.000000e+00,  0.000000e+00,  0.000000e+00,\n",
              "         0.000000e+00,  0.000000e+00,  0.000000e+00,  0.000000e+00,\n",
              "         0.000000e+00,  0.000000e+00,  0.000000e+00,  0.000000e+00,\n",
              "         0.000000e+00,  0.000000e+00,  0.000000e+00,  0.000000e+00]])"
            ]
          },
          "metadata": {
            "tags": []
          },
          "execution_count": 104
        }
      ]
    },
    {
      "cell_type": "code",
      "metadata": {
        "colab": {
          "base_uri": "https://localhost:8080/"
        },
        "id": "LESVWRe5sC4Z",
        "outputId": "9d31f365-b9a9-4086-c747-3c105f0f99ba"
      },
      "source": [
        "import pickle\n",
        "pickle.dump(clr, open('model.pkl', 'wb'))\n",
        "mdl = pickle.load(open('model.pkl', 'rb'))\n",
        "\n",
        "#arr = np.ndarray((len(arr),2))\n",
        "p = predict_lgb(mdl,arr)\n",
        "p"
      ],
      "execution_count": 105,
      "outputs": [
        {
          "output_type": "execute_result",
          "data": {
            "text/plain": [
              "array([0.41859744])"
            ]
          },
          "metadata": {
            "tags": []
          },
          "execution_count": 105
        }
      ]
    },
    {
      "cell_type": "code",
      "metadata": {
        "colab": {
          "base_uri": "https://localhost:8080/"
        },
        "id": "hpFsgsFTtn-F",
        "outputId": "e3efd87f-398b-4daf-c177-26a59084bfd9"
      },
      "source": [
        "arr"
      ],
      "execution_count": 106,
      "outputs": [
        {
          "output_type": "execute_result",
          "data": {
            "text/plain": [
              "array([[ 3.725600e-01,  6.103770e-01,  5.714290e-01,  4.000000e+00,\n",
              "         1.000000e+00,  1.200000e+00,  4.166670e-01,  7.951920e-01,\n",
              "         7.857140e-01, -2.000000e-01,  6.600000e+01,  5.700000e+01,\n",
              "         9.000000e+00,  1.000000e+00,  1.000000e+00,  0.000000e+00,\n",
              "         5.300000e+01,  4.600000e+01,  7.000000e+00,  1.400000e+01,\n",
              "         1.200000e+01,  2.000000e+00,  3.785714e+00,  3.833333e+00,\n",
              "        -4.761900e-02,  0.000000e+00,  0.000000e+00,  0.000000e+00,\n",
              "         0.000000e+00,  0.000000e+00,  1.000000e+00,  1.000000e+00,\n",
              "         1.000000e+00,  0.000000e+00,  0.000000e+00,  0.000000e+00,\n",
              "         0.000000e+00,  0.000000e+00,  0.000000e+00,  0.000000e+00,\n",
              "         0.000000e+00,  0.000000e+00,  0.000000e+00,  0.000000e+00,\n",
              "         0.000000e+00,  0.000000e+00,  0.000000e+00,  0.000000e+00]])"
            ]
          },
          "metadata": {
            "tags": []
          },
          "execution_count": 106
        }
      ]
    },
    {
      "cell_type": "code",
      "metadata": {
        "colab": {
          "base_uri": "https://localhost:8080/"
        },
        "id": "OGNK1HC7vfa2",
        "outputId": "bee1d6fa-3c84-4be1-f99d-de862a36b8cd"
      },
      "source": [
        "predict_lgb(mdl,arr)"
      ],
      "execution_count": 108,
      "outputs": [
        {
          "output_type": "execute_result",
          "data": {
            "text/plain": [
              "array([0.41859744])"
            ]
          },
          "metadata": {
            "tags": []
          },
          "execution_count": 108
        }
      ]
    },
    {
      "cell_type": "code",
      "metadata": {
        "id": "QRjR29HZzJ_S"
      },
      "source": [
        "def create_features():\n",
        "  quest1 = input(\"quest1 : \")\n",
        "  quest2 = input('quest2 : ')\n",
        "  print(\"Quest 1 : {}\\nQuest2 : {}\".format(quest1, quest2))\n",
        "  \n",
        "\n",
        "create_features()"
      ],
      "execution_count": null,
      "outputs": []
    },
    {
      "cell_type": "code",
      "metadata": {
        "id": "s53PGncKz4mH"
      },
      "source": [
        ""
      ],
      "execution_count": 205,
      "outputs": []
    }
  ]
}