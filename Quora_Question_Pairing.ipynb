{
  "nbformat": 4,
  "nbformat_minor": 0,
  "metadata": {
    "colab": {
      "name": "Quora Question Pairing Project.ipynb",
      "provenance": [],
      "collapsed_sections": [],
      "include_colab_link": true
    },
    "kernelspec": {
      "name": "python3",
      "display_name": "Python 3"
    },
    "accelerator": "GPU"
  },
  "cells": [
    {
      "cell_type": "markdown",
      "metadata": {
        "id": "view-in-github",
        "colab_type": "text"
      },
      "source": [
        "<a href=\"https://colab.research.google.com/github/IronABC/Pairing_Similar_Questions/blob/main/Quora_Question_Pairing.ipynb\" target=\"_parent\"><img src=\"https://colab.research.google.com/assets/colab-badge.svg\" alt=\"Open In Colab\"/></a>"
      ]
    },
    {
      "cell_type": "code",
      "metadata": {
        "id": "CjqrjloulaDk",
        "colab": {
          "base_uri": "https://localhost:8080/"
        },
        "outputId": "417e13e7-4eee-4e50-930b-888d49a0f4fe"
      },
      "source": [
        "import pandas as pd\n",
        "import numpy as np\n",
        "import matplotlib.pyplot as plt\n",
        "import seaborn as sns\n",
        "from collections import Counter\n",
        "from google.colab import drive\n",
        "from sklearn.model_selection import train_test_split\n",
        "import xgboost as xgb\n",
        "import lightgbm as lgb\n",
        "from sklearn.metrics import log_loss\n",
        "from sklearn.ensemble import RandomForestClassifier\n",
        "import nltk\n",
        "import pickle\n",
        "import warnings\n",
        "warnings.filterwarnings('ignore')\n",
        "drive.mount(\"/content/drive\")"
      ],
      "execution_count": 1,
      "outputs": [
        {
          "output_type": "stream",
          "text": [
            "Mounted at /content/drive\n"
          ],
          "name": "stdout"
        }
      ]
    },
    {
      "cell_type": "code",
      "metadata": {
        "id": "jVWSmMiAk3NS",
        "colab": {
          "base_uri": "https://localhost:8080/",
          "height": 212
        },
        "outputId": "65f35452-1528-4bb8-de6c-fbf45a563e59"
      },
      "source": [
        "data_frame = pd.read_csv('/content/drive/My Drive/data_set/train.csv')\n",
        "print(\"Data frame shape : \", data_frame.shape)\n",
        "data_frame.head()"
      ],
      "execution_count": 2,
      "outputs": [
        {
          "output_type": "stream",
          "text": [
            "Data frame shape :  (404290, 6)\n"
          ],
          "name": "stdout"
        },
        {
          "output_type": "execute_result",
          "data": {
            "text/html": [
              "<div>\n",
              "<style scoped>\n",
              "    .dataframe tbody tr th:only-of-type {\n",
              "        vertical-align: middle;\n",
              "    }\n",
              "\n",
              "    .dataframe tbody tr th {\n",
              "        vertical-align: top;\n",
              "    }\n",
              "\n",
              "    .dataframe thead th {\n",
              "        text-align: right;\n",
              "    }\n",
              "</style>\n",
              "<table border=\"1\" class=\"dataframe\">\n",
              "  <thead>\n",
              "    <tr style=\"text-align: right;\">\n",
              "      <th></th>\n",
              "      <th>id</th>\n",
              "      <th>qid1</th>\n",
              "      <th>qid2</th>\n",
              "      <th>question1</th>\n",
              "      <th>question2</th>\n",
              "      <th>is_duplicate</th>\n",
              "    </tr>\n",
              "  </thead>\n",
              "  <tbody>\n",
              "    <tr>\n",
              "      <th>0</th>\n",
              "      <td>0</td>\n",
              "      <td>1</td>\n",
              "      <td>2</td>\n",
              "      <td>What is the step by step guide to invest in sh...</td>\n",
              "      <td>What is the step by step guide to invest in sh...</td>\n",
              "      <td>0</td>\n",
              "    </tr>\n",
              "    <tr>\n",
              "      <th>1</th>\n",
              "      <td>1</td>\n",
              "      <td>3</td>\n",
              "      <td>4</td>\n",
              "      <td>What is the story of Kohinoor (Koh-i-Noor) Dia...</td>\n",
              "      <td>What would happen if the Indian government sto...</td>\n",
              "      <td>0</td>\n",
              "    </tr>\n",
              "    <tr>\n",
              "      <th>2</th>\n",
              "      <td>2</td>\n",
              "      <td>5</td>\n",
              "      <td>6</td>\n",
              "      <td>How can I increase the speed of my internet co...</td>\n",
              "      <td>How can Internet speed be increased by hacking...</td>\n",
              "      <td>0</td>\n",
              "    </tr>\n",
              "    <tr>\n",
              "      <th>3</th>\n",
              "      <td>3</td>\n",
              "      <td>7</td>\n",
              "      <td>8</td>\n",
              "      <td>Why am I mentally very lonely? How can I solve...</td>\n",
              "      <td>Find the remainder when [math]23^{24}[/math] i...</td>\n",
              "      <td>0</td>\n",
              "    </tr>\n",
              "    <tr>\n",
              "      <th>4</th>\n",
              "      <td>4</td>\n",
              "      <td>9</td>\n",
              "      <td>10</td>\n",
              "      <td>Which one dissolve in water quikly sugar, salt...</td>\n",
              "      <td>Which fish would survive in salt water?</td>\n",
              "      <td>0</td>\n",
              "    </tr>\n",
              "  </tbody>\n",
              "</table>\n",
              "</div>"
            ],
            "text/plain": [
              "   id  qid1  ...                                          question2 is_duplicate\n",
              "0   0     1  ...  What is the step by step guide to invest in sh...            0\n",
              "1   1     3  ...  What would happen if the Indian government sto...            0\n",
              "2   2     5  ...  How can Internet speed be increased by hacking...            0\n",
              "3   3     7  ...  Find the remainder when [math]23^{24}[/math] i...            0\n",
              "4   4     9  ...            Which fish would survive in salt water?            0\n",
              "\n",
              "[5 rows x 6 columns]"
            ]
          },
          "metadata": {
            "tags": []
          },
          "execution_count": 2
        }
      ]
    },
    {
      "cell_type": "code",
      "metadata": {
        "id": "FGL2HqHTpAfp",
        "colab": {
          "base_uri": "https://localhost:8080/"
        },
        "outputId": "d1b46271-45d7-44bf-d004-15b2ea3d1535"
      },
      "source": [
        "data_frame[data_frame.isnull().any(axis=1)].count()"
      ],
      "execution_count": 3,
      "outputs": [
        {
          "output_type": "execute_result",
          "data": {
            "text/plain": [
              "id              3\n",
              "qid1            3\n",
              "qid2            3\n",
              "question1       2\n",
              "question2       1\n",
              "is_duplicate    3\n",
              "dtype: int64"
            ]
          },
          "metadata": {
            "tags": []
          },
          "execution_count": 3
        }
      ]
    },
    {
      "cell_type": "code",
      "metadata": {
        "id": "7NkFxRhjxiiv",
        "colab": {
          "base_uri": "https://localhost:8080/"
        },
        "outputId": "ed361fe4-daa0-4ec5-ce30-ae740a2ffe1f"
      },
      "source": [
        "data_frame.dropna(axis=0, how='any', inplace=True)\n",
        "data_frame.shape"
      ],
      "execution_count": 4,
      "outputs": [
        {
          "output_type": "execute_result",
          "data": {
            "text/plain": [
              "(404287, 6)"
            ]
          },
          "metadata": {
            "tags": []
          },
          "execution_count": 4
        }
      ]
    },
    {
      "cell_type": "code",
      "metadata": {
        "id": "Nj9am1FQ2lfV",
        "colab": {
          "base_uri": "https://localhost:8080/",
          "height": 339
        },
        "outputId": "25b05853-5fbb-4a97-c5ca-1d31da14b92c"
      },
      "source": [
        "is_dup = data_frame['is_duplicate'].value_counts()\n",
        "plt.figure(figsize=(5,5))\n",
        "sns.barplot(is_dup.index, is_dup.values)\n",
        "plt.xlabel(\"Is Duplicate\", fontsize=15, color='w')\n",
        "plt.ylabel('Counts', fontsize=15, color='w')\n",
        "plt.show()"
      ],
      "execution_count": 5,
      "outputs": [
        {
          "output_type": "display_data",
          "data": {
            "image/png": "[encoded data removed]",
            "text/plain": [
              "<Figure size 360x360 with 1 Axes>"
            ]
          },
          "metadata": {
            "tags": [],
            "needs_background": "light"
          }
        }
      ]
    },
    {
      "cell_type": "code",
      "metadata": {
        "id": "D68ozqjvpAx2",
        "colab": {
          "base_uri": "https://localhost:8080/",
          "height": 357
        },
        "outputId": "2476593e-96ba-4e20-8d9a-ebfd752bd13b"
      },
      "source": [
        "train_qs = pd.Series(data_frame['question1'].tolist()+data_frame['question2'].tolist()).astype(str)\n",
        "all_ques = train_qs.apply(lambda x: len(str(x).split()))\n",
        "cnt = all_ques.value_counts()\n",
        "plt.figure(figsize=(20, 5))\n",
        "sns.barplot(cnt.index, cnt.values)\n",
        "plt.ylabel('No of questions', fontsize=15, color='w')\n",
        "plt.xlabel('No of words in question', fontsize=15, color='w')"
      ],
      "execution_count": 6,
      "outputs": [
        {
          "output_type": "execute_result",
          "data": {
            "text/plain": [
              "Text(0.5, 0, 'No of words in question')"
            ]
          },
          "metadata": {
            "tags": []
          },
          "execution_count": 6
        },
        {
          "output_type": "display_data",
          "data": {
            "image/png": "[encoded data removed]",
            "text/plain": [
              "<Figure size 1440x360 with 1 Axes>"
            ]
          },
          "metadata": {
            "tags": [],
            "needs_background": "light"
          }
        }
      ]
    },
    {
      "cell_type": "code",
      "metadata": {
        "id": "aBs2m2dEt1H6",
        "colab": {
          "base_uri": "https://localhost:8080/",
          "height": 356
        },
        "outputId": "8e60634e-5a5d-4547-9857-d3fea1ab853e"
      },
      "source": [
        "char_len = train_qs.apply(lambda x: len(str(x)))\n",
        "cnt = char_len.value_counts()\n",
        "plt.figure(figsize=(9, 5))\n",
        "sns.barplot(cnt.index, cnt.values)\n",
        "plt.ylabel('No of questions', fontsize=15, color='w')\n",
        "plt.xlabel('No of characters in question', fontsize=15, color='w')"
      ],
      "execution_count": 7,
      "outputs": [
        {
          "output_type": "execute_result",
          "data": {
            "text/plain": [
              "Text(0.5, 0, 'No of characters in question')"
            ]
          },
          "metadata": {
            "tags": []
          },
          "execution_count": 7
        },
        {
          "output_type": "display_data",
          "data": {
            "image/png": "[encoded data removed]",
            "text/plain": [
              "<Figure size 648x360 with 1 Axes>"
            ]
          },
          "metadata": {
            "tags": [],
            "needs_background": "light"
          }
        }
      ]
    },
    {
      "cell_type": "code",
      "metadata": {
        "id": "n8D2U4OOJ70A",
        "colab": {
          "base_uri": "https://localhost:8080/"
        },
        "outputId": "58dcefff-7317-4507-f632-81cb337d698f"
      },
      "source": [
        "word = \" \".join(train_qs).lower().split()\n",
        "counts = Counter(word)\n",
        "print(\"length of word = {} \\nFirst word = {}\".format(len(word), word[0]))"
      ],
      "execution_count": 8,
      "outputs": [
        {
          "output_type": "stream",
          "text": [
            "length of word = 8944556 \n",
            "First word = what\n"
          ],
          "name": "stdout"
        }
      ]
    },
    {
      "cell_type": "code",
      "metadata": {
        "id": "BdYJKMVtZkc-",
        "colab": {
          "base_uri": "https://localhost:8080/"
        },
        "outputId": "66ae912c-2d0d-49bf-ea38-4dbd6ed4e666"
      },
      "source": [
        "nltk.download('stopwords')\n",
        "stop_words = set(nltk.corpus.stopwords.words('english'))"
      ],
      "execution_count": 9,
      "outputs": [
        {
          "output_type": "stream",
          "text": [
            "[nltk_data] Downloading package stopwords to /root/nltk_data...\n",
            "[nltk_data]   Unzipping corpora/stopwords.zip.\n"
          ],
          "name": "stdout"
        }
      ]
    },
    {
      "cell_type": "code",
      "metadata": {
        "id": "iK05VE6iO_jD"
      },
      "source": [
        "#now setting up weight for each word\n",
        "def get_weight(count, epsilon=10000, min_count=2):\n",
        "  return 0 if count<min_count else 1/(count+epsilon)\n",
        "weights = {word:get_weight(count) for word, count in counts.items()}"
      ],
      "execution_count": 10,
      "outputs": []
    },
    {
      "cell_type": "code",
      "metadata": {
        "id": "rXUipffphTXV"
      },
      "source": [
        "def word_shares(row):\n",
        "  q1_list = str(row[3]).lower().split()\n",
        "  q1 = set(q1_list)\n",
        "  q1words = q1.difference(stop_words)\n",
        "  if len(q1words) == 0:\n",
        "      return '0:0:0:0:0:0:0:0'\n",
        "  \n",
        "  q2_list = str(row[4]).lower().split()\n",
        "  q2 = set(q2_list)\n",
        "  q2words = q2.difference(stop_words)\n",
        "  if len(q2words) == 0:\n",
        "      return '0:0:0:0:0:0:0:0'\n",
        "  words_hamming = sum(1 for i in zip(q1_list, q2_list) if i[0]==i[1])/max(len(q1_list), len(q2_list))\n",
        "  q1stops = q1.intersection(stop_words)\n",
        "  q2stops = q2.intersection(stop_words)\n",
        "  q1_2gram = set([i for i in zip(q1_list, q1_list[1:])])\n",
        "  q2_2gram = set([i for i in zip(q2_list, q2_list[1:])])\n",
        "  shared_2gram = q1_2gram.intersection(q2_2gram)\n",
        "  shared_words = q1words.intersection(q2words)\n",
        "  shared_weights = [weights.get(w, 0) for w in shared_words]\n",
        "  q1_weights = [weights.get(w, 0) for w in q1words]\n",
        "  q2_weights = [weights.get(w, 0) for w in q2words]\n",
        "  total_weights = q1_weights + q1_weights\n",
        "  \n",
        "  R1 = np.sum(shared_weights) / np.sum(total_weights) #tfidf share\n",
        "  R2 = len(shared_words) / (len(q1words) + len(q2words) - len(shared_words)) #count share\n",
        "  R31 = len(q1stops) / len(q1words) #stops in q1\n",
        "  R32 = len(q2stops) / len(q2words) #stops in q2\n",
        "  Rcosine_denominator = (np.sqrt(np.dot(q1_weights,q1_weights))*np.sqrt(np.dot(q2_weights,q2_weights)))\n",
        "  Rcosine = np.dot(shared_weights, shared_weights)/Rcosine_denominator\n",
        "  if len(q1_2gram) + len(q2_2gram) == 0:\n",
        "      R2gram = 0\n",
        "  else:\n",
        "      R2gram = len(shared_2gram) / (len(q1_2gram) + len(q2_2gram))\n",
        "  return '{}:{}:{}:{}:{}:{}:{}:{}'.format(R1, R2, len(shared_words), R31, R32, R2gram, Rcosine, words_hamming)\n",
        "\n",
        "data_frame['word_shares'] = data_frame.apply(word_shares, axis=1, raw=True)"
      ],
      "execution_count": 11,
      "outputs": []
    },
    {
      "cell_type": "code",
      "metadata": {
        "id": "DDnOb0pFZcMm"
      },
      "source": [
        "x = pd.DataFrame()\n",
        "x['word_match']       = data_frame['word_shares'].apply(lambda x: float(x.split(':')[0]))\n",
        "x['word_match_2root'] = np.sqrt(x['word_match'])\n",
        "x['tfidf_word_match'] = data_frame['word_shares'].apply(lambda x: float(x.split(':')[1]))\n",
        "x['shared_count']     = data_frame['word_shares'].apply(lambda x: float(x.split(':')[2]))\n",
        "x['stops1_ratio']     = data_frame['word_shares'].apply(lambda x: float(x.split(':')[3]))\n",
        "x['stops2_ratio']     = data_frame['word_shares'].apply(lambda x: float(x.split(':')[4]))\n",
        "x['shared_2gram']     = data_frame['word_shares'].apply(lambda x: float(x.split(':')[5]))\n",
        "x['cosine']           = data_frame['word_shares'].apply(lambda x: float(x.split(':')[6]))\n",
        "x['words_hamming']    = data_frame['word_shares'].apply(lambda x: float(x.split(':')[7]))\n",
        "x['diff_stops_r']     = x['stops1_ratio'] - x['stops2_ratio']\n",
        "x['len_q1']           = data_frame['question1'].apply(lambda x: len(str(x)))\n",
        "x['len_q2']           = data_frame['question2'].apply(lambda x: len(str(x)))\n",
        "x['diff_len']         = x['len_q1'] - x['len_q2']\n",
        "\n",
        "x['caps_count_q1']    = data_frame['question1'].apply(lambda x:sum(1 for i in str(x) if i.isupper()))\n",
        "x['caps_count_q2']    = data_frame['question2'].apply(lambda x:sum(1 for i in str(x) if i.isupper()))\n",
        "x['diff_caps']        = x['caps_count_q1'] - x['caps_count_q2']\n",
        "x['len_char_q1']      = data_frame['question1'].apply(lambda x: len(str(x).replace(' ', '')))\n",
        "x['len_char_q2']      = data_frame['question2'].apply(lambda x: len(str(x).replace(' ', '')))\n",
        "x['diff_len_char']    = x['len_char_q1'] - x['len_char_q2']\n",
        "x['len_word_q1']      = data_frame['question1'].apply(lambda x: len(str(x).split()))\n",
        "x['len_word_q2']      = data_frame['question2'].apply(lambda x: len(str(x).split()))\n",
        "x['diff_len_word']    = x['len_word_q1'] - x['len_word_q2']\n",
        "x['avg_world_len1']   = x['len_char_q1'] / x['len_word_q1']\n",
        "x['avg_world_len2']   = x['len_char_q2'] / x['len_word_q2']\n",
        "x['diff_avg_word']    = x['avg_world_len1'] - x['avg_world_len2']\n",
        "x['exactly_same']     = (data_frame['question1'] == data_frame['question2']).astype(int)\n",
        "x['duplicated']       = data_frame.duplicated(['question1','question2']).astype(int)\n",
        "\n",
        "def add_word_count(x, df, word):\n",
        "    x['q1_' + word] = df['question1'].apply(lambda x: (word in str(x).lower())*1)\n",
        "    x['q2_' + word] = df['question2'].apply(lambda x: (word in str(x).lower())*1)\n",
        "    x[word + '_both'] = x['q1_' + word] * x['q2_' + word]\n",
        "\n",
        "add_word_count(x, data_frame,'how')\n",
        "add_word_count(x, data_frame,'what')\n",
        "add_word_count(x, data_frame,'which')\n",
        "add_word_count(x, data_frame,'who')\n",
        "add_word_count(x, data_frame,'where')\n",
        "add_word_count(x, data_frame,'when')\n",
        "add_word_count(x, data_frame,'why')"
      ],
      "execution_count": 12,
      "outputs": []
    },
    {
      "cell_type": "code",
      "metadata": {
        "id": "46R8QfTGQuGh",
        "colab": {
          "base_uri": "https://localhost:8080/"
        },
        "outputId": "2dc56ff6-dcdd-4252-d60c-dc465971c436"
      },
      "source": [
        "x.columns"
      ],
      "execution_count": 13,
      "outputs": [
        {
          "output_type": "execute_result",
          "data": {
            "text/plain": [
              "Index(['word_match', 'word_match_2root', 'tfidf_word_match', 'shared_count',\n",
              "       'stops1_ratio', 'stops2_ratio', 'shared_2gram', 'cosine',\n",
              "       'words_hamming', 'diff_stops_r', 'len_q1', 'len_q2', 'diff_len',\n",
              "       'caps_count_q1', 'caps_count_q2', 'diff_caps', 'len_char_q1',\n",
              "       'len_char_q2', 'diff_len_char', 'len_word_q1', 'len_word_q2',\n",
              "       'diff_len_word', 'avg_world_len1', 'avg_world_len2', 'diff_avg_word',\n",
              "       'exactly_same', 'duplicated', 'q1_how', 'q2_how', 'how_both', 'q1_what',\n",
              "       'q2_what', 'what_both', 'q1_which', 'q2_which', 'which_both', 'q1_who',\n",
              "       'q2_who', 'who_both', 'q1_where', 'q2_where', 'where_both', 'q1_when',\n",
              "       'q2_when', 'when_both', 'q1_why', 'q2_why', 'why_both'],\n",
              "      dtype='object')"
            ]
          },
          "metadata": {
            "tags": []
          },
          "execution_count": 13
        }
      ]
    },
    {
      "cell_type": "code",
      "metadata": {
        "colab": {
          "base_uri": "https://localhost:8080/"
        },
        "id": "Kz2c9WGgBXvG",
        "outputId": "f4b58152-8ce9-494f-f0ec-d0dbb2bb2fb0"
      },
      "source": [
        "x.fillna(0)\n",
        "x.shape"
      ],
      "execution_count": 14,
      "outputs": [
        {
          "output_type": "execute_result",
          "data": {
            "text/plain": [
              "(404287, 48)"
            ]
          },
          "metadata": {
            "tags": []
          },
          "execution_count": 14
        }
      ]
    },
    {
      "cell_type": "code",
      "metadata": {
        "id": "ObnPh-Cu5_nQ",
        "colab": {
          "base_uri": "https://localhost:8080/",
          "height": 363
        },
        "outputId": "16ff7bb2-baf2-478c-b2f7-727437d1af90"
      },
      "source": [
        "x.head(10)"
      ],
      "execution_count": 15,
      "outputs": [
        {
          "output_type": "execute_result",
          "data": {
            "text/html": [
              "<div>\n",
              "<style scoped>\n",
              "    .dataframe tbody tr th:only-of-type {\n",
              "        vertical-align: middle;\n",
              "    }\n",
              "\n",
              "    .dataframe tbody tr th {\n",
              "        vertical-align: top;\n",
              "    }\n",
              "\n",
              "    .dataframe thead th {\n",
              "        text-align: right;\n",
              "    }\n",
              "</style>\n",
              "<table border=\"1\" class=\"dataframe\">\n",
              "  <thead>\n",
              "    <tr style=\"text-align: right;\">\n",
              "      <th></th>\n",
              "      <th>word_match</th>\n",
              "      <th>word_match_2root</th>\n",
              "      <th>tfidf_word_match</th>\n",
              "      <th>shared_count</th>\n",
              "      <th>stops1_ratio</th>\n",
              "      <th>stops2_ratio</th>\n",
              "      <th>shared_2gram</th>\n",
              "      <th>cosine</th>\n",
              "      <th>words_hamming</th>\n",
              "      <th>diff_stops_r</th>\n",
              "      <th>len_q1</th>\n",
              "      <th>len_q2</th>\n",
              "      <th>diff_len</th>\n",
              "      <th>caps_count_q1</th>\n",
              "      <th>caps_count_q2</th>\n",
              "      <th>diff_caps</th>\n",
              "      <th>len_char_q1</th>\n",
              "      <th>len_char_q2</th>\n",
              "      <th>diff_len_char</th>\n",
              "      <th>len_word_q1</th>\n",
              "      <th>len_word_q2</th>\n",
              "      <th>diff_len_word</th>\n",
              "      <th>avg_world_len1</th>\n",
              "      <th>avg_world_len2</th>\n",
              "      <th>diff_avg_word</th>\n",
              "      <th>exactly_same</th>\n",
              "      <th>duplicated</th>\n",
              "      <th>q1_how</th>\n",
              "      <th>q2_how</th>\n",
              "      <th>how_both</th>\n",
              "      <th>q1_what</th>\n",
              "      <th>q2_what</th>\n",
              "      <th>what_both</th>\n",
              "      <th>q1_which</th>\n",
              "      <th>q2_which</th>\n",
              "      <th>which_both</th>\n",
              "      <th>q1_who</th>\n",
              "      <th>q2_who</th>\n",
              "      <th>who_both</th>\n",
              "      <th>q1_where</th>\n",
              "      <th>q2_where</th>\n",
              "      <th>where_both</th>\n",
              "      <th>q1_when</th>\n",
              "      <th>q2_when</th>\n",
              "      <th>when_both</th>\n",
              "      <th>q1_why</th>\n",
              "      <th>q2_why</th>\n",
              "      <th>why_both</th>\n",
              "    </tr>\n",
              "  </thead>\n",
              "  <tbody>\n",
              "    <tr>\n",
              "      <th>0</th>\n",
              "      <td>0.372560</td>\n",
              "      <td>0.610377</td>\n",
              "      <td>0.571429</td>\n",
              "      <td>4.0</td>\n",
              "      <td>1.000000</td>\n",
              "      <td>1.200000</td>\n",
              "      <td>0.416667</td>\n",
              "      <td>0.795192</td>\n",
              "      <td>0.785714</td>\n",
              "      <td>-0.200000</td>\n",
              "      <td>66</td>\n",
              "      <td>57</td>\n",
              "      <td>9</td>\n",
              "      <td>1</td>\n",
              "      <td>1</td>\n",
              "      <td>0</td>\n",
              "      <td>53</td>\n",
              "      <td>46</td>\n",
              "      <td>7</td>\n",
              "      <td>14</td>\n",
              "      <td>12</td>\n",
              "      <td>2</td>\n",
              "      <td>3.785714</td>\n",
              "      <td>3.833333</td>\n",
              "      <td>-0.047619</td>\n",
              "      <td>0</td>\n",
              "      <td>0</td>\n",
              "      <td>0</td>\n",
              "      <td>0</td>\n",
              "      <td>0</td>\n",
              "      <td>1</td>\n",
              "      <td>1</td>\n",
              "      <td>1</td>\n",
              "      <td>0</td>\n",
              "      <td>0</td>\n",
              "      <td>0</td>\n",
              "      <td>0</td>\n",
              "      <td>0</td>\n",
              "      <td>0</td>\n",
              "      <td>0</td>\n",
              "      <td>0</td>\n",
              "      <td>0</td>\n",
              "      <td>0</td>\n",
              "      <td>0</td>\n",
              "      <td>0</td>\n",
              "      <td>0</td>\n",
              "      <td>0</td>\n",
              "      <td>0</td>\n",
              "    </tr>\n",
              "    <tr>\n",
              "      <th>1</th>\n",
              "      <td>0.256523</td>\n",
              "      <td>0.506481</td>\n",
              "      <td>0.181818</td>\n",
              "      <td>2.0</td>\n",
              "      <td>1.000000</td>\n",
              "      <td>0.333333</td>\n",
              "      <td>0.052632</td>\n",
              "      <td>0.410927</td>\n",
              "      <td>0.076923</td>\n",
              "      <td>0.666667</td>\n",
              "      <td>51</td>\n",
              "      <td>88</td>\n",
              "      <td>-37</td>\n",
              "      <td>5</td>\n",
              "      <td>5</td>\n",
              "      <td>0</td>\n",
              "      <td>44</td>\n",
              "      <td>76</td>\n",
              "      <td>-32</td>\n",
              "      <td>8</td>\n",
              "      <td>13</td>\n",
              "      <td>-5</td>\n",
              "      <td>5.500000</td>\n",
              "      <td>5.846154</td>\n",
              "      <td>-0.346154</td>\n",
              "      <td>0</td>\n",
              "      <td>0</td>\n",
              "      <td>0</td>\n",
              "      <td>0</td>\n",
              "      <td>0</td>\n",
              "      <td>1</td>\n",
              "      <td>1</td>\n",
              "      <td>1</td>\n",
              "      <td>0</td>\n",
              "      <td>0</td>\n",
              "      <td>0</td>\n",
              "      <td>0</td>\n",
              "      <td>0</td>\n",
              "      <td>0</td>\n",
              "      <td>0</td>\n",
              "      <td>0</td>\n",
              "      <td>0</td>\n",
              "      <td>0</td>\n",
              "      <td>0</td>\n",
              "      <td>0</td>\n",
              "      <td>0</td>\n",
              "      <td>0</td>\n",
              "      <td>0</td>\n",
              "    </tr>\n",
              "    <tr>\n",
              "      <th>2</th>\n",
              "      <td>0.171507</td>\n",
              "      <td>0.414134</td>\n",
              "      <td>0.222222</td>\n",
              "      <td>2.0</td>\n",
              "      <td>1.333333</td>\n",
              "      <td>1.000000</td>\n",
              "      <td>0.045455</td>\n",
              "      <td>0.340883</td>\n",
              "      <td>0.142857</td>\n",
              "      <td>0.333333</td>\n",
              "      <td>73</td>\n",
              "      <td>59</td>\n",
              "      <td>14</td>\n",
              "      <td>5</td>\n",
              "      <td>5</td>\n",
              "      <td>0</td>\n",
              "      <td>60</td>\n",
              "      <td>50</td>\n",
              "      <td>10</td>\n",
              "      <td>14</td>\n",
              "      <td>10</td>\n",
              "      <td>4</td>\n",
              "      <td>4.285714</td>\n",
              "      <td>5.000000</td>\n",
              "      <td>-0.714286</td>\n",
              "      <td>0</td>\n",
              "      <td>0</td>\n",
              "      <td>1</td>\n",
              "      <td>1</td>\n",
              "      <td>1</td>\n",
              "      <td>0</td>\n",
              "      <td>0</td>\n",
              "      <td>0</td>\n",
              "      <td>0</td>\n",
              "      <td>0</td>\n",
              "      <td>0</td>\n",
              "      <td>0</td>\n",
              "      <td>0</td>\n",
              "      <td>0</td>\n",
              "      <td>0</td>\n",
              "      <td>0</td>\n",
              "      <td>0</td>\n",
              "      <td>0</td>\n",
              "      <td>0</td>\n",
              "      <td>0</td>\n",
              "      <td>0</td>\n",
              "      <td>0</td>\n",
              "      <td>0</td>\n",
              "    </tr>\n",
              "    <tr>\n",
              "      <th>3</th>\n",
              "      <td>0.000000</td>\n",
              "      <td>0.000000</td>\n",
              "      <td>0.000000</td>\n",
              "      <td>0.0</td>\n",
              "      <td>1.500000</td>\n",
              "      <td>0.800000</td>\n",
              "      <td>0.000000</td>\n",
              "      <td>0.000000</td>\n",
              "      <td>0.000000</td>\n",
              "      <td>0.700000</td>\n",
              "      <td>50</td>\n",
              "      <td>65</td>\n",
              "      <td>-15</td>\n",
              "      <td>4</td>\n",
              "      <td>1</td>\n",
              "      <td>3</td>\n",
              "      <td>40</td>\n",
              "      <td>57</td>\n",
              "      <td>-17</td>\n",
              "      <td>11</td>\n",
              "      <td>9</td>\n",
              "      <td>2</td>\n",
              "      <td>3.636364</td>\n",
              "      <td>6.333333</td>\n",
              "      <td>-2.696970</td>\n",
              "      <td>0</td>\n",
              "      <td>0</td>\n",
              "      <td>1</td>\n",
              "      <td>0</td>\n",
              "      <td>0</td>\n",
              "      <td>0</td>\n",
              "      <td>0</td>\n",
              "      <td>0</td>\n",
              "      <td>0</td>\n",
              "      <td>0</td>\n",
              "      <td>0</td>\n",
              "      <td>0</td>\n",
              "      <td>0</td>\n",
              "      <td>0</td>\n",
              "      <td>0</td>\n",
              "      <td>0</td>\n",
              "      <td>0</td>\n",
              "      <td>0</td>\n",
              "      <td>1</td>\n",
              "      <td>0</td>\n",
              "      <td>1</td>\n",
              "      <td>0</td>\n",
              "      <td>0</td>\n",
              "    </tr>\n",
              "    <tr>\n",
              "      <th>4</th>\n",
              "      <td>0.000000</td>\n",
              "      <td>0.000000</td>\n",
              "      <td>0.000000</td>\n",
              "      <td>0.0</td>\n",
              "      <td>0.300000</td>\n",
              "      <td>0.400000</td>\n",
              "      <td>0.000000</td>\n",
              "      <td>0.000000</td>\n",
              "      <td>0.076923</td>\n",
              "      <td>-0.100000</td>\n",
              "      <td>76</td>\n",
              "      <td>39</td>\n",
              "      <td>37</td>\n",
              "      <td>1</td>\n",
              "      <td>1</td>\n",
              "      <td>0</td>\n",
              "      <td>64</td>\n",
              "      <td>33</td>\n",
              "      <td>31</td>\n",
              "      <td>13</td>\n",
              "      <td>7</td>\n",
              "      <td>6</td>\n",
              "      <td>4.923077</td>\n",
              "      <td>4.714286</td>\n",
              "      <td>0.208791</td>\n",
              "      <td>0</td>\n",
              "      <td>0</td>\n",
              "      <td>0</td>\n",
              "      <td>0</td>\n",
              "      <td>0</td>\n",
              "      <td>0</td>\n",
              "      <td>0</td>\n",
              "      <td>0</td>\n",
              "      <td>1</td>\n",
              "      <td>1</td>\n",
              "      <td>1</td>\n",
              "      <td>0</td>\n",
              "      <td>0</td>\n",
              "      <td>0</td>\n",
              "      <td>0</td>\n",
              "      <td>0</td>\n",
              "      <td>0</td>\n",
              "      <td>0</td>\n",
              "      <td>0</td>\n",
              "      <td>0</td>\n",
              "      <td>0</td>\n",
              "      <td>0</td>\n",
              "      <td>0</td>\n",
              "    </tr>\n",
              "    <tr>\n",
              "      <th>5</th>\n",
              "      <td>0.269175</td>\n",
              "      <td>0.518820</td>\n",
              "      <td>0.307692</td>\n",
              "      <td>4.0</td>\n",
              "      <td>0.875000</td>\n",
              "      <td>0.777778</td>\n",
              "      <td>0.100000</td>\n",
              "      <td>0.488688</td>\n",
              "      <td>0.250000</td>\n",
              "      <td>0.097222</td>\n",
              "      <td>86</td>\n",
              "      <td>90</td>\n",
              "      <td>-4</td>\n",
              "      <td>5</td>\n",
              "      <td>6</td>\n",
              "      <td>-1</td>\n",
              "      <td>71</td>\n",
              "      <td>75</td>\n",
              "      <td>-4</td>\n",
              "      <td>16</td>\n",
              "      <td>16</td>\n",
              "      <td>0</td>\n",
              "      <td>4.437500</td>\n",
              "      <td>4.687500</td>\n",
              "      <td>-0.250000</td>\n",
              "      <td>0</td>\n",
              "      <td>0</td>\n",
              "      <td>0</td>\n",
              "      <td>0</td>\n",
              "      <td>0</td>\n",
              "      <td>1</td>\n",
              "      <td>1</td>\n",
              "      <td>1</td>\n",
              "      <td>0</td>\n",
              "      <td>0</td>\n",
              "      <td>0</td>\n",
              "      <td>0</td>\n",
              "      <td>0</td>\n",
              "      <td>0</td>\n",
              "      <td>0</td>\n",
              "      <td>0</td>\n",
              "      <td>0</td>\n",
              "      <td>0</td>\n",
              "      <td>0</td>\n",
              "      <td>0</td>\n",
              "      <td>0</td>\n",
              "      <td>0</td>\n",
              "      <td>0</td>\n",
              "    </tr>\n",
              "    <tr>\n",
              "      <th>6</th>\n",
              "      <td>0.000000</td>\n",
              "      <td>0.000000</td>\n",
              "      <td>0.000000</td>\n",
              "      <td>0.0</td>\n",
              "      <td>1.000000</td>\n",
              "      <td>0.428571</td>\n",
              "      <td>0.000000</td>\n",
              "      <td>0.000000</td>\n",
              "      <td>0.000000</td>\n",
              "      <td>0.571429</td>\n",
              "      <td>19</td>\n",
              "      <td>62</td>\n",
              "      <td>-43</td>\n",
              "      <td>2</td>\n",
              "      <td>1</td>\n",
              "      <td>1</td>\n",
              "      <td>16</td>\n",
              "      <td>52</td>\n",
              "      <td>-36</td>\n",
              "      <td>4</td>\n",
              "      <td>11</td>\n",
              "      <td>-7</td>\n",
              "      <td>4.000000</td>\n",
              "      <td>4.727273</td>\n",
              "      <td>-0.727273</td>\n",
              "      <td>0</td>\n",
              "      <td>0</td>\n",
              "      <td>0</td>\n",
              "      <td>0</td>\n",
              "      <td>0</td>\n",
              "      <td>0</td>\n",
              "      <td>1</td>\n",
              "      <td>0</td>\n",
              "      <td>0</td>\n",
              "      <td>0</td>\n",
              "      <td>0</td>\n",
              "      <td>0</td>\n",
              "      <td>0</td>\n",
              "      <td>0</td>\n",
              "      <td>0</td>\n",
              "      <td>0</td>\n",
              "      <td>0</td>\n",
              "      <td>0</td>\n",
              "      <td>0</td>\n",
              "      <td>0</td>\n",
              "      <td>0</td>\n",
              "      <td>0</td>\n",
              "      <td>0</td>\n",
              "    </tr>\n",
              "    <tr>\n",
              "      <th>7</th>\n",
              "      <td>0.385400</td>\n",
              "      <td>0.620806</td>\n",
              "      <td>0.333333</td>\n",
              "      <td>1.0</td>\n",
              "      <td>2.500000</td>\n",
              "      <td>3.500000</td>\n",
              "      <td>0.071429</td>\n",
              "      <td>0.748695</td>\n",
              "      <td>0.111111</td>\n",
              "      <td>-1.000000</td>\n",
              "      <td>30</td>\n",
              "      <td>41</td>\n",
              "      <td>-11</td>\n",
              "      <td>2</td>\n",
              "      <td>2</td>\n",
              "      <td>0</td>\n",
              "      <td>24</td>\n",
              "      <td>33</td>\n",
              "      <td>-9</td>\n",
              "      <td>7</td>\n",
              "      <td>9</td>\n",
              "      <td>-2</td>\n",
              "      <td>3.428571</td>\n",
              "      <td>3.666667</td>\n",
              "      <td>-0.238095</td>\n",
              "      <td>0</td>\n",
              "      <td>0</td>\n",
              "      <td>1</td>\n",
              "      <td>0</td>\n",
              "      <td>0</td>\n",
              "      <td>0</td>\n",
              "      <td>1</td>\n",
              "      <td>0</td>\n",
              "      <td>0</td>\n",
              "      <td>0</td>\n",
              "      <td>0</td>\n",
              "      <td>0</td>\n",
              "      <td>0</td>\n",
              "      <td>0</td>\n",
              "      <td>0</td>\n",
              "      <td>0</td>\n",
              "      <td>0</td>\n",
              "      <td>0</td>\n",
              "      <td>0</td>\n",
              "      <td>0</td>\n",
              "      <td>0</td>\n",
              "      <td>0</td>\n",
              "      <td>0</td>\n",
              "    </tr>\n",
              "    <tr>\n",
              "      <th>8</th>\n",
              "      <td>0.198258</td>\n",
              "      <td>0.445262</td>\n",
              "      <td>0.333333</td>\n",
              "      <td>2.0</td>\n",
              "      <td>1.000000</td>\n",
              "      <td>1.000000</td>\n",
              "      <td>0.285714</td>\n",
              "      <td>0.318783</td>\n",
              "      <td>0.750000</td>\n",
              "      <td>0.000000</td>\n",
              "      <td>31</td>\n",
              "      <td>37</td>\n",
              "      <td>-6</td>\n",
              "      <td>1</td>\n",
              "      <td>1</td>\n",
              "      <td>0</td>\n",
              "      <td>24</td>\n",
              "      <td>30</td>\n",
              "      <td>-6</td>\n",
              "      <td>8</td>\n",
              "      <td>8</td>\n",
              "      <td>0</td>\n",
              "      <td>3.000000</td>\n",
              "      <td>3.750000</td>\n",
              "      <td>-0.750000</td>\n",
              "      <td>0</td>\n",
              "      <td>0</td>\n",
              "      <td>0</td>\n",
              "      <td>0</td>\n",
              "      <td>0</td>\n",
              "      <td>0</td>\n",
              "      <td>0</td>\n",
              "      <td>0</td>\n",
              "      <td>0</td>\n",
              "      <td>0</td>\n",
              "      <td>0</td>\n",
              "      <td>0</td>\n",
              "      <td>0</td>\n",
              "      <td>0</td>\n",
              "      <td>0</td>\n",
              "      <td>0</td>\n",
              "      <td>0</td>\n",
              "      <td>1</td>\n",
              "      <td>1</td>\n",
              "      <td>1</td>\n",
              "      <td>0</td>\n",
              "      <td>0</td>\n",
              "      <td>0</td>\n",
              "    </tr>\n",
              "    <tr>\n",
              "      <th>9</th>\n",
              "      <td>0.239904</td>\n",
              "      <td>0.489800</td>\n",
              "      <td>0.222222</td>\n",
              "      <td>2.0</td>\n",
              "      <td>0.500000</td>\n",
              "      <td>0.800000</td>\n",
              "      <td>0.062500</td>\n",
              "      <td>0.506342</td>\n",
              "      <td>0.000000</td>\n",
              "      <td>-0.300000</td>\n",
              "      <td>60</td>\n",
              "      <td>49</td>\n",
              "      <td>11</td>\n",
              "      <td>8</td>\n",
              "      <td>6</td>\n",
              "      <td>2</td>\n",
              "      <td>52</td>\n",
              "      <td>41</td>\n",
              "      <td>11</td>\n",
              "      <td>9</td>\n",
              "      <td>9</td>\n",
              "      <td>0</td>\n",
              "      <td>5.777778</td>\n",
              "      <td>4.555556</td>\n",
              "      <td>1.222222</td>\n",
              "      <td>0</td>\n",
              "      <td>0</td>\n",
              "      <td>0</td>\n",
              "      <td>1</td>\n",
              "      <td>0</td>\n",
              "      <td>0</td>\n",
              "      <td>0</td>\n",
              "      <td>0</td>\n",
              "      <td>0</td>\n",
              "      <td>0</td>\n",
              "      <td>0</td>\n",
              "      <td>0</td>\n",
              "      <td>0</td>\n",
              "      <td>0</td>\n",
              "      <td>0</td>\n",
              "      <td>0</td>\n",
              "      <td>0</td>\n",
              "      <td>0</td>\n",
              "      <td>0</td>\n",
              "      <td>0</td>\n",
              "      <td>0</td>\n",
              "      <td>0</td>\n",
              "      <td>0</td>\n",
              "    </tr>\n",
              "  </tbody>\n",
              "</table>\n",
              "</div>"
            ],
            "text/plain": [
              "   word_match  word_match_2root  tfidf_word_match  ...  q1_why  q2_why  why_both\n",
              "0    0.372560          0.610377          0.571429  ...       0       0         0\n",
              "1    0.256523          0.506481          0.181818  ...       0       0         0\n",
              "2    0.171507          0.414134          0.222222  ...       0       0         0\n",
              "3    0.000000          0.000000          0.000000  ...       1       0         0\n",
              "4    0.000000          0.000000          0.000000  ...       0       0         0\n",
              "5    0.269175          0.518820          0.307692  ...       0       0         0\n",
              "6    0.000000          0.000000          0.000000  ...       0       0         0\n",
              "7    0.385400          0.620806          0.333333  ...       0       0         0\n",
              "8    0.198258          0.445262          0.333333  ...       0       0         0\n",
              "9    0.239904          0.489800          0.222222  ...       0       0         0\n",
              "\n",
              "[10 rows x 48 columns]"
            ]
          },
          "metadata": {
            "tags": []
          },
          "execution_count": 15
        }
      ]
    },
    {
      "cell_type": "markdown",
      "metadata": {
        "id": "UemGe7GA0riX"
      },
      "source": [
        "**Feature Engineering**"
      ]
    },
    {
      "cell_type": "code",
      "metadata": {
        "colab": {
          "base_uri": "https://localhost:8080/",
          "height": 636
        },
        "id": "vlXGH--906-J",
        "outputId": "95e3d927-1a73-4dcc-d624-f81bfa77b199"
      },
      "source": [
        "x['is_duplicate'] = data_frame['is_duplicate']\n",
        "plt.subplots(figsize=(10,10))\n",
        "sns.heatmap(x.corr(), vmax=0.9, square=True)"
      ],
      "execution_count": 16,
      "outputs": [
        {
          "output_type": "execute_result",
          "data": {
            "text/plain": [
              "<matplotlib.axes._subplots.AxesSubplot at 0x7fe11578dac8>"
            ]
          },
          "metadata": {
            "tags": []
          },
          "execution_count": 16
        },
        {
          "output_type": "display_data",
          "data": {
            "image/png": "[encoded data removed]",
            "text/plain": [
              "<Figure size 720x720 with 2 Axes>"
            ]
          },
          "metadata": {
            "tags": [],
            "needs_background": "light"
          }
        }
      ]
    },
    {
      "cell_type": "code",
      "metadata": {
        "id": "SA8qLzWxRHJt",
        "colab": {
          "base_uri": "https://localhost:8080/"
        },
        "outputId": "40ef41f4-1107-4673-fd3e-e495b9d0a6a2"
      },
      "source": [
        "y = x.is_duplicate\n",
        "x.drop(labels=['is_duplicate'], inplace=True, axis=1)\n",
        "X_train, X_test, y_train, y_test = train_test_split(x, y, test_size=0.2, random_state=42)\n",
        "print(x.shape)\n",
        "print(X_train.shape)\n",
        "print(y_train.shape)\n",
        "print(X_test.shape)\n",
        "print(y_test.shape)"
      ],
      "execution_count": 17,
      "outputs": [
        {
          "output_type": "stream",
          "text": [
            "(404287, 48)\n",
            "(323429, 48)\n",
            "(323429,)\n",
            "(80858, 48)\n",
            "(80858,)\n"
          ],
          "name": "stdout"
        }
      ]
    },
    {
      "cell_type": "code",
      "metadata": {
        "id": "rHw2kwsFUeic",
        "colab": {
          "base_uri": "https://localhost:8080/"
        },
        "outputId": "f3ed0b42-21a0-4e82-db42-12317d05abf1"
      },
      "source": [
        "param = {'learning_rate': 0.1, \n",
        "         'boosting_type': 'dart', \n",
        "         'objective': 'binary', \n",
        "         'metric': 'binary_logloss', \n",
        "         'sub_feature': 0.5, \n",
        "         'num_leaves': 512, \n",
        "         'min_data': 50, \n",
        "         'min_hessian': 1}\n",
        "\n",
        "def train_lgb(X_train, y_train, X_test, y_test, param):\n",
        "  xg_train = lgb.Dataset(X_train, label=y_train)\n",
        "  xg_val = lgb.Dataset(X_test, label=y_test)\n",
        "  watchlist  = [xg_val]\n",
        "  ROUNDS = 190\n",
        "  print(\"Training started\\n\\n\")\n",
        "  clf = lgb.train(param, xg_train, ROUNDS, watchlist)\n",
        "  print(\"\\n\\nTraining completed\\n\")\n",
        "  return clf\n",
        "\n",
        "def pred_lgb(clf, X_test):\n",
        "  return clf.predict(X_test)\n",
        "\n",
        "lgb_model = train_lgb(X_train, y_train, X_test, y_test, param)"
      ],
      "execution_count": 18,
      "outputs": [
        {
          "output_type": "stream",
          "text": [
            "Training started\n",
            "\n",
            "\n",
            "[1]\tvalid_0's binary_logloss: 0.627492\n",
            "[2]\tvalid_0's binary_logloss: 0.598238\n",
            "[3]\tvalid_0's binary_logloss: 0.577729\n",
            "[4]\tvalid_0's binary_logloss: 0.557743\n",
            "[5]\tvalid_0's binary_logloss: 0.540521\n",
            "[6]\tvalid_0's binary_logloss: 0.524538\n",
            "[7]\tvalid_0's binary_logloss: 0.513252\n",
            "[8]\tvalid_0's binary_logloss: 0.519194\n",
            "[9]\tvalid_0's binary_logloss: 0.505705\n",
            "[10]\tvalid_0's binary_logloss: 0.495683\n",
            "[11]\tvalid_0's binary_logloss: 0.485596\n",
            "[12]\tvalid_0's binary_logloss: 0.489038\n",
            "[13]\tvalid_0's binary_logloss: 0.481305\n",
            "[14]\tvalid_0's binary_logloss: 0.473067\n",
            "[15]\tvalid_0's binary_logloss: 0.465583\n",
            "[16]\tvalid_0's binary_logloss: 0.459004\n",
            "[17]\tvalid_0's binary_logloss: 0.454431\n",
            "[18]\tvalid_0's binary_logloss: 0.44973\n",
            "[19]\tvalid_0's binary_logloss: 0.445027\n",
            "[20]\tvalid_0's binary_logloss: 0.441879\n",
            "[21]\tvalid_0's binary_logloss: 0.442783\n",
            "[22]\tvalid_0's binary_logloss: 0.43983\n",
            "[23]\tvalid_0's binary_logloss: 0.436222\n",
            "[24]\tvalid_0's binary_logloss: 0.432919\n",
            "[25]\tvalid_0's binary_logloss: 0.430692\n",
            "[26]\tvalid_0's binary_logloss: 0.428204\n",
            "[27]\tvalid_0's binary_logloss: 0.425602\n",
            "[28]\tvalid_0's binary_logloss: 0.426586\n",
            "[29]\tvalid_0's binary_logloss: 0.42411\n",
            "[30]\tvalid_0's binary_logloss: 0.422361\n",
            "[31]\tvalid_0's binary_logloss: 0.422755\n",
            "[32]\tvalid_0's binary_logloss: 0.420806\n",
            "[33]\tvalid_0's binary_logloss: 0.41933\n",
            "[34]\tvalid_0's binary_logloss: 0.417588\n",
            "[35]\tvalid_0's binary_logloss: 0.418135\n",
            "[36]\tvalid_0's binary_logloss: 0.419595\n",
            "[37]\tvalid_0's binary_logloss: 0.41784\n",
            "[38]\tvalid_0's binary_logloss: 0.416619\n",
            "[39]\tvalid_0's binary_logloss: 0.415041\n",
            "[40]\tvalid_0's binary_logloss: 0.414823\n",
            "[41]\tvalid_0's binary_logloss: 0.415784\n",
            "[42]\tvalid_0's binary_logloss: 0.414529\n",
            "[43]\tvalid_0's binary_logloss: 0.415471\n",
            "[44]\tvalid_0's binary_logloss: 0.413989\n",
            "[45]\tvalid_0's binary_logloss: 0.412806\n",
            "[46]\tvalid_0's binary_logloss: 0.414049\n",
            "[47]\tvalid_0's binary_logloss: 0.412681\n",
            "[48]\tvalid_0's binary_logloss: 0.412808\n",
            "[49]\tvalid_0's binary_logloss: 0.413702\n",
            "[50]\tvalid_0's binary_logloss: 0.414572\n",
            "[51]\tvalid_0's binary_logloss: 0.413495\n",
            "[52]\tvalid_0's binary_logloss: 0.412399\n",
            "[53]\tvalid_0's binary_logloss: 0.412941\n",
            "[54]\tvalid_0's binary_logloss: 0.411962\n",
            "[55]\tvalid_0's binary_logloss: 0.410865\n",
            "[56]\tvalid_0's binary_logloss: 0.411865\n",
            "[57]\tvalid_0's binary_logloss: 0.410745\n",
            "[58]\tvalid_0's binary_logloss: 0.411862\n",
            "[59]\tvalid_0's binary_logloss: 0.412832\n",
            "[60]\tvalid_0's binary_logloss: 0.41151\n",
            "[61]\tvalid_0's binary_logloss: 0.412542\n",
            "[62]\tvalid_0's binary_logloss: 0.411236\n",
            "[63]\tvalid_0's binary_logloss: 0.410328\n",
            "[64]\tvalid_0's binary_logloss: 0.410995\n",
            "[65]\tvalid_0's binary_logloss: 0.411524\n",
            "[66]\tvalid_0's binary_logloss: 0.410649\n",
            "[67]\tvalid_0's binary_logloss: 0.409824\n",
            "[68]\tvalid_0's binary_logloss: 0.408885\n",
            "[69]\tvalid_0's binary_logloss: 0.409387\n",
            "[70]\tvalid_0's binary_logloss: 0.409656\n",
            "[71]\tvalid_0's binary_logloss: 0.410258\n",
            "[72]\tvalid_0's binary_logloss: 0.409413\n",
            "[73]\tvalid_0's binary_logloss: 0.408365\n",
            "[74]\tvalid_0's binary_logloss: 0.40883\n",
            "[75]\tvalid_0's binary_logloss: 0.407798\n",
            "[76]\tvalid_0's binary_logloss: 0.407797\n",
            "[77]\tvalid_0's binary_logloss: 0.40821\n",
            "[78]\tvalid_0's binary_logloss: 0.408761\n",
            "[79]\tvalid_0's binary_logloss: 0.407817\n",
            "[80]\tvalid_0's binary_logloss: 0.406858\n",
            "[81]\tvalid_0's binary_logloss: 0.407329\n",
            "[82]\tvalid_0's binary_logloss: 0.40671\n",
            "[83]\tvalid_0's binary_logloss: 0.407157\n",
            "[84]\tvalid_0's binary_logloss: 0.407675\n",
            "[85]\tvalid_0's binary_logloss: 0.408194\n",
            "[86]\tvalid_0's binary_logloss: 0.407183\n",
            "[87]\tvalid_0's binary_logloss: 0.406285\n",
            "[88]\tvalid_0's binary_logloss: 0.406919\n",
            "[89]\tvalid_0's binary_logloss: 0.407302\n",
            "[90]\tvalid_0's binary_logloss: 0.407804\n",
            "[91]\tvalid_0's binary_logloss: 0.408352\n",
            "[92]\tvalid_0's binary_logloss: 0.407419\n",
            "[93]\tvalid_0's binary_logloss: 0.406478\n",
            "[94]\tvalid_0's binary_logloss: 0.406924\n",
            "[95]\tvalid_0's binary_logloss: 0.407337\n",
            "[96]\tvalid_0's binary_logloss: 0.407752\n",
            "[97]\tvalid_0's binary_logloss: 0.406909\n",
            "[98]\tvalid_0's binary_logloss: 0.407313\n",
            "[99]\tvalid_0's binary_logloss: 0.406397\n",
            "[100]\tvalid_0's binary_logloss: 0.405654\n",
            "[101]\tvalid_0's binary_logloss: 0.406276\n",
            "[102]\tvalid_0's binary_logloss: 0.406711\n",
            "[103]\tvalid_0's binary_logloss: 0.407141\n",
            "[104]\tvalid_0's binary_logloss: 0.406284\n",
            "[105]\tvalid_0's binary_logloss: 0.406832\n",
            "[106]\tvalid_0's binary_logloss: 0.407313\n",
            "[107]\tvalid_0's binary_logloss: 0.407864\n",
            "[108]\tvalid_0's binary_logloss: 0.407063\n",
            "[109]\tvalid_0's binary_logloss: 0.407482\n",
            "[110]\tvalid_0's binary_logloss: 0.407895\n",
            "[111]\tvalid_0's binary_logloss: 0.407214\n",
            "[112]\tvalid_0's binary_logloss: 0.406294\n",
            "[113]\tvalid_0's binary_logloss: 0.40568\n",
            "[114]\tvalid_0's binary_logloss: 0.404956\n",
            "[115]\tvalid_0's binary_logloss: 0.404216\n",
            "[116]\tvalid_0's binary_logloss: 0.403575\n",
            "[117]\tvalid_0's binary_logloss: 0.403873\n",
            "[118]\tvalid_0's binary_logloss: 0.403339\n",
            "[119]\tvalid_0's binary_logloss: 0.403643\n",
            "[120]\tvalid_0's binary_logloss: 0.404041\n",
            "[121]\tvalid_0's binary_logloss: 0.404425\n",
            "[122]\tvalid_0's binary_logloss: 0.404869\n",
            "[123]\tvalid_0's binary_logloss: 0.404258\n",
            "[124]\tvalid_0's binary_logloss: 0.403572\n",
            "[125]\tvalid_0's binary_logloss: 0.403912\n",
            "[126]\tvalid_0's binary_logloss: 0.404246\n",
            "[127]\tvalid_0's binary_logloss: 0.403674\n",
            "[128]\tvalid_0's binary_logloss: 0.404002\n",
            "[129]\tvalid_0's binary_logloss: 0.403225\n",
            "[130]\tvalid_0's binary_logloss: 0.402796\n",
            "[131]\tvalid_0's binary_logloss: 0.403066\n",
            "[132]\tvalid_0's binary_logloss: 0.402542\n",
            "[133]\tvalid_0's binary_logloss: 0.402063\n",
            "[134]\tvalid_0's binary_logloss: 0.40242\n",
            "[135]\tvalid_0's binary_logloss: 0.401811\n",
            "[136]\tvalid_0's binary_logloss: 0.402193\n",
            "[137]\tvalid_0's binary_logloss: 0.40247\n",
            "[138]\tvalid_0's binary_logloss: 0.402038\n",
            "[139]\tvalid_0's binary_logloss: 0.401454\n",
            "[140]\tvalid_0's binary_logloss: 0.401783\n",
            "[141]\tvalid_0's binary_logloss: 0.402069\n",
            "[142]\tvalid_0's binary_logloss: 0.402325\n",
            "[143]\tvalid_0's binary_logloss: 0.40186\n",
            "[144]\tvalid_0's binary_logloss: 0.402117\n",
            "[145]\tvalid_0's binary_logloss: 0.401585\n",
            "[146]\tvalid_0's binary_logloss: 0.401925\n",
            "[147]\tvalid_0's binary_logloss: 0.402236\n",
            "[148]\tvalid_0's binary_logloss: 0.402552\n",
            "[149]\tvalid_0's binary_logloss: 0.40192\n",
            "[150]\tvalid_0's binary_logloss: 0.40146\n",
            "[151]\tvalid_0's binary_logloss: 0.401793\n",
            "[152]\tvalid_0's binary_logloss: 0.402124\n",
            "[153]\tvalid_0's binary_logloss: 0.401611\n",
            "[154]\tvalid_0's binary_logloss: 0.401859\n",
            "[155]\tvalid_0's binary_logloss: 0.401311\n",
            "[156]\tvalid_0's binary_logloss: 0.401592\n",
            "[157]\tvalid_0's binary_logloss: 0.401742\n",
            "[158]\tvalid_0's binary_logloss: 0.402029\n",
            "[159]\tvalid_0's binary_logloss: 0.402333\n",
            "[160]\tvalid_0's binary_logloss: 0.402674\n",
            "[161]\tvalid_0's binary_logloss: 0.402006\n",
            "[162]\tvalid_0's binary_logloss: 0.402237\n",
            "[163]\tvalid_0's binary_logloss: 0.401784\n",
            "[164]\tvalid_0's binary_logloss: 0.401034\n",
            "[165]\tvalid_0's binary_logloss: 0.400463\n",
            "[166]\tvalid_0's binary_logloss: 0.40011\n",
            "[167]\tvalid_0's binary_logloss: 0.399741\n",
            "[168]\tvalid_0's binary_logloss: 0.399243\n",
            "[169]\tvalid_0's binary_logloss: 0.398848\n",
            "[170]\tvalid_0's binary_logloss: 0.399092\n",
            "[171]\tvalid_0's binary_logloss: 0.398788\n",
            "[172]\tvalid_0's binary_logloss: 0.399026\n",
            "[173]\tvalid_0's binary_logloss: 0.398715\n",
            "[174]\tvalid_0's binary_logloss: 0.398415\n",
            "[175]\tvalid_0's binary_logloss: 0.397938\n",
            "[176]\tvalid_0's binary_logloss: 0.398095\n",
            "[177]\tvalid_0's binary_logloss: 0.398294\n",
            "[178]\tvalid_0's binary_logloss: 0.398499\n",
            "[179]\tvalid_0's binary_logloss: 0.39808\n",
            "[180]\tvalid_0's binary_logloss: 0.398265\n",
            "[181]\tvalid_0's binary_logloss: 0.39787\n",
            "[182]\tvalid_0's binary_logloss: 0.397589\n",
            "[183]\tvalid_0's binary_logloss: 0.397198\n",
            "[184]\tvalid_0's binary_logloss: 0.396824\n",
            "[185]\tvalid_0's binary_logloss: 0.397031\n",
            "[186]\tvalid_0's binary_logloss: 0.396639\n",
            "[187]\tvalid_0's binary_logloss: 0.396313\n",
            "[188]\tvalid_0's binary_logloss: 0.39608\n",
            "[189]\tvalid_0's binary_logloss: 0.396252\n",
            "[190]\tvalid_0's binary_logloss: 0.39644\n",
            "\n",
            "\n",
            "Training completed\n",
            "\n"
          ],
          "name": "stdout"
        }
      ]
    },
    {
      "cell_type": "code",
      "metadata": {
        "colab": {
          "base_uri": "https://localhost:8080/"
        },
        "id": "ErrrFri3lZx1",
        "outputId": "cb680e20-d933-48da-d77d-9ee300e0b2cd"
      },
      "source": [
        "y_pred = lgb_model.predict(X_test)\r\n",
        "log_loss(y_test, y_pred)"
      ],
      "execution_count": 19,
      "outputs": [
        {
          "output_type": "execute_result",
          "data": {
            "text/plain": [
              "0.3964399575893999"
            ]
          },
          "metadata": {
            "tags": []
          },
          "execution_count": 19
        }
      ]
    },
    {
      "cell_type": "code",
      "metadata": {
        "id": "-BFrjPzhsozN",
        "colab": {
          "base_uri": "https://localhost:8080/"
        },
        "outputId": "0ac20b7d-0a33-40f3-8d32-4f4bf085db9d"
      },
      "source": [
        "param = {'max_depth': 2, 'eta': 1, 'objective': 'binary:logistic', 'nthread': 4, 'eval_metric': 'logloss'}\r\n",
        "def train_xgb(X_train, y_train, X_text, y_test, param):\r\n",
        "  xgb_train = xgb.DMatrix(X_train, label=y_train)\r\n",
        "  xgb_test = xgb.DMatrix(X_test, label=y_test)\r\n",
        "  evallist = [(xgb_test, 'eval'), (xgb_train, 'train')]\r\n",
        "  print(\"Traing started\\n\\n\")\r\n",
        "  clf = xgb.train(param, xgb_train, 200, evallist)\r\n",
        "  print(\"\\n\\nTraing completed\\n\")\r\n",
        "  return clf\r\n",
        "\r\n",
        "xgb_model = train_xgb(X_train, y_train, X_test, y_test, param)"
      ],
      "execution_count": 20,
      "outputs": [
        {
          "output_type": "stream",
          "text": [
            "Traing started\n",
            "\n",
            "\n",
            "[0]\teval-logloss:0.499383\ttrain-logloss:0.498829\n",
            "[1]\teval-logloss:0.471775\ttrain-logloss:0.471092\n",
            "[2]\teval-logloss:0.462815\ttrain-logloss:0.462323\n",
            "[3]\teval-logloss:0.459376\ttrain-logloss:0.458674\n",
            "[4]\teval-logloss:0.455296\ttrain-logloss:0.4551\n",
            "[5]\teval-logloss:0.453226\ttrain-logloss:0.452853\n",
            "[6]\teval-logloss:0.451134\ttrain-logloss:0.450572\n",
            "[7]\teval-logloss:0.449809\ttrain-logloss:0.449106\n",
            "[8]\teval-logloss:0.448417\ttrain-logloss:0.447618\n",
            "[9]\teval-logloss:0.446529\ttrain-logloss:0.445989\n",
            "[10]\teval-logloss:0.445688\ttrain-logloss:0.444867\n",
            "[11]\teval-logloss:0.445292\ttrain-logloss:0.444219\n",
            "[12]\teval-logloss:0.444739\ttrain-logloss:0.443624\n",
            "[13]\teval-logloss:0.443959\ttrain-logloss:0.442829\n",
            "[14]\teval-logloss:0.443513\ttrain-logloss:0.442178\n",
            "[15]\teval-logloss:0.443341\ttrain-logloss:0.441736\n",
            "[16]\teval-logloss:0.442644\ttrain-logloss:0.441182\n",
            "[17]\teval-logloss:0.442216\ttrain-logloss:0.440834\n",
            "[18]\teval-logloss:0.441496\ttrain-logloss:0.440176\n",
            "[19]\teval-logloss:0.441006\ttrain-logloss:0.439536\n",
            "[20]\teval-logloss:0.440481\ttrain-logloss:0.439081\n",
            "[21]\teval-logloss:0.440133\ttrain-logloss:0.438617\n",
            "[22]\teval-logloss:0.439991\ttrain-logloss:0.438371\n",
            "[23]\teval-logloss:0.439582\ttrain-logloss:0.43798\n",
            "[24]\teval-logloss:0.438836\ttrain-logloss:0.437337\n",
            "[25]\teval-logloss:0.43795\ttrain-logloss:0.436434\n",
            "[26]\teval-logloss:0.437603\ttrain-logloss:0.436095\n",
            "[27]\teval-logloss:0.43724\ttrain-logloss:0.435697\n",
            "[28]\teval-logloss:0.436788\ttrain-logloss:0.435381\n",
            "[29]\teval-logloss:0.436576\ttrain-logloss:0.435017\n",
            "[30]\teval-logloss:0.436067\ttrain-logloss:0.434494\n",
            "[31]\teval-logloss:0.435867\ttrain-logloss:0.434245\n",
            "[32]\teval-logloss:0.435606\ttrain-logloss:0.433954\n",
            "[33]\teval-logloss:0.435289\ttrain-logloss:0.433581\n",
            "[34]\teval-logloss:0.435116\ttrain-logloss:0.433413\n",
            "[35]\teval-logloss:0.435007\ttrain-logloss:0.433241\n",
            "[36]\teval-logloss:0.434945\ttrain-logloss:0.433073\n",
            "[37]\teval-logloss:0.434685\ttrain-logloss:0.432761\n",
            "[38]\teval-logloss:0.434551\ttrain-logloss:0.432607\n",
            "[39]\teval-logloss:0.434362\ttrain-logloss:0.432427\n",
            "[40]\teval-logloss:0.434202\ttrain-logloss:0.432274\n",
            "[41]\teval-logloss:0.433857\ttrain-logloss:0.432033\n",
            "[42]\teval-logloss:0.433713\ttrain-logloss:0.431825\n",
            "[43]\teval-logloss:0.433466\ttrain-logloss:0.431563\n",
            "[44]\teval-logloss:0.433269\ttrain-logloss:0.43129\n",
            "[45]\teval-logloss:0.433007\ttrain-logloss:0.431048\n",
            "[46]\teval-logloss:0.432945\ttrain-logloss:0.430875\n",
            "[47]\teval-logloss:0.432728\ttrain-logloss:0.430629\n",
            "[48]\teval-logloss:0.432598\ttrain-logloss:0.430444\n",
            "[49]\teval-logloss:0.432291\ttrain-logloss:0.430225\n",
            "[50]\teval-logloss:0.432179\ttrain-logloss:0.430059\n",
            "[51]\teval-logloss:0.431787\ttrain-logloss:0.429712\n",
            "[52]\teval-logloss:0.431618\ttrain-logloss:0.429507\n",
            "[53]\teval-logloss:0.431484\ttrain-logloss:0.42933\n",
            "[54]\teval-logloss:0.431153\ttrain-logloss:0.429014\n",
            "[55]\teval-logloss:0.431165\ttrain-logloss:0.428871\n",
            "[56]\teval-logloss:0.430957\ttrain-logloss:0.42874\n",
            "[57]\teval-logloss:0.430194\ttrain-logloss:0.427971\n",
            "[58]\teval-logloss:0.429956\ttrain-logloss:0.427765\n",
            "[59]\teval-logloss:0.429947\ttrain-logloss:0.427582\n",
            "[60]\teval-logloss:0.429694\ttrain-logloss:0.427425\n",
            "[61]\teval-logloss:0.429512\ttrain-logloss:0.427292\n",
            "[62]\teval-logloss:0.429312\ttrain-logloss:0.427036\n",
            "[63]\teval-logloss:0.429\ttrain-logloss:0.426957\n",
            "[64]\teval-logloss:0.428895\ttrain-logloss:0.426799\n",
            "[65]\teval-logloss:0.42875\ttrain-logloss:0.426662\n",
            "[66]\teval-logloss:0.428756\ttrain-logloss:0.42654\n",
            "[67]\teval-logloss:0.428747\ttrain-logloss:0.426463\n",
            "[68]\teval-logloss:0.428674\ttrain-logloss:0.426352\n",
            "[69]\teval-logloss:0.428589\ttrain-logloss:0.426263\n",
            "[70]\teval-logloss:0.428491\ttrain-logloss:0.426211\n",
            "[71]\teval-logloss:0.428404\ttrain-logloss:0.426156\n",
            "[72]\teval-logloss:0.42826\ttrain-logloss:0.425995\n",
            "[73]\teval-logloss:0.428118\ttrain-logloss:0.425882\n",
            "[74]\teval-logloss:0.427909\ttrain-logloss:0.425732\n",
            "[75]\teval-logloss:0.427846\ttrain-logloss:0.425623\n",
            "[76]\teval-logloss:0.427547\ttrain-logloss:0.42541\n",
            "[77]\teval-logloss:0.427526\ttrain-logloss:0.425303\n",
            "[78]\teval-logloss:0.427237\ttrain-logloss:0.425128\n",
            "[79]\teval-logloss:0.427014\ttrain-logloss:0.42495\n",
            "[80]\teval-logloss:0.426948\ttrain-logloss:0.424818\n",
            "[81]\teval-logloss:0.426929\ttrain-logloss:0.42474\n",
            "[82]\teval-logloss:0.426819\ttrain-logloss:0.424581\n",
            "[83]\teval-logloss:0.426722\ttrain-logloss:0.424447\n",
            "[84]\teval-logloss:0.426392\ttrain-logloss:0.424205\n",
            "[85]\teval-logloss:0.426326\ttrain-logloss:0.424001\n",
            "[86]\teval-logloss:0.425991\ttrain-logloss:0.423839\n",
            "[87]\teval-logloss:0.425941\ttrain-logloss:0.423708\n",
            "[88]\teval-logloss:0.425673\ttrain-logloss:0.423525\n",
            "[89]\teval-logloss:0.425472\ttrain-logloss:0.423332\n",
            "[90]\teval-logloss:0.425486\ttrain-logloss:0.423202\n",
            "[91]\teval-logloss:0.425115\ttrain-logloss:0.422902\n",
            "[92]\teval-logloss:0.42506\ttrain-logloss:0.422787\n",
            "[93]\teval-logloss:0.425022\ttrain-logloss:0.42264\n",
            "[94]\teval-logloss:0.424988\ttrain-logloss:0.422547\n",
            "[95]\teval-logloss:0.424902\ttrain-logloss:0.422453\n",
            "[96]\teval-logloss:0.424827\ttrain-logloss:0.422373\n",
            "[97]\teval-logloss:0.424864\ttrain-logloss:0.422294\n",
            "[98]\teval-logloss:0.424795\ttrain-logloss:0.422153\n",
            "[99]\teval-logloss:0.424732\ttrain-logloss:0.422051\n",
            "[100]\teval-logloss:0.424689\ttrain-logloss:0.421943\n",
            "[101]\teval-logloss:0.424569\ttrain-logloss:0.421828\n",
            "[102]\teval-logloss:0.424556\ttrain-logloss:0.421793\n",
            "[103]\teval-logloss:0.424582\ttrain-logloss:0.421731\n",
            "[104]\teval-logloss:0.424451\ttrain-logloss:0.421619\n",
            "[105]\teval-logloss:0.424368\ttrain-logloss:0.421545\n",
            "[106]\teval-logloss:0.424284\ttrain-logloss:0.421453\n",
            "[107]\teval-logloss:0.424206\ttrain-logloss:0.421405\n",
            "[108]\teval-logloss:0.424111\ttrain-logloss:0.421318\n",
            "[109]\teval-logloss:0.423866\ttrain-logloss:0.421132\n",
            "[110]\teval-logloss:0.423747\ttrain-logloss:0.420979\n",
            "[111]\teval-logloss:0.423583\ttrain-logloss:0.420872\n",
            "[112]\teval-logloss:0.423514\ttrain-logloss:0.420791\n",
            "[113]\teval-logloss:0.423546\ttrain-logloss:0.42073\n",
            "[114]\teval-logloss:0.423432\ttrain-logloss:0.420607\n",
            "[115]\teval-logloss:0.423463\ttrain-logloss:0.420556\n",
            "[116]\teval-logloss:0.423488\ttrain-logloss:0.420444\n",
            "[117]\teval-logloss:0.42344\ttrain-logloss:0.420364\n",
            "[118]\teval-logloss:0.423397\ttrain-logloss:0.420275\n",
            "[119]\teval-logloss:0.423425\ttrain-logloss:0.420239\n",
            "[120]\teval-logloss:0.423344\ttrain-logloss:0.420083\n",
            "[121]\teval-logloss:0.42307\ttrain-logloss:0.419911\n",
            "[122]\teval-logloss:0.422966\ttrain-logloss:0.419795\n",
            "[123]\teval-logloss:0.422833\ttrain-logloss:0.41963\n",
            "[124]\teval-logloss:0.422792\ttrain-logloss:0.419492\n",
            "[125]\teval-logloss:0.422736\ttrain-logloss:0.419347\n",
            "[126]\teval-logloss:0.422602\ttrain-logloss:0.419236\n",
            "[127]\teval-logloss:0.42255\ttrain-logloss:0.419149\n",
            "[128]\teval-logloss:0.42249\ttrain-logloss:0.419047\n",
            "[129]\teval-logloss:0.422498\ttrain-logloss:0.418948\n",
            "[130]\teval-logloss:0.422402\ttrain-logloss:0.418846\n",
            "[131]\teval-logloss:0.422381\ttrain-logloss:0.418772\n",
            "[132]\teval-logloss:0.422337\ttrain-logloss:0.41872\n",
            "[133]\teval-logloss:0.422285\ttrain-logloss:0.418662\n",
            "[134]\teval-logloss:0.422257\ttrain-logloss:0.418614\n",
            "[135]\teval-logloss:0.422146\ttrain-logloss:0.418421\n",
            "[136]\teval-logloss:0.422114\ttrain-logloss:0.418361\n",
            "[137]\teval-logloss:0.422079\ttrain-logloss:0.418279\n",
            "[138]\teval-logloss:0.422062\ttrain-logloss:0.418214\n",
            "[139]\teval-logloss:0.421968\ttrain-logloss:0.41813\n",
            "[140]\teval-logloss:0.421923\ttrain-logloss:0.418027\n",
            "[141]\teval-logloss:0.421884\ttrain-logloss:0.417957\n",
            "[142]\teval-logloss:0.421688\ttrain-logloss:0.417793\n",
            "[143]\teval-logloss:0.421613\ttrain-logloss:0.41768\n",
            "[144]\teval-logloss:0.421614\ttrain-logloss:0.417645\n",
            "[145]\teval-logloss:0.421535\ttrain-logloss:0.417577\n",
            "[146]\teval-logloss:0.421617\ttrain-logloss:0.417505\n",
            "[147]\teval-logloss:0.421519\ttrain-logloss:0.417422\n",
            "[148]\teval-logloss:0.421508\ttrain-logloss:0.417383\n",
            "[149]\teval-logloss:0.421463\ttrain-logloss:0.417333\n",
            "[150]\teval-logloss:0.421445\ttrain-logloss:0.41728\n",
            "[151]\teval-logloss:0.42132\ttrain-logloss:0.417175\n",
            "[152]\teval-logloss:0.42131\ttrain-logloss:0.417128\n",
            "[153]\teval-logloss:0.421285\ttrain-logloss:0.417038\n",
            "[154]\teval-logloss:0.421281\ttrain-logloss:0.416963\n",
            "[155]\teval-logloss:0.421226\ttrain-logloss:0.416881\n",
            "[156]\teval-logloss:0.421208\ttrain-logloss:0.416796\n",
            "[157]\teval-logloss:0.421224\ttrain-logloss:0.416725\n",
            "[158]\teval-logloss:0.421215\ttrain-logloss:0.416685\n",
            "[159]\teval-logloss:0.421196\ttrain-logloss:0.416639\n",
            "[160]\teval-logloss:0.421148\ttrain-logloss:0.416585\n",
            "[161]\teval-logloss:0.421094\ttrain-logloss:0.416504\n",
            "[162]\teval-logloss:0.420975\ttrain-logloss:0.416418\n",
            "[163]\teval-logloss:0.420967\ttrain-logloss:0.416372\n",
            "[164]\teval-logloss:0.420914\ttrain-logloss:0.416302\n",
            "[165]\teval-logloss:0.420829\ttrain-logloss:0.416252\n",
            "[166]\teval-logloss:0.420814\ttrain-logloss:0.416221\n",
            "[167]\teval-logloss:0.420819\ttrain-logloss:0.416203\n",
            "[168]\teval-logloss:0.42074\ttrain-logloss:0.41612\n",
            "[169]\teval-logloss:0.420657\ttrain-logloss:0.416052\n",
            "[170]\teval-logloss:0.420645\ttrain-logloss:0.415986\n",
            "[171]\teval-logloss:0.420579\ttrain-logloss:0.415924\n",
            "[172]\teval-logloss:0.420537\ttrain-logloss:0.415835\n",
            "[173]\teval-logloss:0.420489\ttrain-logloss:0.41577\n",
            "[174]\teval-logloss:0.420423\ttrain-logloss:0.4157\n",
            "[175]\teval-logloss:0.420314\ttrain-logloss:0.415609\n",
            "[176]\teval-logloss:0.420318\ttrain-logloss:0.415528\n",
            "[177]\teval-logloss:0.420312\ttrain-logloss:0.415469\n",
            "[178]\teval-logloss:0.420247\ttrain-logloss:0.415417\n",
            "[179]\teval-logloss:0.420241\ttrain-logloss:0.415349\n",
            "[180]\teval-logloss:0.420238\ttrain-logloss:0.415273\n",
            "[181]\teval-logloss:0.420204\ttrain-logloss:0.415226\n",
            "[182]\teval-logloss:0.420159\ttrain-logloss:0.415145\n",
            "[183]\teval-logloss:0.420099\ttrain-logloss:0.415071\n",
            "[184]\teval-logloss:0.420019\ttrain-logloss:0.415017\n",
            "[185]\teval-logloss:0.420042\ttrain-logloss:0.414958\n",
            "[186]\teval-logloss:0.420065\ttrain-logloss:0.414925\n",
            "[187]\teval-logloss:0.419986\ttrain-logloss:0.414891\n",
            "[188]\teval-logloss:0.420038\ttrain-logloss:0.414862\n",
            "[189]\teval-logloss:0.419972\ttrain-logloss:0.414813\n",
            "[190]\teval-logloss:0.419921\ttrain-logloss:0.41477\n",
            "[191]\teval-logloss:0.419997\ttrain-logloss:0.414726\n",
            "[192]\teval-logloss:0.420002\ttrain-logloss:0.41469\n",
            "[193]\teval-logloss:0.420042\ttrain-logloss:0.414636\n",
            "[194]\teval-logloss:0.419907\ttrain-logloss:0.414564\n",
            "[195]\teval-logloss:0.419878\ttrain-logloss:0.41451\n",
            "[196]\teval-logloss:0.419883\ttrain-logloss:0.414478\n",
            "[197]\teval-logloss:0.419871\ttrain-logloss:0.414463\n",
            "[198]\teval-logloss:0.419869\ttrain-logloss:0.41445\n",
            "[199]\teval-logloss:0.419846\ttrain-logloss:0.414407\n",
            "\n",
            "\n",
            "Traing completed\n",
            "\n"
          ],
          "name": "stdout"
        }
      ]
    },
    {
      "cell_type": "code",
      "metadata": {
        "colab": {
          "base_uri": "https://localhost:8080/"
        },
        "id": "rAgpElwDu2c8",
        "outputId": "19d37bfc-9f21-4d6c-cb6c-c79bd14bd4fe"
      },
      "source": [
        "def logLoss(model, X_test, y_test):\r\n",
        "  temp = xgb.DMatrix(X_test, label=y_test)\r\n",
        "  y_pred = xgb_model.predict(temp)\r\n",
        "  print(log_loss(y_test, y_pred))\r\n",
        "\r\n",
        "logLoss(xgb_model, X_train, y_train)"
      ],
      "execution_count": 21,
      "outputs": [
        {
          "output_type": "stream",
          "text": [
            "0.4144065469669878\n"
          ],
          "name": "stdout"
        }
      ]
    },
    {
      "cell_type": "code",
      "metadata": {
        "colab": {
          "base_uri": "https://localhost:8080/"
        },
        "id": "lnziekwy-Syu",
        "outputId": "c643b1e7-6026-45b3-a5b4-6995583b55d9"
      },
      "source": [
        "def train_rfc(X_train, y_train, X_test, y_test):\n",
        "  rfc = RandomForestClassifier(n_estimators=200, criterion='gini', max_depth=None, min_samples_split=2, min_samples_leaf=100, min_weight_fraction_leaf=0.0, \n",
        "                             max_features='sqrt', max_leaf_nodes=None, bootstrap=True, oob_score=True, n_jobs=1, random_state=1, verbose=0, warm_start=False, \n",
        "                             class_weight=None)\n",
        "  print(\"Training started\")\n",
        "  rfc.fit(X_train.fillna(0), y_train.fillna(0))\n",
        "  print(\"Training completed\")\n",
        "  return rfc\n",
        "\n",
        "rfc_model = train_rfc(X_train, y_train, X_test, y_test)"
      ],
      "execution_count": 22,
      "outputs": [
        {
          "output_type": "stream",
          "text": [
            "Training started\n",
            "Training completed\n"
          ],
          "name": "stdout"
        }
      ]
    },
    {
      "cell_type": "code",
      "metadata": {
        "colab": {
          "base_uri": "https://localhost:8080/"
        },
        "id": "ORCYYfYk-exG",
        "outputId": "fe9c8d87-f173-4457-b183-a84b6afd8d5d"
      },
      "source": [
        "y_pred = rfc_model.predict_proba(X_test.fillna(0))\n",
        "print(\"logloss : \", log_loss(y_test, y_pred))"
      ],
      "execution_count": 23,
      "outputs": [
        {
          "output_type": "stream",
          "text": [
            "logloss :  0.4252090864706484\n"
          ],
          "name": "stdout"
        }
      ]
    },
    {
      "cell_type": "code",
      "metadata": {
        "id": "LESVWRe5sC4Z"
      },
      "source": [
        "pickle.dump(lgb_model, open('model.pkl', 'wb'))\n",
        "mdl = pickle.load(open('model.pkl', 'rb'))"
      ],
      "execution_count": 24,
      "outputs": []
    },
    {
      "cell_type": "code",
      "metadata": {
        "id": "INc4siP0N5E8"
      },
      "source": [
        "import nltk\r\n",
        "import numpy as np\r\n",
        "from collections import Counter\r\n",
        "\r\n",
        "stop_words = set(nltk.corpus.stopwords.words('english'))\r\n",
        "\r\n",
        "def get_weight(count, epsilon=10000, min_count=2):\r\n",
        "  return 0 if count<min_count else 1/(count+epsilon)\r\n",
        "\r\n",
        "\r\n",
        "def feature_create(ques1, ques2):\r\n",
        "    word = (ques1 + \" \" + ques2).lower().split()\r\n",
        "    count = Counter(word)\r\n",
        "\r\n",
        "    weights = {word:get_weight(count) for word, count in count.items()}\r\n",
        "    q1_list = str(ques1).lower().split()\r\n",
        "    q2_list = str(ques2).lower().split()\r\n",
        "\r\n",
        "    q1 = set(q1_list)\r\n",
        "    q2 = set(q2_list)\r\n",
        "\r\n",
        "    q1_words = q1.difference(stop_words)\r\n",
        "    q2_words = q2.difference(stop_words)\r\n",
        "\r\n",
        "    q1_stop = q1.intersection(stop_words)\r\n",
        "    q2_stop = q2.intersection(stop_words)\r\n",
        "\r\n",
        "    q1_bigram = set([i for i in zip(q1_list, q1_list[1:])])\r\n",
        "    q2_bigram = set([i for i in zip(q2_list, q2_list[1:])])\r\n",
        "\r\n",
        "    common_bigram = q1_bigram.intersection(q2_bigram)\r\n",
        "    #common_words = q1.intersection(q2)\r\n",
        "\r\n",
        "    q1_weights = [weights.get(wrd, 0) for wrd in q1_words]\r\n",
        "    q2_weights = [weights.get(wrd, 0) for wrd in q2_words]\r\n",
        "\r\n",
        "    shared_words = q1_words.intersection(q2_words)\r\n",
        "    shared_weights = [weights.get(w, 0) for w in shared_words]\r\n",
        "\r\n",
        "    #common_weight = [weights.get(wrd, 0) for wrd in common_words]\r\n",
        "    total_weights = q1_weights = q2_weights\r\n",
        "    rcosine_denominator = (np.sqrt(np.dot(q1_weights,q1_weights)) * np.sqrt(np.dot(q2_weights,q2_weights)))\r\n",
        "    word_hamming = sum(1 for i in zip(q1_list, q2_list) if i[0]==i[1] )/max(len(q1_list), len(q2_list))\r\n",
        "\r\n",
        "    R1 = np.sum(shared_weights) / np.sum(total_weights) #tfidf share\r\n",
        "    R2 = len(shared_words) / (len(q1_words) + len(q2_words) - len(shared_words)) #count share\r\n",
        "    R31 = len(q1_stop) / len(q1_words) #stops in q1\r\n",
        "    R32 = len(q2_stop) / len(q2_words) #stops in q2\r\n",
        "    rcosine = np.dot(shared_weights, shared_weights)/rcosine_denominator\r\n",
        "\r\n",
        "    if len(q1_bigram) + len(q2_bigram) == 0:\r\n",
        "      r2gram = 0\r\n",
        "    else:\r\n",
        "      r2gram = len(common_bigram) / (len(q1_bigram) + len(q2_bigram))\r\n",
        "          \r\n",
        "    x = dict()\r\n",
        "    x['word_match']       = R1\r\n",
        "    x['word_match_2root'] = np.sqrt(x['word_match'])\r\n",
        "    x['tfidf_word_match'] = R2\r\n",
        "    x['shared_count']     = len(shared_words)\r\n",
        "    x['stops1_ratio']     = R31\r\n",
        "    x['stops2_ratio']     = R32\r\n",
        "    x['shared_2gram']     = r2gram\r\n",
        "    x['cosine']           = rcosine\r\n",
        "    x['words_hamming']    = word_hamming\r\n",
        "    x['diff_stops_r']     = x['stops1_ratio'] - x['stops2_ratio']\r\n",
        "    x['len_q1']           = len(str(ques1))\r\n",
        "    x['len_q2']           = len(str(ques2))\r\n",
        "    x['diff_len']         = x['len_q1'] - x['len_q2']\r\n",
        "    x['caps_count_q1']    = sum(1 for i in str(ques1) if i.isupper())\r\n",
        "    x['caps_count_q2']    = sum(1 for i in str(ques2) if i.isupper())\r\n",
        "    x['diff_caps']        = x['caps_count_q1'] - x['caps_count_q2']\r\n",
        "    x['len_char_q1']      = len(str(x).replace(' ', ''))\r\n",
        "    x['len_char_q2']      = len(str(x).replace(' ', ''))\r\n",
        "    x['diff_len_char']    = x['len_char_q1'] - x['len_char_q2']\r\n",
        "    x['len_word_q1']      = len(str(x).split())\r\n",
        "    x['len_word_q2']      = len(str(x).split())\r\n",
        "    x['diff_len_word']    = x['len_word_q1'] - x['len_word_q2']\r\n",
        "    x['avg_world_len1']   = x['len_char_q1'] / x['len_word_q1']\r\n",
        "    x['avg_world_len2']   = x['len_char_q2'] / x['len_word_q2']\r\n",
        "    x['diff_avg_word']    = x['avg_world_len1'] - x['avg_world_len2']\r\n",
        "    x['exactly_same']     = (ques1 == ques2)#.astype(int)\r\n",
        "    x['duplicated']       = (ques1 == ques2)#.astype(int)\r\n",
        "\r\n",
        "    def add_word_count(x, word):\r\n",
        "        x['q1_' + word] = (word in str(ques1).lower())*1\r\n",
        "        x['q2_' + word] = (word in str(ques2).lower())*1\r\n",
        "        x[word + '_both'] = x['q1_' + word] * x['q2_' + word]\r\n",
        "\r\n",
        "    add_word_count(x, 'how')\r\n",
        "    add_word_count(x, 'what')\r\n",
        "    add_word_count(x, 'which')\r\n",
        "    add_word_count(x, 'who')\r\n",
        "    add_word_count(x, 'where')\r\n",
        "    add_word_count(x, 'when')\r\n",
        "    add_word_count(x, 'why')\r\n",
        "    arr = np.array([[x[i] for i in x]])\r\n",
        "    return arr"
      ],
      "execution_count": 41,
      "outputs": []
    },
    {
      "cell_type": "code",
      "metadata": {
        "colab": {
          "base_uri": "https://localhost:8080/"
        },
        "id": "r60iB2MIOCW2",
        "outputId": "ed5008e1-9ff6-43d5-9393-5901aaed1eb2"
      },
      "source": [
        "# quest1 = input(\"quest1 : \")\r\n",
        "# quest2 = input('quest2 : ')\r\n",
        "\r\n",
        "ques11 = \"How do you identify binary classification problem?\"\r\n",
        "quest2 = \"What is binary classification?\"\r\n",
        "sample = feature_create(quest1, quest2)\r\n",
        "p = mdl.predict(sample)\r\n",
        "if p > 0.5 :\r\n",
        "  print('Similar question')\r\n",
        "else:\r\n",
        "  print('Not similar question')"
      ],
      "execution_count": 42,
      "outputs": [
        {
          "output_type": "stream",
          "text": [
            "Not similar question\n"
          ],
          "name": "stdout"
        }
      ]
    },
    {
      "cell_type": "code",
      "metadata": {
        "id": "jVFcBUCGOY0I"
      },
      "source": [
        ""
      ],
      "execution_count": null,
      "outputs": []
    }
  ]
}